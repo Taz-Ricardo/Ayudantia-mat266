{
 "cells": [
  {
   "cell_type": "code",
   "execution_count": 3,
   "metadata": {},
   "outputs": [],
   "source": [
    "library(alr3) #Libreria de base de datos\n",
    "#library(car)\n",
    "#library(carData)\n",
    "library(model) #herramientas para revisar modelos\n",
    "library(readr) #Para leeer csv\n",
    "library(readxl) #para leer xls\n",
    "#install.packages(\"readr\")"
   ]
  },
  {
   "cell_type": "markdown",
   "metadata": {},
   "source": [
    "## Explicar qué es un data frame como funciona el $, el <- y usar help()"
   ]
  },
  {
   "cell_type": "code",
   "execution_count": 4,
   "metadata": {},
   "outputs": [
    {
     "data": {
      "text/html": [
       "<table>\n",
       "<caption>A data.frame: 193 × 2</caption>\n",
       "<thead>\n",
       "\t<tr><th></th><th scope=col>Fertility</th><th scope=col>PPgdp</th></tr>\n",
       "\t<tr><th></th><th scope=col>&lt;dbl&gt;</th><th scope=col>&lt;int&gt;</th></tr>\n",
       "</thead>\n",
       "<tbody>\n",
       "\t<tr><th scope=row>Afghanistan</th><td>6.80</td><td>   98</td></tr>\n",
       "\t<tr><th scope=row>Albania</th><td>2.28</td><td> 1317</td></tr>\n",
       "\t<tr><th scope=row>Algeria</th><td>2.80</td><td> 1784</td></tr>\n",
       "\t<tr><th scope=row>Angola</th><td>7.20</td><td>  739</td></tr>\n",
       "\t<tr><th scope=row>Argentina</th><td>2.44</td><td> 7163</td></tr>\n",
       "\t<tr><th scope=row>Armenia</th><td>1.15</td><td>  687</td></tr>\n",
       "\t<tr><th scope=row>Australia</th><td>1.70</td><td>18788</td></tr>\n",
       "\t<tr><th scope=row>Austria</th><td>1.28</td><td>23260</td></tr>\n",
       "\t<tr><th scope=row>Azerbaijan</th><td>2.10</td><td>  695</td></tr>\n",
       "\t<tr><th scope=row>Bahamas</th><td>2.29</td><td>14856</td></tr>\n",
       "\t<tr><th scope=row>Bahrain</th><td>2.66</td><td>12012</td></tr>\n",
       "\t<tr><th scope=row>Bangladesh</th><td>3.46</td><td>  345</td></tr>\n",
       "\t<tr><th scope=row>Barbados</th><td>1.50</td><td> 9255</td></tr>\n",
       "\t<tr><th scope=row>Belarus</th><td>1.20</td><td> 1217</td></tr>\n",
       "\t<tr><th scope=row>Belgium</th><td>1.66</td><td>22351</td></tr>\n",
       "\t<tr><th scope=row>Belize</th><td>3.15</td><td> 3123</td></tr>\n",
       "\t<tr><th scope=row>Benin</th><td>5.66</td><td>  361</td></tr>\n",
       "\t<tr><th scope=row>Bermuda</th><td>1.67</td><td>44579</td></tr>\n",
       "\t<tr><th scope=row>Bhutan</th><td>5.02</td><td>  241</td></tr>\n",
       "\t<tr><th scope=row>Bolivia</th><td>3.82</td><td>  935</td></tr>\n",
       "\t<tr><th scope=row>Bosnia-Herzegovina</th><td>1.30</td><td> 1117</td></tr>\n",
       "\t<tr><th scope=row>Botswana</th><td>3.70</td><td> 2872</td></tr>\n",
       "\t<tr><th scope=row>Brazil</th><td>2.21</td><td> 2888</td></tr>\n",
       "\t<tr><th scope=row>Brunei</th><td>2.48</td><td>12435</td></tr>\n",
       "\t<tr><th scope=row>Bulgaria</th><td>1.10</td><td> 1622</td></tr>\n",
       "\t<tr><th scope=row>Burkina.Faso</th><td>6.68</td><td>  203</td></tr>\n",
       "\t<tr><th scope=row>Burundi</th><td>6.80</td><td>  107</td></tr>\n",
       "\t<tr><th scope=row>Cambodia</th><td>4.77</td><td>  233</td></tr>\n",
       "\t<tr><th scope=row>Cameroon</th><td>4.61</td><td>  557</td></tr>\n",
       "\t<tr><th scope=row>Canada</th><td>1.48</td><td>22385</td></tr>\n",
       "\t<tr><th scope=row>⋮</th><td>⋮</td><td>⋮</td></tr>\n",
       "\t<tr><th scope=row>Sudan</th><td>4.39</td><td>  376</td></tr>\n",
       "\t<tr><th scope=row>Suriname</th><td>2.45</td><td> 1965</td></tr>\n",
       "\t<tr><th scope=row>Swaziland</th><td>4.54</td><td> 1204</td></tr>\n",
       "\t<tr><th scope=row>Sweden</th><td>1.64</td><td>23680</td></tr>\n",
       "\t<tr><th scope=row>Switzerland</th><td>1.41</td><td>34449</td></tr>\n",
       "\t<tr><th scope=row>Syria</th><td>3.32</td><td> 4976</td></tr>\n",
       "\t<tr><th scope=row>Tajikistan</th><td>3.06</td><td>  172</td></tr>\n",
       "\t<tr><th scope=row>Thailand</th><td>1.93</td><td> 1858</td></tr>\n",
       "\t<tr><th scope=row>Macedonia</th><td>1.90</td><td> 1723</td></tr>\n",
       "\t<tr><th scope=row>Timor-Leste</th><td>3.85</td><td>  438</td></tr>\n",
       "\t<tr><th scope=row>Togo</th><td>5.33</td><td>  273</td></tr>\n",
       "\t<tr><th scope=row>Tonga</th><td>3.71</td><td> 1284</td></tr>\n",
       "\t<tr><th scope=row>Trinidad.and.Tobago</th><td>1.55</td><td> 6817</td></tr>\n",
       "\t<tr><th scope=row>Tunisia</th><td>2.01</td><td> 2077</td></tr>\n",
       "\t<tr><th scope=row>Turkey</th><td>2.43</td><td> 2136</td></tr>\n",
       "\t<tr><th scope=row>Turkmenistan</th><td>2.70</td><td> 1263</td></tr>\n",
       "\t<tr><th scope=row>Uganda</th><td>7.10</td><td>  239</td></tr>\n",
       "\t<tr><th scope=row>Ukraine</th><td>1.15</td><td>  763</td></tr>\n",
       "\t<tr><th scope=row>United.Arab.Emirates</th><td>2.82</td><td>19816</td></tr>\n",
       "\t<tr><th scope=row>United.Kingdom</th><td>1.60</td><td>24186</td></tr>\n",
       "\t<tr><th scope=row>Tanzania</th><td>5.11</td><td>  263</td></tr>\n",
       "\t<tr><th scope=row>USA</th><td>2.11</td><td>34788</td></tr>\n",
       "\t<tr><th scope=row>Uruguay</th><td>2.30</td><td> 5514</td></tr>\n",
       "\t<tr><th scope=row>Uzbekistan</th><td>2.44</td><td>  418</td></tr>\n",
       "\t<tr><th scope=row>Vanuatu</th><td>4.13</td><td> 1085</td></tr>\n",
       "\t<tr><th scope=row>Venezuela</th><td>2.72</td><td> 5009</td></tr>\n",
       "\t<tr><th scope=row>Viet.Nam</th><td>2.30</td><td>  416</td></tr>\n",
       "\t<tr><th scope=row>Yemen</th><td>7.01</td><td>  431</td></tr>\n",
       "\t<tr><th scope=row>Zambia</th><td>5.64</td><td>  345</td></tr>\n",
       "\t<tr><th scope=row>Zimbabwe</th><td>3.90</td><td>  703</td></tr>\n",
       "</tbody>\n",
       "</table>\n"
      ],
      "text/latex": [
       "A data.frame: 193 × 2\n",
       "\\begin{tabular}{r|ll}\n",
       "  & Fertility & PPgdp\\\\\n",
       "  & <dbl> & <int>\\\\\n",
       "\\hline\n",
       "\tAfghanistan & 6.80 &    98\\\\\n",
       "\tAlbania & 2.28 &  1317\\\\\n",
       "\tAlgeria & 2.80 &  1784\\\\\n",
       "\tAngola & 7.20 &   739\\\\\n",
       "\tArgentina & 2.44 &  7163\\\\\n",
       "\tArmenia & 1.15 &   687\\\\\n",
       "\tAustralia & 1.70 & 18788\\\\\n",
       "\tAustria & 1.28 & 23260\\\\\n",
       "\tAzerbaijan & 2.10 &   695\\\\\n",
       "\tBahamas & 2.29 & 14856\\\\\n",
       "\tBahrain & 2.66 & 12012\\\\\n",
       "\tBangladesh & 3.46 &   345\\\\\n",
       "\tBarbados & 1.50 &  9255\\\\\n",
       "\tBelarus & 1.20 &  1217\\\\\n",
       "\tBelgium & 1.66 & 22351\\\\\n",
       "\tBelize & 3.15 &  3123\\\\\n",
       "\tBenin & 5.66 &   361\\\\\n",
       "\tBermuda & 1.67 & 44579\\\\\n",
       "\tBhutan & 5.02 &   241\\\\\n",
       "\tBolivia & 3.82 &   935\\\\\n",
       "\tBosnia-Herzegovina & 1.30 &  1117\\\\\n",
       "\tBotswana & 3.70 &  2872\\\\\n",
       "\tBrazil & 2.21 &  2888\\\\\n",
       "\tBrunei & 2.48 & 12435\\\\\n",
       "\tBulgaria & 1.10 &  1622\\\\\n",
       "\tBurkina.Faso & 6.68 &   203\\\\\n",
       "\tBurundi & 6.80 &   107\\\\\n",
       "\tCambodia & 4.77 &   233\\\\\n",
       "\tCameroon & 4.61 &   557\\\\\n",
       "\tCanada & 1.48 & 22385\\\\\n",
       "\t⋮ & ⋮ & ⋮\\\\\n",
       "\tSudan & 4.39 &   376\\\\\n",
       "\tSuriname & 2.45 &  1965\\\\\n",
       "\tSwaziland & 4.54 &  1204\\\\\n",
       "\tSweden & 1.64 & 23680\\\\\n",
       "\tSwitzerland & 1.41 & 34449\\\\\n",
       "\tSyria & 3.32 &  4976\\\\\n",
       "\tTajikistan & 3.06 &   172\\\\\n",
       "\tThailand & 1.93 &  1858\\\\\n",
       "\tMacedonia & 1.90 &  1723\\\\\n",
       "\tTimor-Leste & 3.85 &   438\\\\\n",
       "\tTogo & 5.33 &   273\\\\\n",
       "\tTonga & 3.71 &  1284\\\\\n",
       "\tTrinidad.and.Tobago & 1.55 &  6817\\\\\n",
       "\tTunisia & 2.01 &  2077\\\\\n",
       "\tTurkey & 2.43 &  2136\\\\\n",
       "\tTurkmenistan & 2.70 &  1263\\\\\n",
       "\tUganda & 7.10 &   239\\\\\n",
       "\tUkraine & 1.15 &   763\\\\\n",
       "\tUnited.Arab.Emirates & 2.82 & 19816\\\\\n",
       "\tUnited.Kingdom & 1.60 & 24186\\\\\n",
       "\tTanzania & 5.11 &   263\\\\\n",
       "\tUSA & 2.11 & 34788\\\\\n",
       "\tUruguay & 2.30 &  5514\\\\\n",
       "\tUzbekistan & 2.44 &   418\\\\\n",
       "\tVanuatu & 4.13 &  1085\\\\\n",
       "\tVenezuela & 2.72 &  5009\\\\\n",
       "\tViet.Nam & 2.30 &   416\\\\\n",
       "\tYemen & 7.01 &   431\\\\\n",
       "\tZambia & 5.64 &   345\\\\\n",
       "\tZimbabwe & 3.90 &   703\\\\\n",
       "\\end{tabular}\n"
      ],
      "text/markdown": [
       "\n",
       "A data.frame: 193 × 2\n",
       "\n",
       "| <!--/--> | Fertility &lt;dbl&gt; | PPgdp &lt;int&gt; |\n",
       "|---|---|---|\n",
       "| Afghanistan | 6.80 |    98 |\n",
       "| Albania | 2.28 |  1317 |\n",
       "| Algeria | 2.80 |  1784 |\n",
       "| Angola | 7.20 |   739 |\n",
       "| Argentina | 2.44 |  7163 |\n",
       "| Armenia | 1.15 |   687 |\n",
       "| Australia | 1.70 | 18788 |\n",
       "| Austria | 1.28 | 23260 |\n",
       "| Azerbaijan | 2.10 |   695 |\n",
       "| Bahamas | 2.29 | 14856 |\n",
       "| Bahrain | 2.66 | 12012 |\n",
       "| Bangladesh | 3.46 |   345 |\n",
       "| Barbados | 1.50 |  9255 |\n",
       "| Belarus | 1.20 |  1217 |\n",
       "| Belgium | 1.66 | 22351 |\n",
       "| Belize | 3.15 |  3123 |\n",
       "| Benin | 5.66 |   361 |\n",
       "| Bermuda | 1.67 | 44579 |\n",
       "| Bhutan | 5.02 |   241 |\n",
       "| Bolivia | 3.82 |   935 |\n",
       "| Bosnia-Herzegovina | 1.30 |  1117 |\n",
       "| Botswana | 3.70 |  2872 |\n",
       "| Brazil | 2.21 |  2888 |\n",
       "| Brunei | 2.48 | 12435 |\n",
       "| Bulgaria | 1.10 |  1622 |\n",
       "| Burkina.Faso | 6.68 |   203 |\n",
       "| Burundi | 6.80 |   107 |\n",
       "| Cambodia | 4.77 |   233 |\n",
       "| Cameroon | 4.61 |   557 |\n",
       "| Canada | 1.48 | 22385 |\n",
       "| ⋮ | ⋮ | ⋮ |\n",
       "| Sudan | 4.39 |   376 |\n",
       "| Suriname | 2.45 |  1965 |\n",
       "| Swaziland | 4.54 |  1204 |\n",
       "| Sweden | 1.64 | 23680 |\n",
       "| Switzerland | 1.41 | 34449 |\n",
       "| Syria | 3.32 |  4976 |\n",
       "| Tajikistan | 3.06 |   172 |\n",
       "| Thailand | 1.93 |  1858 |\n",
       "| Macedonia | 1.90 |  1723 |\n",
       "| Timor-Leste | 3.85 |   438 |\n",
       "| Togo | 5.33 |   273 |\n",
       "| Tonga | 3.71 |  1284 |\n",
       "| Trinidad.and.Tobago | 1.55 |  6817 |\n",
       "| Tunisia | 2.01 |  2077 |\n",
       "| Turkey | 2.43 |  2136 |\n",
       "| Turkmenistan | 2.70 |  1263 |\n",
       "| Uganda | 7.10 |   239 |\n",
       "| Ukraine | 1.15 |   763 |\n",
       "| United.Arab.Emirates | 2.82 | 19816 |\n",
       "| United.Kingdom | 1.60 | 24186 |\n",
       "| Tanzania | 5.11 |   263 |\n",
       "| USA | 2.11 | 34788 |\n",
       "| Uruguay | 2.30 |  5514 |\n",
       "| Uzbekistan | 2.44 |   418 |\n",
       "| Vanuatu | 4.13 |  1085 |\n",
       "| Venezuela | 2.72 |  5009 |\n",
       "| Viet.Nam | 2.30 |   416 |\n",
       "| Yemen | 7.01 |   431 |\n",
       "| Zambia | 5.64 |   345 |\n",
       "| Zimbabwe | 3.90 |   703 |\n",
       "\n"
      ],
      "text/plain": [
       "                     Fertility PPgdp\n",
       "Afghanistan          6.80         98\n",
       "Albania              2.28       1317\n",
       "Algeria              2.80       1784\n",
       "Angola               7.20        739\n",
       "Argentina            2.44       7163\n",
       "Armenia              1.15        687\n",
       "Australia            1.70      18788\n",
       "Austria              1.28      23260\n",
       "Azerbaijan           2.10        695\n",
       "Bahamas              2.29      14856\n",
       "Bahrain              2.66      12012\n",
       "Bangladesh           3.46        345\n",
       "Barbados             1.50       9255\n",
       "Belarus              1.20       1217\n",
       "Belgium              1.66      22351\n",
       "Belize               3.15       3123\n",
       "Benin                5.66        361\n",
       "Bermuda              1.67      44579\n",
       "Bhutan               5.02        241\n",
       "Bolivia              3.82        935\n",
       "Bosnia-Herzegovina   1.30       1117\n",
       "Botswana             3.70       2872\n",
       "Brazil               2.21       2888\n",
       "Brunei               2.48      12435\n",
       "Bulgaria             1.10       1622\n",
       "Burkina.Faso         6.68        203\n",
       "Burundi              6.80        107\n",
       "Cambodia             4.77        233\n",
       "Cameroon             4.61        557\n",
       "Canada               1.48      22385\n",
       "⋮                    ⋮         ⋮    \n",
       "Sudan                4.39        376\n",
       "Suriname             2.45       1965\n",
       "Swaziland            4.54       1204\n",
       "Sweden               1.64      23680\n",
       "Switzerland          1.41      34449\n",
       "Syria                3.32       4976\n",
       "Tajikistan           3.06        172\n",
       "Thailand             1.93       1858\n",
       "Macedonia            1.90       1723\n",
       "Timor-Leste          3.85        438\n",
       "Togo                 5.33        273\n",
       "Tonga                3.71       1284\n",
       "Trinidad.and.Tobago  1.55       6817\n",
       "Tunisia              2.01       2077\n",
       "Turkey               2.43       2136\n",
       "Turkmenistan         2.70       1263\n",
       "Uganda               7.10        239\n",
       "Ukraine              1.15        763\n",
       "United.Arab.Emirates 2.82      19816\n",
       "United.Kingdom       1.60      24186\n",
       "Tanzania             5.11        263\n",
       "USA                  2.11      34788\n",
       "Uruguay              2.30       5514\n",
       "Uzbekistan           2.44        418\n",
       "Vanuatu              4.13       1085\n",
       "Venezuela            2.72       5009\n",
       "Viet.Nam             2.30        416\n",
       "Yemen                7.01        431\n",
       "Zambia               5.64        345\n",
       "Zimbabwe             3.90        703"
      ]
     },
     "metadata": {},
     "output_type": "display_data"
    }
   ],
   "source": [
    "UN1"
   ]
  },
  {
   "cell_type": "code",
   "execution_count": 5,
   "metadata": {},
   "outputs": [
    {
     "data": {
      "text/html": [
       "<table>\n",
       "<caption>A data.frame: 10 × 2</caption>\n",
       "<thead>\n",
       "\t<tr><th></th><th scope=col>Fertility</th><th scope=col>PPgdp</th></tr>\n",
       "\t<tr><th></th><th scope=col>&lt;dbl&gt;</th><th scope=col>&lt;int&gt;</th></tr>\n",
       "</thead>\n",
       "<tbody>\n",
       "\t<tr><th scope=row>Afghanistan</th><td>6.80</td><td>   98</td></tr>\n",
       "\t<tr><th scope=row>Albania</th><td>2.28</td><td> 1317</td></tr>\n",
       "\t<tr><th scope=row>Algeria</th><td>2.80</td><td> 1784</td></tr>\n",
       "\t<tr><th scope=row>Angola</th><td>7.20</td><td>  739</td></tr>\n",
       "\t<tr><th scope=row>Argentina</th><td>2.44</td><td> 7163</td></tr>\n",
       "\t<tr><th scope=row>Armenia</th><td>1.15</td><td>  687</td></tr>\n",
       "\t<tr><th scope=row>Australia</th><td>1.70</td><td>18788</td></tr>\n",
       "\t<tr><th scope=row>Austria</th><td>1.28</td><td>23260</td></tr>\n",
       "\t<tr><th scope=row>Azerbaijan</th><td>2.10</td><td>  695</td></tr>\n",
       "\t<tr><th scope=row>Bahamas</th><td>2.29</td><td>14856</td></tr>\n",
       "</tbody>\n",
       "</table>\n"
      ],
      "text/latex": [
       "A data.frame: 10 × 2\n",
       "\\begin{tabular}{r|ll}\n",
       "  & Fertility & PPgdp\\\\\n",
       "  & <dbl> & <int>\\\\\n",
       "\\hline\n",
       "\tAfghanistan & 6.80 &    98\\\\\n",
       "\tAlbania & 2.28 &  1317\\\\\n",
       "\tAlgeria & 2.80 &  1784\\\\\n",
       "\tAngola & 7.20 &   739\\\\\n",
       "\tArgentina & 2.44 &  7163\\\\\n",
       "\tArmenia & 1.15 &   687\\\\\n",
       "\tAustralia & 1.70 & 18788\\\\\n",
       "\tAustria & 1.28 & 23260\\\\\n",
       "\tAzerbaijan & 2.10 &   695\\\\\n",
       "\tBahamas & 2.29 & 14856\\\\\n",
       "\\end{tabular}\n"
      ],
      "text/markdown": [
       "\n",
       "A data.frame: 10 × 2\n",
       "\n",
       "| <!--/--> | Fertility &lt;dbl&gt; | PPgdp &lt;int&gt; |\n",
       "|---|---|---|\n",
       "| Afghanistan | 6.80 |    98 |\n",
       "| Albania | 2.28 |  1317 |\n",
       "| Algeria | 2.80 |  1784 |\n",
       "| Angola | 7.20 |   739 |\n",
       "| Argentina | 2.44 |  7163 |\n",
       "| Armenia | 1.15 |   687 |\n",
       "| Australia | 1.70 | 18788 |\n",
       "| Austria | 1.28 | 23260 |\n",
       "| Azerbaijan | 2.10 |   695 |\n",
       "| Bahamas | 2.29 | 14856 |\n",
       "\n"
      ],
      "text/plain": [
       "            Fertility PPgdp\n",
       "Afghanistan 6.80         98\n",
       "Albania     2.28       1317\n",
       "Algeria     2.80       1784\n",
       "Angola      7.20        739\n",
       "Argentina   2.44       7163\n",
       "Armenia     1.15        687\n",
       "Australia   1.70      18788\n",
       "Austria     1.28      23260\n",
       "Azerbaijan  2.10        695\n",
       "Bahamas     2.29      14856"
      ]
     },
     "metadata": {},
     "output_type": "display_data"
    }
   ],
   "source": [
    "head(UN1,10)"
   ]
  },
  {
   "cell_type": "code",
   "execution_count": 6,
   "metadata": {},
   "outputs": [
    {
     "data": {
      "text/html": [
       "\n",
       "<table width=\"100%\" summary=\"page for UN1 {alr3}\"><tr><td>UN1 {alr3}</td><td style=\"text-align: right;\">R Documentation</td></tr></table>\n",
       "\n",
       "<h2> National statistics from the United Nations </h2>\n",
       "\n",
       "<h3>Description</h3>\n",
       "\n",
       "<p>Demographic data for 193\n",
       "places, mostly UN members, but also other areas like Hong Kong that are not\n",
       "independent countries.\n",
       "</p>\n",
       "\n",
       "\n",
       "<h3>Format</h3>\n",
       "\n",
       "<p>This data frame uses the locality name as a row label.  In some cases the\n",
       "geographic area is smaller than a country; for example Hong Kong.  The file\n",
       "contains the following columns:\n",
       "</p>\n",
       "\n",
       "<dl>\n",
       "<dt>Fertility</dt><dd><p>Expected number of live births per female, 2000</p>\n",
       "</dd>\n",
       "<dt>PPgdp</dt><dd><p>Per capita 2001 GDP, in US \\$</p>\n",
       "</dd>\n",
       "</dl>\n",
       "\n",
       "\n",
       "\n",
       "<h3>Details</h3>\n",
       "\n",
       "<p>These data were collected at published by the UN from a variety of sources.\n",
       "See original source for additional footnotes concerning values for\n",
       "individual countries.  Country names are given in the first column of the\n",
       "data file.  The same data, plus additional variables, is given in\n",
       "the file UN3.\n",
       "</p>\n",
       "\n",
       "\n",
       "<h3>Source</h3>\n",
       "\n",
       "<p><a href=\"http://unstats.un.org/unsd/demographic\">http://unstats.un.org/unsd/demographic</a>\n",
       "</p>\n",
       "\n",
       "\n",
       "<h3>References</h3>\n",
       "\n",
       "<p>Weisberg, S. (2005). <em>Applied Linear Regression</em>, 3rd edition. New York: Wiley, Problem 1.3.\n",
       "</p>\n",
       "\n",
       "\n",
       "<h3>Examples</h3>\n",
       "\n",
       "<pre>\n",
       "head(UN1)\n",
       "</pre>\n",
       "\n",
       "<hr /><div style=\"text-align: center;\">[Package <em>alr3</em> version 2.0.8 ]</div>"
      ],
      "text/latex": [
       "\\inputencoding{utf8}\n",
       "\\HeaderA{UN1}{ National statistics from the United Nations }{UN1}\n",
       "\\keyword{datasets}{UN1}\n",
       "%\n",
       "\\begin{Description}\\relax\n",
       "Demographic data for 193\n",
       "places, mostly UN members, but also other areas like Hong Kong that are not\n",
       "independent countries.\n",
       "\\end{Description}\n",
       "%\n",
       "\\begin{Format}\n",
       "This data frame uses the locality name as a row label.  In some cases the\n",
       "geographic area is smaller than a country; for example Hong Kong.  The file\n",
       "contains the following columns:\n",
       "\\begin{description}\n",
       "\n",
       "\\item[Fertility] Expected number of live births per female, 2000\n",
       "\\item[PPgdp] Per capita 2001 GDP, in US \\bsl{}\\$\n",
       "\n",
       "\\end{description}\n",
       "\n",
       "\\end{Format}\n",
       "%\n",
       "\\begin{Details}\\relax\n",
       "These data were collected at published by the UN from a variety of sources.\n",
       "See original source for additional footnotes concerning values for\n",
       "individual countries.  Country names are given in the first column of the\n",
       "data file.  The same data, plus additional variables, is given in\n",
       "the file \\LinkA{UN3}{UN3}.\n",
       "\\end{Details}\n",
       "%\n",
       "\\begin{Source}\\relax\n",
       "\\url{http://unstats.un.org/unsd/demographic}\n",
       "\\end{Source}\n",
       "%\n",
       "\\begin{References}\\relax\n",
       "Weisberg, S. (2005). \\emph{Applied Linear Regression}, 3rd edition. New York: Wiley, Problem 1.3.\n",
       "\\end{References}\n",
       "%\n",
       "\\begin{Examples}\n",
       "\\begin{ExampleCode}\n",
       "head(UN1)\n",
       "\\end{ExampleCode}\n",
       "\\end{Examples}"
      ],
      "text/plain": [
       "UN1                    package:alr3                    R Documentation\n",
       "\n",
       "_\bN_\ba_\bt_\bi_\bo_\bn_\ba_\bl _\bs_\bt_\ba_\bt_\bi_\bs_\bt_\bi_\bc_\bs _\bf_\br_\bo_\bm _\bt_\bh_\be _\bU_\bn_\bi_\bt_\be_\bd _\bN_\ba_\bt_\bi_\bo_\bn_\bs\n",
       "\n",
       "_\bD_\be_\bs_\bc_\br_\bi_\bp_\bt_\bi_\bo_\bn:\n",
       "\n",
       "     Demographic data for 193 places, mostly UN members, but also other\n",
       "     areas like Hong Kong that are not independent countries.\n",
       "\n",
       "_\bF_\bo_\br_\bm_\ba_\bt:\n",
       "\n",
       "     This data frame uses the locality name as a row label.  In some\n",
       "     cases the geographic area is smaller than a country; for example\n",
       "     Hong Kong.  The file contains the following columns:\n",
       "\n",
       "     Fertility Expected number of live births per female, 2000\n",
       "\n",
       "     PPgdp Per capita 2001 GDP, in US \\$\n",
       "\n",
       "_\bD_\be_\bt_\ba_\bi_\bl_\bs:\n",
       "\n",
       "     These data were collected at published by the UN from a variety of\n",
       "     sources.  See original source for additional footnotes concerning\n",
       "     values for individual countries.  Country names are given in the\n",
       "     first column of the data file.  The same data, plus additional\n",
       "     variables, is given in the file UN3.\n",
       "\n",
       "_\bS_\bo_\bu_\br_\bc_\be:\n",
       "\n",
       "     <URL: http://unstats.un.org/unsd/demographic>\n",
       "\n",
       "_\bR_\be_\bf_\be_\br_\be_\bn_\bc_\be_\bs:\n",
       "\n",
       "     Weisberg, S. (2005). _Applied Linear Regression_, 3rd edition. New\n",
       "     York: Wiley, Problem 1.3.\n",
       "\n",
       "_\bE_\bx_\ba_\bm_\bp_\bl_\be_\bs:\n",
       "\n",
       "     head(UN1)\n",
       "     "
      ]
     },
     "metadata": {},
     "output_type": "display_data"
    }
   ],
   "source": [
    "help(UN1)"
   ]
  },
  {
   "cell_type": "markdown",
   "metadata": {},
   "source": [
    "Los data frame se pueden entender de muchas maneras la primera sería entenderlo como una tabala de dos dimensiones en que se tienen N filas y M columnas, donde cada fila y columna que son identificables. Otra es que estos arreglos tienen algo así como 2,5 dimensiones producto de poder identificar y separar los objetos, pues es una tabla de base de datos."
   ]
  },
  {
   "cell_type": "code",
   "execution_count": 7,
   "metadata": {},
   "outputs": [
    {
     "data": {
      "text/html": [
       "<style>\n",
       ".list-inline {list-style: none; margin:0; padding: 0}\n",
       ".list-inline>li {display: inline-block}\n",
       ".list-inline>li:not(:last-child)::after {content: \"\\00b7\"; padding: 0 .5ex}\n",
       "</style>\n",
       "<ol class=list-inline><li>6.8</li><li>2.28</li><li>2.8</li><li>7.2</li><li>2.44</li><li>1.15</li><li>1.7</li><li>1.28</li><li>2.1</li><li>2.29</li><li>2.66</li><li>3.46</li><li>1.5</li><li>1.2</li><li>1.66</li><li>3.15</li><li>5.66</li><li>1.67</li><li>5.02</li><li>3.82</li><li>1.3</li><li>3.7</li><li>2.21</li><li>2.48</li><li>1.1</li><li>6.68</li><li>6.8</li><li>4.77</li><li>4.61</li><li>1.48</li><li>3.3</li><li>4.92</li><li>6.65</li><li>2.35</li><li>1.83</li><li>1</li><li>1.1</li><li>2.62</li><li>4.9</li><li>6.29</li><li>3.5</li><li>2.28</li><li>4.73</li><li>1.65</li><li>1.55</li><li>1.9</li><li>1.16</li><li>6.7</li><li>1.77</li><li>5.7</li><li>2.71</li><li>2.76</li><li>3.29</li><li>2.88</li><li>5.89</li><li>5.43</li><li>1.22</li><li>6.14</li><li>2.88</li><li>1.73</li><li>1.89</li><li>3.33</li><li>2.44</li><li>3.99</li><li>4.7</li><li>1.4</li><li>1.35</li><li>4.11</li><li>1.27</li><li>2.1</li><li>4.41</li><li>5.82</li><li>7.1</li><li>2.31</li><li>3.98</li><li>3.72</li><li>1.2</li><li>1.95</li><li>3.01</li><li>2.35</li><li>2.33</li><li>1.9</li><li>2.7</li><li>1.23</li><li>2.36</li><li>1.32</li><li>3.57</li><li>1.95</li><li>4</li><li>3.8</li><li>1.41</li><li>2.02</li><li>2.66</li><li>2.64</li><li>4.78</li><li>1.1</li><li>2.18</li><li>3.84</li><li>6.8</li><li>3.02</li><li>1.64</li><li>1.25</li><li>1.73</li><li>5.7</li><li>6.1</li><li>2.9</li><li>5.33</li><li>7</li><li>1.77</li><li>3.68</li><li>1.9</li><li>5.79</li><li>1.95</li><li>2.5</li><li>3.8</li><li>2.42</li><li>2.75</li><li>5.63</li><li>4.56</li><li>4.26</li><li>1.72</li><li>2.05</li><li>2.45</li><li>2.01</li><li>3.75</li><li>8</li><li>5.42</li><li>1.8</li><li>4.96</li><li>5.08</li><li>3</li><li>2.7</li><li>4.09</li><li>3.84</li><li>2.86</li><li>3.18</li><li>1.26</li><li>1.45</li><li>1.89</li><li>3.22</li><li>1.4</li><li>2.3</li><li>1.32</li><li>1.14</li><li>5.74</li><li>2.41</li><li>2.27</li><li>2.23</li><li>4.12</li><li>3.99</li><li>4.53</li><li>4.97</li><li>1.65</li><li>2</li><li>6.5</li><li>1.36</li><li>1.28</li><li>1.14</li><li>4.42</li><li>7.25</li><li>2.61</li><li>1.15</li><li>2.01</li><li>4.39</li><li>2.45</li><li>4.54</li><li>1.64</li><li>1.41</li><li>3.32</li><li>3.06</li><li>1.93</li><li>1.9</li><li>3.85</li><li>5.33</li><li>3.71</li><li>1.55</li><li>2.01</li><li>2.43</li><li>2.7</li><li>7.1</li><li>1.15</li><li>2.82</li><li>1.6</li><li>5.11</li><li>2.11</li><li>2.3</li><li>2.44</li><li>4.13</li><li>2.72</li><li>2.3</li><li>7.01</li><li>5.64</li><li>3.9</li></ol>\n"
      ],
      "text/latex": [
       "\\begin{enumerate*}\n",
       "\\item 6.8\n",
       "\\item 2.28\n",
       "\\item 2.8\n",
       "\\item 7.2\n",
       "\\item 2.44\n",
       "\\item 1.15\n",
       "\\item 1.7\n",
       "\\item 1.28\n",
       "\\item 2.1\n",
       "\\item 2.29\n",
       "\\item 2.66\n",
       "\\item 3.46\n",
       "\\item 1.5\n",
       "\\item 1.2\n",
       "\\item 1.66\n",
       "\\item 3.15\n",
       "\\item 5.66\n",
       "\\item 1.67\n",
       "\\item 5.02\n",
       "\\item 3.82\n",
       "\\item 1.3\n",
       "\\item 3.7\n",
       "\\item 2.21\n",
       "\\item 2.48\n",
       "\\item 1.1\n",
       "\\item 6.68\n",
       "\\item 6.8\n",
       "\\item 4.77\n",
       "\\item 4.61\n",
       "\\item 1.48\n",
       "\\item 3.3\n",
       "\\item 4.92\n",
       "\\item 6.65\n",
       "\\item 2.35\n",
       "\\item 1.83\n",
       "\\item 1\n",
       "\\item 1.1\n",
       "\\item 2.62\n",
       "\\item 4.9\n",
       "\\item 6.29\n",
       "\\item 3.5\n",
       "\\item 2.28\n",
       "\\item 4.73\n",
       "\\item 1.65\n",
       "\\item 1.55\n",
       "\\item 1.9\n",
       "\\item 1.16\n",
       "\\item 6.7\n",
       "\\item 1.77\n",
       "\\item 5.7\n",
       "\\item 2.71\n",
       "\\item 2.76\n",
       "\\item 3.29\n",
       "\\item 2.88\n",
       "\\item 5.89\n",
       "\\item 5.43\n",
       "\\item 1.22\n",
       "\\item 6.14\n",
       "\\item 2.88\n",
       "\\item 1.73\n",
       "\\item 1.89\n",
       "\\item 3.33\n",
       "\\item 2.44\n",
       "\\item 3.99\n",
       "\\item 4.7\n",
       "\\item 1.4\n",
       "\\item 1.35\n",
       "\\item 4.11\n",
       "\\item 1.27\n",
       "\\item 2.1\n",
       "\\item 4.41\n",
       "\\item 5.82\n",
       "\\item 7.1\n",
       "\\item 2.31\n",
       "\\item 3.98\n",
       "\\item 3.72\n",
       "\\item 1.2\n",
       "\\item 1.95\n",
       "\\item 3.01\n",
       "\\item 2.35\n",
       "\\item 2.33\n",
       "\\item 1.9\n",
       "\\item 2.7\n",
       "\\item 1.23\n",
       "\\item 2.36\n",
       "\\item 1.32\n",
       "\\item 3.57\n",
       "\\item 1.95\n",
       "\\item 4\n",
       "\\item 3.8\n",
       "\\item 1.41\n",
       "\\item 2.02\n",
       "\\item 2.66\n",
       "\\item 2.64\n",
       "\\item 4.78\n",
       "\\item 1.1\n",
       "\\item 2.18\n",
       "\\item 3.84\n",
       "\\item 6.8\n",
       "\\item 3.02\n",
       "\\item 1.64\n",
       "\\item 1.25\n",
       "\\item 1.73\n",
       "\\item 5.7\n",
       "\\item 6.1\n",
       "\\item 2.9\n",
       "\\item 5.33\n",
       "\\item 7\n",
       "\\item 1.77\n",
       "\\item 3.68\n",
       "\\item 1.9\n",
       "\\item 5.79\n",
       "\\item 1.95\n",
       "\\item 2.5\n",
       "\\item 3.8\n",
       "\\item 2.42\n",
       "\\item 2.75\n",
       "\\item 5.63\n",
       "\\item 4.56\n",
       "\\item 4.26\n",
       "\\item 1.72\n",
       "\\item 2.05\n",
       "\\item 2.45\n",
       "\\item 2.01\n",
       "\\item 3.75\n",
       "\\item 8\n",
       "\\item 5.42\n",
       "\\item 1.8\n",
       "\\item 4.96\n",
       "\\item 5.08\n",
       "\\item 3\n",
       "\\item 2.7\n",
       "\\item 4.09\n",
       "\\item 3.84\n",
       "\\item 2.86\n",
       "\\item 3.18\n",
       "\\item 1.26\n",
       "\\item 1.45\n",
       "\\item 1.89\n",
       "\\item 3.22\n",
       "\\item 1.4\n",
       "\\item 2.3\n",
       "\\item 1.32\n",
       "\\item 1.14\n",
       "\\item 5.74\n",
       "\\item 2.41\n",
       "\\item 2.27\n",
       "\\item 2.23\n",
       "\\item 4.12\n",
       "\\item 3.99\n",
       "\\item 4.53\n",
       "\\item 4.97\n",
       "\\item 1.65\n",
       "\\item 2\n",
       "\\item 6.5\n",
       "\\item 1.36\n",
       "\\item 1.28\n",
       "\\item 1.14\n",
       "\\item 4.42\n",
       "\\item 7.25\n",
       "\\item 2.61\n",
       "\\item 1.15\n",
       "\\item 2.01\n",
       "\\item 4.39\n",
       "\\item 2.45\n",
       "\\item 4.54\n",
       "\\item 1.64\n",
       "\\item 1.41\n",
       "\\item 3.32\n",
       "\\item 3.06\n",
       "\\item 1.93\n",
       "\\item 1.9\n",
       "\\item 3.85\n",
       "\\item 5.33\n",
       "\\item 3.71\n",
       "\\item 1.55\n",
       "\\item 2.01\n",
       "\\item 2.43\n",
       "\\item 2.7\n",
       "\\item 7.1\n",
       "\\item 1.15\n",
       "\\item 2.82\n",
       "\\item 1.6\n",
       "\\item 5.11\n",
       "\\item 2.11\n",
       "\\item 2.3\n",
       "\\item 2.44\n",
       "\\item 4.13\n",
       "\\item 2.72\n",
       "\\item 2.3\n",
       "\\item 7.01\n",
       "\\item 5.64\n",
       "\\item 3.9\n",
       "\\end{enumerate*}\n"
      ],
      "text/markdown": [
       "1. 6.8\n",
       "2. 2.28\n",
       "3. 2.8\n",
       "4. 7.2\n",
       "5. 2.44\n",
       "6. 1.15\n",
       "7. 1.7\n",
       "8. 1.28\n",
       "9. 2.1\n",
       "10. 2.29\n",
       "11. 2.66\n",
       "12. 3.46\n",
       "13. 1.5\n",
       "14. 1.2\n",
       "15. 1.66\n",
       "16. 3.15\n",
       "17. 5.66\n",
       "18. 1.67\n",
       "19. 5.02\n",
       "20. 3.82\n",
       "21. 1.3\n",
       "22. 3.7\n",
       "23. 2.21\n",
       "24. 2.48\n",
       "25. 1.1\n",
       "26. 6.68\n",
       "27. 6.8\n",
       "28. 4.77\n",
       "29. 4.61\n",
       "30. 1.48\n",
       "31. 3.3\n",
       "32. 4.92\n",
       "33. 6.65\n",
       "34. 2.35\n",
       "35. 1.83\n",
       "36. 1\n",
       "37. 1.1\n",
       "38. 2.62\n",
       "39. 4.9\n",
       "40. 6.29\n",
       "41. 3.5\n",
       "42. 2.28\n",
       "43. 4.73\n",
       "44. 1.65\n",
       "45. 1.55\n",
       "46. 1.9\n",
       "47. 1.16\n",
       "48. 6.7\n",
       "49. 1.77\n",
       "50. 5.7\n",
       "51. 2.71\n",
       "52. 2.76\n",
       "53. 3.29\n",
       "54. 2.88\n",
       "55. 5.89\n",
       "56. 5.43\n",
       "57. 1.22\n",
       "58. 6.14\n",
       "59. 2.88\n",
       "60. 1.73\n",
       "61. 1.89\n",
       "62. 3.33\n",
       "63. 2.44\n",
       "64. 3.99\n",
       "65. 4.7\n",
       "66. 1.4\n",
       "67. 1.35\n",
       "68. 4.11\n",
       "69. 1.27\n",
       "70. 2.1\n",
       "71. 4.41\n",
       "72. 5.82\n",
       "73. 7.1\n",
       "74. 2.31\n",
       "75. 3.98\n",
       "76. 3.72\n",
       "77. 1.2\n",
       "78. 1.95\n",
       "79. 3.01\n",
       "80. 2.35\n",
       "81. 2.33\n",
       "82. 1.9\n",
       "83. 2.7\n",
       "84. 1.23\n",
       "85. 2.36\n",
       "86. 1.32\n",
       "87. 3.57\n",
       "88. 1.95\n",
       "89. 4\n",
       "90. 3.8\n",
       "91. 1.41\n",
       "92. 2.02\n",
       "93. 2.66\n",
       "94. 2.64\n",
       "95. 4.78\n",
       "96. 1.1\n",
       "97. 2.18\n",
       "98. 3.84\n",
       "99. 6.8\n",
       "100. 3.02\n",
       "101. 1.64\n",
       "102. 1.25\n",
       "103. 1.73\n",
       "104. 5.7\n",
       "105. 6.1\n",
       "106. 2.9\n",
       "107. 5.33\n",
       "108. 7\n",
       "109. 1.77\n",
       "110. 3.68\n",
       "111. 1.9\n",
       "112. 5.79\n",
       "113. 1.95\n",
       "114. 2.5\n",
       "115. 3.8\n",
       "116. 2.42\n",
       "117. 2.75\n",
       "118. 5.63\n",
       "119. 4.56\n",
       "120. 4.26\n",
       "121. 1.72\n",
       "122. 2.05\n",
       "123. 2.45\n",
       "124. 2.01\n",
       "125. 3.75\n",
       "126. 8\n",
       "127. 5.42\n",
       "128. 1.8\n",
       "129. 4.96\n",
       "130. 5.08\n",
       "131. 3\n",
       "132. 2.7\n",
       "133. 4.09\n",
       "134. 3.84\n",
       "135. 2.86\n",
       "136. 3.18\n",
       "137. 1.26\n",
       "138. 1.45\n",
       "139. 1.89\n",
       "140. 3.22\n",
       "141. 1.4\n",
       "142. 2.3\n",
       "143. 1.32\n",
       "144. 1.14\n",
       "145. 5.74\n",
       "146. 2.41\n",
       "147. 2.27\n",
       "148. 2.23\n",
       "149. 4.12\n",
       "150. 3.99\n",
       "151. 4.53\n",
       "152. 4.97\n",
       "153. 1.65\n",
       "154. 2\n",
       "155. 6.5\n",
       "156. 1.36\n",
       "157. 1.28\n",
       "158. 1.14\n",
       "159. 4.42\n",
       "160. 7.25\n",
       "161. 2.61\n",
       "162. 1.15\n",
       "163. 2.01\n",
       "164. 4.39\n",
       "165. 2.45\n",
       "166. 4.54\n",
       "167. 1.64\n",
       "168. 1.41\n",
       "169. 3.32\n",
       "170. 3.06\n",
       "171. 1.93\n",
       "172. 1.9\n",
       "173. 3.85\n",
       "174. 5.33\n",
       "175. 3.71\n",
       "176. 1.55\n",
       "177. 2.01\n",
       "178. 2.43\n",
       "179. 2.7\n",
       "180. 7.1\n",
       "181. 1.15\n",
       "182. 2.82\n",
       "183. 1.6\n",
       "184. 5.11\n",
       "185. 2.11\n",
       "186. 2.3\n",
       "187. 2.44\n",
       "188. 4.13\n",
       "189. 2.72\n",
       "190. 2.3\n",
       "191. 7.01\n",
       "192. 5.64\n",
       "193. 3.9\n",
       "\n",
       "\n"
      ],
      "text/plain": [
       "  [1] 6.80 2.28 2.80 7.20 2.44 1.15 1.70 1.28 2.10 2.29 2.66 3.46 1.50 1.20 1.66\n",
       " [16] 3.15 5.66 1.67 5.02 3.82 1.30 3.70 2.21 2.48 1.10 6.68 6.80 4.77 4.61 1.48\n",
       " [31] 3.30 4.92 6.65 2.35 1.83 1.00 1.10 2.62 4.90 6.29 3.50 2.28 4.73 1.65 1.55\n",
       " [46] 1.90 1.16 6.70 1.77 5.70 2.71 2.76 3.29 2.88 5.89 5.43 1.22 6.14 2.88 1.73\n",
       " [61] 1.89 3.33 2.44 3.99 4.70 1.40 1.35 4.11 1.27 2.10 4.41 5.82 7.10 2.31 3.98\n",
       " [76] 3.72 1.20 1.95 3.01 2.35 2.33 1.90 2.70 1.23 2.36 1.32 3.57 1.95 4.00 3.80\n",
       " [91] 1.41 2.02 2.66 2.64 4.78 1.10 2.18 3.84 6.80 3.02 1.64 1.25 1.73 5.70 6.10\n",
       "[106] 2.90 5.33 7.00 1.77 3.68 1.90 5.79 1.95 2.50 3.80 2.42 2.75 5.63 4.56 4.26\n",
       "[121] 1.72 2.05 2.45 2.01 3.75 8.00 5.42 1.80 4.96 5.08 3.00 2.70 4.09 3.84 2.86\n",
       "[136] 3.18 1.26 1.45 1.89 3.22 1.40 2.30 1.32 1.14 5.74 2.41 2.27 2.23 4.12 3.99\n",
       "[151] 4.53 4.97 1.65 2.00 6.50 1.36 1.28 1.14 4.42 7.25 2.61 1.15 2.01 4.39 2.45\n",
       "[166] 4.54 1.64 1.41 3.32 3.06 1.93 1.90 3.85 5.33 3.71 1.55 2.01 2.43 2.70 7.10\n",
       "[181] 1.15 2.82 1.60 5.11 2.11 2.30 2.44 4.13 2.72 2.30 7.01 5.64 3.90"
      ]
     },
     "metadata": {},
     "output_type": "display_data"
    }
   ],
   "source": [
    "UN1$Fertility"
   ]
  },
  {
   "cell_type": "code",
   "execution_count": 19,
   "metadata": {},
   "outputs": [
    {
     "data": {
      "text/html": [
       "<table>\n",
       "<caption>A data.frame: 6 × 1</caption>\n",
       "<thead>\n",
       "\t<tr><th></th><th scope=col>Fertility</th></tr>\n",
       "\t<tr><th></th><th scope=col>&lt;dbl&gt;</th></tr>\n",
       "</thead>\n",
       "<tbody>\n",
       "\t<tr><th scope=row>Afghanistan</th><td>6.80</td></tr>\n",
       "\t<tr><th scope=row>Albania</th><td>2.28</td></tr>\n",
       "\t<tr><th scope=row>Algeria</th><td>2.80</td></tr>\n",
       "\t<tr><th scope=row>Angola</th><td>7.20</td></tr>\n",
       "\t<tr><th scope=row>Argentina</th><td>2.44</td></tr>\n",
       "\t<tr><th scope=row>Armenia</th><td>1.15</td></tr>\n",
       "</tbody>\n",
       "</table>\n"
      ],
      "text/latex": [
       "A data.frame: 6 × 1\n",
       "\\begin{tabular}{r|l}\n",
       "  & Fertility\\\\\n",
       "  & <dbl>\\\\\n",
       "\\hline\n",
       "\tAfghanistan & 6.80\\\\\n",
       "\tAlbania & 2.28\\\\\n",
       "\tAlgeria & 2.80\\\\\n",
       "\tAngola & 7.20\\\\\n",
       "\tArgentina & 2.44\\\\\n",
       "\tArmenia & 1.15\\\\\n",
       "\\end{tabular}\n"
      ],
      "text/markdown": [
       "\n",
       "A data.frame: 6 × 1\n",
       "\n",
       "| <!--/--> | Fertility &lt;dbl&gt; |\n",
       "|---|---|\n",
       "| Afghanistan | 6.80 |\n",
       "| Albania | 2.28 |\n",
       "| Algeria | 2.80 |\n",
       "| Angola | 7.20 |\n",
       "| Argentina | 2.44 |\n",
       "| Armenia | 1.15 |\n",
       "\n"
      ],
      "text/plain": [
       "            Fertility\n",
       "Afghanistan 6.80     \n",
       "Albania     2.28     \n",
       "Algeria     2.80     \n",
       "Angola      7.20     \n",
       "Argentina   2.44     \n",
       "Armenia     1.15     "
      ]
     },
     "metadata": {},
     "output_type": "display_data"
    }
   ],
   "source": [
    "head(UN1[1])"
   ]
  },
  {
   "cell_type": "code",
   "execution_count": 20,
   "metadata": {},
   "outputs": [
    {
     "data": {
      "text/html": [
       "<table>\n",
       "<caption>A matrix: 6 × 2 of type dbl</caption>\n",
       "<thead>\n",
       "\t<tr><th></th><th scope=col>Fertility</th><th scope=col>PPgdp</th></tr>\n",
       "</thead>\n",
       "<tbody>\n",
       "\t<tr><th scope=row>Afghanistan</th><td>6.80</td><td>  98</td></tr>\n",
       "\t<tr><th scope=row>Albania</th><td>2.28</td><td>1317</td></tr>\n",
       "\t<tr><th scope=row>Algeria</th><td>2.80</td><td>1784</td></tr>\n",
       "\t<tr><th scope=row>Angola</th><td>7.20</td><td> 739</td></tr>\n",
       "\t<tr><th scope=row>Argentina</th><td>2.44</td><td>7163</td></tr>\n",
       "\t<tr><th scope=row>Armenia</th><td>1.15</td><td> 687</td></tr>\n",
       "</tbody>\n",
       "</table>\n"
      ],
      "text/latex": [
       "A matrix: 6 × 2 of type dbl\n",
       "\\begin{tabular}{r|ll}\n",
       "  & Fertility & PPgdp\\\\\n",
       "\\hline\n",
       "\tAfghanistan & 6.80 &   98\\\\\n",
       "\tAlbania & 2.28 & 1317\\\\\n",
       "\tAlgeria & 2.80 & 1784\\\\\n",
       "\tAngola & 7.20 &  739\\\\\n",
       "\tArgentina & 2.44 & 7163\\\\\n",
       "\tArmenia & 1.15 &  687\\\\\n",
       "\\end{tabular}\n"
      ],
      "text/markdown": [
       "\n",
       "A matrix: 6 × 2 of type dbl\n",
       "\n",
       "| <!--/--> | Fertility | PPgdp |\n",
       "|---|---|---|\n",
       "| Afghanistan | 6.80 |   98 |\n",
       "| Albania | 2.28 | 1317 |\n",
       "| Algeria | 2.80 | 1784 |\n",
       "| Angola | 7.20 |  739 |\n",
       "| Argentina | 2.44 | 7163 |\n",
       "| Armenia | 1.15 |  687 |\n",
       "\n"
      ],
      "text/plain": [
       "            Fertility PPgdp\n",
       "Afghanistan 6.80        98 \n",
       "Albania     2.28      1317 \n",
       "Algeria     2.80      1784 \n",
       "Angola      7.20       739 \n",
       "Argentina   2.44      7163 \n",
       "Armenia     1.15       687 "
      ]
     },
     "metadata": {},
     "output_type": "display_data"
    }
   ],
   "source": [
    "head(as.matrix(UN1))"
   ]
  },
  {
   "cell_type": "code",
   "execution_count": 21,
   "metadata": {},
   "outputs": [
    {
     "data": {
      "text/html": [
       "<table>\n",
       "<caption>A data.frame: 6 × 1</caption>\n",
       "<thead>\n",
       "\t<tr><th></th><th scope=col>Fertility</th></tr>\n",
       "\t<tr><th></th><th scope=col>&lt;dbl&gt;</th></tr>\n",
       "</thead>\n",
       "<tbody>\n",
       "\t<tr><th scope=row>Afghanistan</th><td>6.80</td></tr>\n",
       "\t<tr><th scope=row>Albania</th><td>2.28</td></tr>\n",
       "\t<tr><th scope=row>Algeria</th><td>2.80</td></tr>\n",
       "\t<tr><th scope=row>Angola</th><td>7.20</td></tr>\n",
       "\t<tr><th scope=row>Argentina</th><td>2.44</td></tr>\n",
       "\t<tr><th scope=row>Armenia</th><td>1.15</td></tr>\n",
       "</tbody>\n",
       "</table>\n"
      ],
      "text/latex": [
       "A data.frame: 6 × 1\n",
       "\\begin{tabular}{r|l}\n",
       "  & Fertility\\\\\n",
       "  & <dbl>\\\\\n",
       "\\hline\n",
       "\tAfghanistan & 6.80\\\\\n",
       "\tAlbania & 2.28\\\\\n",
       "\tAlgeria & 2.80\\\\\n",
       "\tAngola & 7.20\\\\\n",
       "\tArgentina & 2.44\\\\\n",
       "\tArmenia & 1.15\\\\\n",
       "\\end{tabular}\n"
      ],
      "text/markdown": [
       "\n",
       "A data.frame: 6 × 1\n",
       "\n",
       "| <!--/--> | Fertility &lt;dbl&gt; |\n",
       "|---|---|\n",
       "| Afghanistan | 6.80 |\n",
       "| Albania | 2.28 |\n",
       "| Algeria | 2.80 |\n",
       "| Angola | 7.20 |\n",
       "| Argentina | 2.44 |\n",
       "| Armenia | 1.15 |\n",
       "\n"
      ],
      "text/plain": [
       "            Fertility\n",
       "Afghanistan 6.80     \n",
       "Albania     2.28     \n",
       "Algeria     2.80     \n",
       "Angola      7.20     \n",
       "Argentina   2.44     \n",
       "Armenia     1.15     "
      ]
     },
     "metadata": {},
     "output_type": "display_data"
    }
   ],
   "source": [
    "head(UN1[1])"
   ]
  },
  {
   "cell_type": "code",
   "execution_count": 38,
   "metadata": {},
   "outputs": [
    {
     "data": {
      "text/html": [
       "<style>\n",
       ".list-inline {list-style: none; margin:0; padding: 0}\n",
       ".list-inline>li {display: inline-block}\n",
       ".list-inline>li:not(:last-child)::after {content: \"\\00b7\"; padding: 0 .5ex}\n",
       "</style>\n",
       "<ol class=list-inline><li>'Fertility'</li><li>'PPgdp'</li></ol>\n"
      ],
      "text/latex": [
       "\\begin{enumerate*}\n",
       "\\item 'Fertility'\n",
       "\\item 'PPgdp'\n",
       "\\end{enumerate*}\n"
      ],
      "text/markdown": [
       "1. 'Fertility'\n",
       "2. 'PPgdp'\n",
       "\n",
       "\n"
      ],
      "text/plain": [
       "[1] \"Fertility\" \"PPgdp\"    "
      ]
     },
     "metadata": {},
     "output_type": "display_data"
    }
   ],
   "source": [
    "a=names(UN1)\n",
    "a"
   ]
  },
  {
   "cell_type": "code",
   "execution_count": 42,
   "metadata": {},
   "outputs": [
    {
     "data": {
      "text/html": [
       "<table>\n",
       "<caption>A data.frame: 1 × 2</caption>\n",
       "<thead>\n",
       "\t<tr><th></th><th scope=col>Fertility</th><th scope=col>PPgdp</th></tr>\n",
       "\t<tr><th></th><th scope=col>&lt;dbl&gt;</th><th scope=col>&lt;int&gt;</th></tr>\n",
       "</thead>\n",
       "<tbody>\n",
       "\t<tr><th scope=row>Afghanistan</th><td>6.8</td><td>98</td></tr>\n",
       "</tbody>\n",
       "</table>\n"
      ],
      "text/latex": [
       "A data.frame: 1 × 2\n",
       "\\begin{tabular}{r|ll}\n",
       "  & Fertility & PPgdp\\\\\n",
       "  & <dbl> & <int>\\\\\n",
       "\\hline\n",
       "\tAfghanistan & 6.8 & 98\\\\\n",
       "\\end{tabular}\n"
      ],
      "text/markdown": [
       "\n",
       "A data.frame: 1 × 2\n",
       "\n",
       "| <!--/--> | Fertility &lt;dbl&gt; | PPgdp &lt;int&gt; |\n",
       "|---|---|---|\n",
       "| Afghanistan | 6.8 | 98 |\n",
       "\n"
      ],
      "text/plain": [
       "            Fertility PPgdp\n",
       "Afghanistan 6.8       98   "
      ]
     },
     "metadata": {},
     "output_type": "display_data"
    }
   ],
   "source": [
    "UN1[1,]"
   ]
  },
  {
   "cell_type": "code",
   "execution_count": 46,
   "metadata": {},
   "outputs": [],
   "source": [
    "x=UN1[,1]\n",
    "y=UN1[,2]"
   ]
  },
  {
   "cell_type": "code",
   "execution_count": 51,
   "metadata": {},
   "outputs": [
    {
     "data": {
      "image/png": "[encoded data removed]",
      "text/plain": [
       "Plot with title “PPgdp_vs_Fertility”"
      ]
     },
     "metadata": {
      "image/png": {
       "height": 420,
       "width": 420
      },
      "text/plain": {
       "height": 420,
       "width": 420
      }
     },
     "output_type": "display_data"
    }
   ],
   "source": [
    "#plot(y,x,xlab='PPgdp', ylab='Fertility', main='PPgdp_vs_Fertility')\n",
    "plot(UN1$PPgdp,UN1$Fertility,xlab='PPgdp', ylab='Fertility', main='PPgdp_vs_Fertility')\n",
    "#plot(variable_dependiente Y,Variable_independiente X, xlab='Nombre del eje X', ylab='Nombre del eje Y',main='Titulo del grafico')"
   ]
  },
  {
   "cell_type": "code",
   "execution_count": 56,
   "metadata": {},
   "outputs": [
    {
     "data": {
      "image/png": "[encoded data removed]",
      "text/plain": [
       "Plot with title “PPgdp_vs_Fertility”"
      ]
     },
     "metadata": {
      "image/png": {
       "height": 420,
       "width": 420
      },
      "text/plain": {
       "height": 420,
       "width": 420
      }
     },
     "output_type": "display_data"
    }
   ],
   "source": [
    "plot(log(UN1$PPgdp,10),log(UN1$Fertility,10),xlab='PPgdp', ylab='Fertility', main='PPgdp_vs_Fertility')"
   ]
  },
  {
   "cell_type": "code",
   "execution_count": 59,
   "metadata": {},
   "outputs": [
    {
     "data": {
      "text/html": [
       "0.45914716762643"
      ],
      "text/latex": [
       "0.45914716762643"
      ],
      "text/markdown": [
       "0.45914716762643"
      ],
      "text/plain": [
       "[1] 0.4591472"
      ]
     },
     "metadata": {},
     "output_type": "display_data"
    }
   ],
   "source": [
    "cor(log(UN1$PPgdp),log(UN1$Fertility))**2"
   ]
  },
  {
   "cell_type": "code",
   "execution_count": 61,
   "metadata": {},
   "outputs": [
    {
     "data": {
      "text/html": [
       "0.214709835670948"
      ],
      "text/latex": [
       "0.214709835670948"
      ],
      "text/markdown": [
       "0.214709835670948"
      ],
      "text/plain": [
       "[1] 0.2147098"
      ]
     },
     "metadata": {},
     "output_type": "display_data"
    }
   ],
   "source": [
    "cor(UN1$PPgdp,UN1$Fertility)**2"
   ]
  },
  {
   "cell_type": "code",
   "execution_count": 16,
   "metadata": {},
   "outputs": [
    {
     "data": {
      "text/html": [
       "<table>\n",
       "<caption>A data.frame: 6 × 2</caption>\n",
       "<thead>\n",
       "\t<tr><th></th><th scope=col>Fertility</th><th scope=col>PPgdp</th></tr>\n",
       "\t<tr><th></th><th scope=col>&lt;dbl&gt;</th><th scope=col>&lt;int&gt;</th></tr>\n",
       "</thead>\n",
       "<tbody>\n",
       "\t<tr><th scope=row>Afghanistan</th><td>6.80</td><td>  98</td></tr>\n",
       "\t<tr><th scope=row>Albania</th><td>2.28</td><td>1317</td></tr>\n",
       "\t<tr><th scope=row>Algeria</th><td>2.80</td><td>1784</td></tr>\n",
       "\t<tr><th scope=row>Angola</th><td>7.20</td><td> 739</td></tr>\n",
       "\t<tr><th scope=row>Argentina</th><td>2.44</td><td>7163</td></tr>\n",
       "\t<tr><th scope=row>Armenia</th><td>1.15</td><td> 687</td></tr>\n",
       "</tbody>\n",
       "</table>\n"
      ],
      "text/latex": [
       "A data.frame: 6 × 2\n",
       "\\begin{tabular}{r|ll}\n",
       "  & Fertility & PPgdp\\\\\n",
       "  & <dbl> & <int>\\\\\n",
       "\\hline\n",
       "\tAfghanistan & 6.80 &   98\\\\\n",
       "\tAlbania & 2.28 & 1317\\\\\n",
       "\tAlgeria & 2.80 & 1784\\\\\n",
       "\tAngola & 7.20 &  739\\\\\n",
       "\tArgentina & 2.44 & 7163\\\\\n",
       "\tArmenia & 1.15 &  687\\\\\n",
       "\\end{tabular}\n"
      ],
      "text/markdown": [
       "\n",
       "A data.frame: 6 × 2\n",
       "\n",
       "| <!--/--> | Fertility &lt;dbl&gt; | PPgdp &lt;int&gt; |\n",
       "|---|---|---|\n",
       "| Afghanistan | 6.80 |   98 |\n",
       "| Albania | 2.28 | 1317 |\n",
       "| Algeria | 2.80 | 1784 |\n",
       "| Angola | 7.20 |  739 |\n",
       "| Argentina | 2.44 | 7163 |\n",
       "| Armenia | 1.15 |  687 |\n",
       "\n"
      ],
      "text/plain": [
       "            Fertility PPgdp\n",
       "Afghanistan 6.80        98 \n",
       "Albania     2.28      1317 \n",
       "Algeria     2.80      1784 \n",
       "Angola      7.20       739 \n",
       "Argentina   2.44      7163 \n",
       "Armenia     1.15       687 "
      ]
     },
     "metadata": {},
     "output_type": "display_data"
    }
   ],
   "source": [
    "head(UN1)"
   ]
  },
  {
   "cell_type": "code",
   "execution_count": 78,
   "metadata": {},
   "outputs": [
    {
     "data": {
      "text/html": [
       "<table>\n",
       "<caption>A data.frame: 6 × 2</caption>\n",
       "<thead>\n",
       "\t<tr><th></th><th scope=col>Fertility</th><th scope=col>PPgdp</th></tr>\n",
       "\t<tr><th></th><th scope=col>&lt;dbl&gt;</th><th scope=col>&lt;int&gt;</th></tr>\n",
       "</thead>\n",
       "<tbody>\n",
       "\t<tr><th scope=row>Afghanistan</th><td>46.2400</td><td>    9604</td></tr>\n",
       "\t<tr><th scope=row>Albania</th><td> 5.1984</td><td> 1734489</td></tr>\n",
       "\t<tr><th scope=row>Algeria</th><td> 7.8400</td><td> 3182656</td></tr>\n",
       "\t<tr><th scope=row>Angola</th><td>51.8400</td><td>  546121</td></tr>\n",
       "\t<tr><th scope=row>Argentina</th><td> 5.9536</td><td>51308569</td></tr>\n",
       "\t<tr><th scope=row>Armenia</th><td> 1.3225</td><td>  471969</td></tr>\n",
       "</tbody>\n",
       "</table>\n"
      ],
      "text/latex": [
       "A data.frame: 6 × 2\n",
       "\\begin{tabular}{r|ll}\n",
       "  & Fertility & PPgdp\\\\\n",
       "  & <dbl> & <int>\\\\\n",
       "\\hline\n",
       "\tAfghanistan & 46.2400 &     9604\\\\\n",
       "\tAlbania &  5.1984 &  1734489\\\\\n",
       "\tAlgeria &  7.8400 &  3182656\\\\\n",
       "\tAngola & 51.8400 &   546121\\\\\n",
       "\tArgentina &  5.9536 & 51308569\\\\\n",
       "\tArmenia &  1.3225 &   471969\\\\\n",
       "\\end{tabular}\n"
      ],
      "text/markdown": [
       "\n",
       "A data.frame: 6 × 2\n",
       "\n",
       "| <!--/--> | Fertility &lt;dbl&gt; | PPgdp &lt;int&gt; |\n",
       "|---|---|---|\n",
       "| Afghanistan | 46.2400 |     9604 |\n",
       "| Albania |  5.1984 |  1734489 |\n",
       "| Algeria |  7.8400 |  3182656 |\n",
       "| Angola | 51.8400 |   546121 |\n",
       "| Argentina |  5.9536 | 51308569 |\n",
       "| Armenia |  1.3225 |   471969 |\n",
       "\n"
      ],
      "text/plain": [
       "            Fertility PPgdp   \n",
       "Afghanistan 46.2400       9604\n",
       "Albania      5.1984    1734489\n",
       "Algeria      7.8400    3182656\n",
       "Angola      51.8400     546121\n",
       "Argentina    5.9536   51308569\n",
       "Armenia      1.3225     471969"
      ]
     },
     "metadata": {},
     "output_type": "display_data"
    }
   ],
   "source": [
    "head(UN1*UN1)#UN1**2"
   ]
  },
  {
   "cell_type": "markdown",
   "metadata": {},
   "source": [
    "## Mínimo y máximo de mi data frame"
   ]
  },
  {
   "cell_type": "code",
   "execution_count": 18,
   "metadata": {},
   "outputs": [
    {
     "data": {
      "text/html": [
       "44579"
      ],
      "text/latex": [
       "44579"
      ],
      "text/markdown": [
       "44579"
      ],
      "text/plain": [
       "[1] 44579"
      ]
     },
     "metadata": {},
     "output_type": "display_data"
    }
   ],
   "source": [
    "max(UN1)"
   ]
  },
  {
   "cell_type": "code",
   "execution_count": 19,
   "metadata": {},
   "outputs": [
    {
     "data": {
      "text/html": [
       "1"
      ],
      "text/latex": [
       "1"
      ],
      "text/markdown": [
       "1"
      ],
      "text/plain": [
       "[1] 1"
      ]
     },
     "metadata": {},
     "output_type": "display_data"
    }
   ],
   "source": [
    "min(UN1)"
   ]
  },
  {
   "cell_type": "code",
   "execution_count": 20,
   "metadata": {},
   "outputs": [
    {
     "data": {
      "text/html": [
       "8"
      ],
      "text/latex": [
       "8"
      ],
      "text/markdown": [
       "8"
      ],
      "text/plain": [
       "[1] 8"
      ]
     },
     "metadata": {},
     "output_type": "display_data"
    }
   ],
   "source": [
    "max(UN1$Fertility)"
   ]
  },
  {
   "cell_type": "code",
   "execution_count": 21,
   "metadata": {},
   "outputs": [
    {
     "data": {
      "text/html": [
       "1"
      ],
      "text/latex": [
       "1"
      ],
      "text/markdown": [
       "1"
      ],
      "text/plain": [
       "[1] 1"
      ]
     },
     "metadata": {},
     "output_type": "display_data"
    }
   ],
   "source": [
    "min(UN1$Fertility)"
   ]
  },
  {
   "cell_type": "code",
   "execution_count": 22,
   "metadata": {},
   "outputs": [
    {
     "data": {
      "text/html": [
       "44579"
      ],
      "text/latex": [
       "44579"
      ],
      "text/markdown": [
       "44579"
      ],
      "text/plain": [
       "[1] 44579"
      ]
     },
     "metadata": {},
     "output_type": "display_data"
    }
   ],
   "source": [
    "max(UN1$PPgdp)"
   ]
  },
  {
   "cell_type": "code",
   "execution_count": 23,
   "metadata": {},
   "outputs": [
    {
     "data": {
      "text/html": [
       "90"
      ],
      "text/latex": [
       "90"
      ],
      "text/markdown": [
       "90"
      ],
      "text/plain": [
       "[1] 90"
      ]
     },
     "metadata": {},
     "output_type": "display_data"
    }
   ],
   "source": [
    "min(UN1$PPgdp)"
   ]
  },
  {
   "cell_type": "markdown",
   "metadata": {},
   "source": [
    "## Calcular una regresión"
   ]
  },
  {
   "cell_type": "code",
   "execution_count": 24,
   "metadata": {},
   "outputs": [
    {
     "data": {
      "text/html": [
       "<table>\n",
       "<caption>A data.frame: 6 × 2</caption>\n",
       "<thead>\n",
       "\t<tr><th></th><th scope=col>Fertility</th><th scope=col>PPgdp</th></tr>\n",
       "\t<tr><th></th><th scope=col>&lt;dbl&gt;</th><th scope=col>&lt;dbl&gt;</th></tr>\n",
       "</thead>\n",
       "<tbody>\n",
       "\t<tr><th scope=row>Afghanistan</th><td>1.9169226</td><td>4.584967</td></tr>\n",
       "\t<tr><th scope=row>Albania</th><td>0.8241754</td><td>7.183112</td></tr>\n",
       "\t<tr><th scope=row>Algeria</th><td>1.0296194</td><td>7.486613</td></tr>\n",
       "\t<tr><th scope=row>Angola</th><td>1.9740810</td><td>6.605298</td></tr>\n",
       "\t<tr><th scope=row>Argentina</th><td>0.8919980</td><td>8.876684</td></tr>\n",
       "\t<tr><th scope=row>Armenia</th><td>0.1397619</td><td>6.532334</td></tr>\n",
       "</tbody>\n",
       "</table>\n"
      ],
      "text/latex": [
       "A data.frame: 6 × 2\n",
       "\\begin{tabular}{r|ll}\n",
       "  & Fertility & PPgdp\\\\\n",
       "  & <dbl> & <dbl>\\\\\n",
       "\\hline\n",
       "\tAfghanistan & 1.9169226 & 4.584967\\\\\n",
       "\tAlbania & 0.8241754 & 7.183112\\\\\n",
       "\tAlgeria & 1.0296194 & 7.486613\\\\\n",
       "\tAngola & 1.9740810 & 6.605298\\\\\n",
       "\tArgentina & 0.8919980 & 8.876684\\\\\n",
       "\tArmenia & 0.1397619 & 6.532334\\\\\n",
       "\\end{tabular}\n"
      ],
      "text/markdown": [
       "\n",
       "A data.frame: 6 × 2\n",
       "\n",
       "| <!--/--> | Fertility &lt;dbl&gt; | PPgdp &lt;dbl&gt; |\n",
       "|---|---|---|\n",
       "| Afghanistan | 1.9169226 | 4.584967 |\n",
       "| Albania | 0.8241754 | 7.183112 |\n",
       "| Algeria | 1.0296194 | 7.486613 |\n",
       "| Angola | 1.9740810 | 6.605298 |\n",
       "| Argentina | 0.8919980 | 8.876684 |\n",
       "| Armenia | 0.1397619 | 6.532334 |\n",
       "\n"
      ],
      "text/plain": [
       "            Fertility PPgdp   \n",
       "Afghanistan 1.9169226 4.584967\n",
       "Albania     0.8241754 7.183112\n",
       "Algeria     1.0296194 7.486613\n",
       "Angola      1.9740810 6.605298\n",
       "Argentina   0.8919980 8.876684\n",
       "Armenia     0.1397619 6.532334"
      ]
     },
     "metadata": {},
     "output_type": "display_data"
    }
   ],
   "source": [
    "UN2 <-log(UN1)\n",
    "head(UN2)"
   ]
  },
  {
   "cell_type": "code",
   "execution_count": 92,
   "metadata": {},
   "outputs": [],
   "source": [
    "regresion_1 <- lm(log(UN1$Fertility,10)~log(UN1$PPgdp,10)) #lm(Y~AX+B+CX²)\n",
    "#lm(log(Y)~log(X))"
   ]
  },
  {
   "cell_type": "code",
   "execution_count": 93,
   "metadata": {},
   "outputs": [],
   "source": [
    "regresion <- lm(Fertility ~ PPgdp, data = log(UN1,10)) "
   ]
  },
  {
   "cell_type": "code",
   "execution_count": 94,
   "metadata": {},
   "outputs": [
    {
     "data": {
      "text/plain": [
       "\n",
       "Call:\n",
       "lm(formula = Fertility ~ PPgdp, data = log(UN1, 10))\n",
       "\n",
       "Coefficients:\n",
       "(Intercept)        PPgdp  \n",
       "     1.1740      -0.2212  \n"
      ]
     },
     "metadata": {},
     "output_type": "display_data"
    }
   ],
   "source": [
    "regresion"
   ]
  },
  {
   "cell_type": "code",
   "execution_count": 98,
   "metadata": {},
   "outputs": [
    {
     "data": {
      "text/plain": [
       "\n",
       "Call:\n",
       "lm(formula = log(UN1$Fertility, 10) ~ log(UN1$PPgdp, 10))\n",
       "\n",
       "Coefficients:\n",
       "       (Intercept)  log(UN1$PPgdp, 10)  \n",
       "            1.1740             -0.2212  \n"
      ]
     },
     "metadata": {},
     "output_type": "display_data"
    }
   ],
   "source": [
    "regresion_1"
   ]
  },
  {
   "cell_type": "code",
   "execution_count": 27,
   "metadata": {},
   "outputs": [
    {
     "data": {
      "text/plain": [
       "\n",
       "Call:\n",
       "lm(formula = Fertility ~ PPgdp, data = log(UN1, 10))\n",
       "\n",
       "Residuals:\n",
       "     Min       1Q   Median       3Q      Max \n",
       "-0.48587 -0.08148  0.03058  0.11327  0.39130 \n",
       "\n",
       "Coefficients:\n",
       "            Estimate Std. Error t value Pr(>|t|)    \n",
       "(Intercept)  1.17399    0.05879   19.97   <2e-16 ***\n",
       "PPgdp       -0.22116    0.01737  -12.73   <2e-16 ***\n",
       "---\n",
       "Signif. codes:  0 ‘***’ 0.001 ‘**’ 0.01 ‘*’ 0.05 ‘.’ 0.1 ‘ ’ 1\n",
       "\n",
       "Residual standard error: 0.1721 on 191 degrees of freedom\n",
       "Multiple R-squared:  0.4591,\tAdjusted R-squared:  0.4563 \n",
       "F-statistic: 162.1 on 1 and 191 DF,  p-value: < 2.2e-16\n"
      ]
     },
     "metadata": {},
     "output_type": "display_data"
    }
   ],
   "source": [
    "summary(regresion)"
   ]
  },
  {
   "cell_type": "code",
   "execution_count": 100,
   "metadata": {},
   "outputs": [
    {
     "ename": "ERROR",
     "evalue": "Error in scan(file = file, what = what, sep = sep, quote = quote, dec = dec, : la linea 163 no tiene 8 elementos\n",
     "output_type": "error",
     "traceback": [
      "Error in scan(file = file, what = what, sep = sep, quote = quote, dec = dec, : la linea 163 no tiene 8 elementos\nTraceback:\n",
      "1. read.table(\"/home/taz/Documentos/git/Mat-266/data/player_data.csv\", \n .     header = TRUE, sep = \",\")",
      "2. scan(file = file, what = what, sep = sep, quote = quote, dec = dec, \n .     nmax = nrows, skip = 0, na.strings = na.strings, quiet = TRUE, \n .     fill = fill, strip.white = strip.white, blank.lines.skip = blank.lines.skip, \n .     multi.line = FALSE, comment.char = comment.char, allowEscapes = allowEscapes, \n .     flush = flush, encoding = encoding, skipNul = skipNul)"
     ]
    }
   ],
   "source": [
    "player_data1 <- read.table('/home/taz/Documentos/git/Mat-266/data/player_data.csv', header=TRUE ,sep=',') #defecto kernel R\n",
    "#player_data1 <- read.table('C/taz/Documentos/git/Mat-266/data/player_data.csv', header=TRUE ,sep=',')"
   ]
  },
  {
   "cell_type": "code",
   "execution_count": 101,
   "metadata": {},
   "outputs": [
    {
     "name": "stderr",
     "output_type": "stream",
     "text": [
      "Parsed with column specification:\n",
      "cols(\n",
      "  name = \u001b[31mcol_character()\u001b[39m,\n",
      "  year_start = \u001b[32mcol_double()\u001b[39m,\n",
      "  year_end = \u001b[32mcol_double()\u001b[39m,\n",
      "  position = \u001b[31mcol_character()\u001b[39m,\n",
      "  height = \u001b[31mcol_character()\u001b[39m,\n",
      "  weight = \u001b[32mcol_double()\u001b[39m,\n",
      "  birth_date = \u001b[31mcol_character()\u001b[39m,\n",
      "  college = \u001b[31mcol_character()\u001b[39m\n",
      ")\n",
      "\n"
     ]
    }
   ],
   "source": [
    "player_data1 <- read_csv('/home/taz/Documentos/git/Mat-266/data/player_data.csv',skip=0, col_names=TRUE) #readr"
   ]
  },
  {
   "cell_type": "code",
   "execution_count": 105,
   "metadata": {},
   "outputs": [],
   "source": [
    "player_data2 <- read_excel('/home/taz/Documentos/git/Mat-266/data/player_data.xls', sheet='player_data') #readrxl"
   ]
  },
  {
   "cell_type": "code",
   "execution_count": 108,
   "metadata": {},
   "outputs": [
    {
     "data": {
      "text/html": [
       "<table>\n",
       "<caption>A tibble: 10 × 8</caption>\n",
       "<thead>\n",
       "\t<tr><th scope=col>name</th><th scope=col>year_start</th><th scope=col>year_end</th><th scope=col>position</th><th scope=col>height</th><th scope=col>weight</th><th scope=col>birth_date</th><th scope=col>college</th></tr>\n",
       "\t<tr><th scope=col>&lt;chr&gt;</th><th scope=col>&lt;dbl&gt;</th><th scope=col>&lt;dbl&gt;</th><th scope=col>&lt;chr&gt;</th><th scope=col>&lt;chr&gt;</th><th scope=col>&lt;dbl&gt;</th><th scope=col>&lt;chr&gt;</th><th scope=col>&lt;chr&gt;</th></tr>\n",
       "</thead>\n",
       "<tbody>\n",
       "\t<tr><td>Alaa Abdelnaby     </td><td>1991</td><td>1995</td><td>F-C</td><td>6-10</td><td>240</td><td>June 24, 1968    </td><td>Duke University                      </td></tr>\n",
       "\t<tr><td>Zaid Abdul-Aziz    </td><td>1969</td><td>1978</td><td>C-F</td><td>6-9 </td><td>235</td><td>April 7, 1946    </td><td>Iowa State University                </td></tr>\n",
       "\t<tr><td>Kareem Abdul-Jabbar</td><td>1970</td><td>1989</td><td>C  </td><td>7-2 </td><td>225</td><td>April 16, 1947   </td><td>University of California, Los Angeles</td></tr>\n",
       "\t<tr><td>Mahmoud Abdul-Rauf </td><td>1991</td><td>2001</td><td>G  </td><td>6-1 </td><td>162</td><td>March 9, 1969    </td><td>Louisiana State University           </td></tr>\n",
       "\t<tr><td>Tariq Abdul-Wahad  </td><td>1998</td><td>2003</td><td>F  </td><td>6-6 </td><td>223</td><td>November 3, 1974 </td><td>San Jose State University            </td></tr>\n",
       "\t<tr><td>Shareef Abdur-Rahim</td><td>1997</td><td>2008</td><td>F  </td><td>6-9 </td><td>225</td><td>December 11, 1976</td><td>University of California             </td></tr>\n",
       "\t<tr><td>Tom Abernethy      </td><td>1977</td><td>1981</td><td>F  </td><td>6-7 </td><td>220</td><td>May 6, 1954      </td><td>Indiana University                   </td></tr>\n",
       "\t<tr><td>Forest Able        </td><td>1957</td><td>1957</td><td>G  </td><td>6-3 </td><td>180</td><td>July 27, 1932    </td><td>Western Kentucky University          </td></tr>\n",
       "\t<tr><td>John Abramovic     </td><td>1947</td><td>1948</td><td>F  </td><td>6-3 </td><td>195</td><td>February 9, 1919 </td><td>Salem International University       </td></tr>\n",
       "\t<tr><td>Alex Abrines       </td><td>2017</td><td>2018</td><td>G-F</td><td>6-6 </td><td>190</td><td>August 1, 1993   </td><td>NA                                   </td></tr>\n",
       "</tbody>\n",
       "</table>\n"
      ],
      "text/latex": [
       "A tibble: 10 × 8\n",
       "\\begin{tabular}{llllllll}\n",
       " name & year\\_start & year\\_end & position & height & weight & birth\\_date & college\\\\\n",
       " <chr> & <dbl> & <dbl> & <chr> & <chr> & <dbl> & <chr> & <chr>\\\\\n",
       "\\hline\n",
       "\t Alaa Abdelnaby      & 1991 & 1995 & F-C & 6-10 & 240 & June 24, 1968     & Duke University                      \\\\\n",
       "\t Zaid Abdul-Aziz     & 1969 & 1978 & C-F & 6-9  & 235 & April 7, 1946     & Iowa State University                \\\\\n",
       "\t Kareem Abdul-Jabbar & 1970 & 1989 & C   & 7-2  & 225 & April 16, 1947    & University of California, Los Angeles\\\\\n",
       "\t Mahmoud Abdul-Rauf  & 1991 & 2001 & G   & 6-1  & 162 & March 9, 1969     & Louisiana State University           \\\\\n",
       "\t Tariq Abdul-Wahad   & 1998 & 2003 & F   & 6-6  & 223 & November 3, 1974  & San Jose State University            \\\\\n",
       "\t Shareef Abdur-Rahim & 1997 & 2008 & F   & 6-9  & 225 & December 11, 1976 & University of California             \\\\\n",
       "\t Tom Abernethy       & 1977 & 1981 & F   & 6-7  & 220 & May 6, 1954       & Indiana University                   \\\\\n",
       "\t Forest Able         & 1957 & 1957 & G   & 6-3  & 180 & July 27, 1932     & Western Kentucky University          \\\\\n",
       "\t John Abramovic      & 1947 & 1948 & F   & 6-3  & 195 & February 9, 1919  & Salem International University       \\\\\n",
       "\t Alex Abrines        & 2017 & 2018 & G-F & 6-6  & 190 & August 1, 1993    & NA                                   \\\\\n",
       "\\end{tabular}\n"
      ],
      "text/markdown": [
       "\n",
       "A tibble: 10 × 8\n",
       "\n",
       "| name &lt;chr&gt; | year_start &lt;dbl&gt; | year_end &lt;dbl&gt; | position &lt;chr&gt; | height &lt;chr&gt; | weight &lt;dbl&gt; | birth_date &lt;chr&gt; | college &lt;chr&gt; |\n",
       "|---|---|---|---|---|---|---|---|\n",
       "| Alaa Abdelnaby      | 1991 | 1995 | F-C | 6-10 | 240 | June 24, 1968     | Duke University                       |\n",
       "| Zaid Abdul-Aziz     | 1969 | 1978 | C-F | 6-9  | 235 | April 7, 1946     | Iowa State University                 |\n",
       "| Kareem Abdul-Jabbar | 1970 | 1989 | C   | 7-2  | 225 | April 16, 1947    | University of California, Los Angeles |\n",
       "| Mahmoud Abdul-Rauf  | 1991 | 2001 | G   | 6-1  | 162 | March 9, 1969     | Louisiana State University            |\n",
       "| Tariq Abdul-Wahad   | 1998 | 2003 | F   | 6-6  | 223 | November 3, 1974  | San Jose State University             |\n",
       "| Shareef Abdur-Rahim | 1997 | 2008 | F   | 6-9  | 225 | December 11, 1976 | University of California              |\n",
       "| Tom Abernethy       | 1977 | 1981 | F   | 6-7  | 220 | May 6, 1954       | Indiana University                    |\n",
       "| Forest Able         | 1957 | 1957 | G   | 6-3  | 180 | July 27, 1932     | Western Kentucky University           |\n",
       "| John Abramovic      | 1947 | 1948 | F   | 6-3  | 195 | February 9, 1919  | Salem International University        |\n",
       "| Alex Abrines        | 2017 | 2018 | G-F | 6-6  | 190 | August 1, 1993    | NA                                    |\n",
       "\n"
      ],
      "text/plain": [
       "   name                year_start year_end position height weight\n",
       "1  Alaa Abdelnaby      1991       1995     F-C      6-10   240   \n",
       "2  Zaid Abdul-Aziz     1969       1978     C-F      6-9    235   \n",
       "3  Kareem Abdul-Jabbar 1970       1989     C        7-2    225   \n",
       "4  Mahmoud Abdul-Rauf  1991       2001     G        6-1    162   \n",
       "5  Tariq Abdul-Wahad   1998       2003     F        6-6    223   \n",
       "6  Shareef Abdur-Rahim 1997       2008     F        6-9    225   \n",
       "7  Tom Abernethy       1977       1981     F        6-7    220   \n",
       "8  Forest Able         1957       1957     G        6-3    180   \n",
       "9  John Abramovic      1947       1948     F        6-3    195   \n",
       "10 Alex Abrines        2017       2018     G-F      6-6    190   \n",
       "   birth_date        college                              \n",
       "1  June 24, 1968     Duke University                      \n",
       "2  April 7, 1946     Iowa State University                \n",
       "3  April 16, 1947    University of California, Los Angeles\n",
       "4  March 9, 1969     Louisiana State University           \n",
       "5  November 3, 1974  San Jose State University            \n",
       "6  December 11, 1976 University of California             \n",
       "7  May 6, 1954       Indiana University                   \n",
       "8  July 27, 1932     Western Kentucky University          \n",
       "9  February 9, 1919  Salem International University       \n",
       "10 August 1, 1993    NA                                   "
      ]
     },
     "metadata": {},
     "output_type": "display_data"
    }
   ],
   "source": [
    "head(player_data1,10)"
   ]
  },
  {
   "cell_type": "code",
   "execution_count": 109,
   "metadata": {},
   "outputs": [
    {
     "data": {
      "text/html": [
       "<table>\n",
       "<caption>A tibble: 10 × 8</caption>\n",
       "<thead>\n",
       "\t<tr><th scope=col>name</th><th scope=col>year_start</th><th scope=col>year_end</th><th scope=col>position</th><th scope=col>height</th><th scope=col>weight</th><th scope=col>birth_date</th><th scope=col>college</th></tr>\n",
       "\t<tr><th scope=col>&lt;chr&gt;</th><th scope=col>&lt;dbl&gt;</th><th scope=col>&lt;dbl&gt;</th><th scope=col>&lt;chr&gt;</th><th scope=col>&lt;chr&gt;</th><th scope=col>&lt;dbl&gt;</th><th scope=col>&lt;chr&gt;</th><th scope=col>&lt;chr&gt;</th></tr>\n",
       "</thead>\n",
       "<tbody>\n",
       "\t<tr><td>Alaa Abdelnaby     </td><td>1991</td><td>1995</td><td>F-C</td><td>6-10</td><td>240</td><td>June 24, 1968    </td><td>Duke University                      </td></tr>\n",
       "\t<tr><td>Zaid Abdul-Aziz    </td><td>1969</td><td>1978</td><td>C-F</td><td>6-9 </td><td>235</td><td>April 7, 1946    </td><td>Iowa State University                </td></tr>\n",
       "\t<tr><td>Kareem Abdul-Jabbar</td><td>1970</td><td>1989</td><td>C  </td><td>7-2 </td><td>225</td><td>April 16, 1947   </td><td>University of California, Los Angeles</td></tr>\n",
       "\t<tr><td>Mahmoud Abdul-Rauf </td><td>1991</td><td>2001</td><td>G  </td><td>6-1 </td><td>162</td><td>March 9, 1969    </td><td>Louisiana State University           </td></tr>\n",
       "\t<tr><td>Tariq Abdul-Wahad  </td><td>1998</td><td>2003</td><td>F  </td><td>6-6 </td><td>223</td><td>November 3, 1974 </td><td>San Jose State University            </td></tr>\n",
       "\t<tr><td>Shareef Abdur-Rahim</td><td>1997</td><td>2008</td><td>F  </td><td>6-9 </td><td>225</td><td>December 11, 1976</td><td>University of California             </td></tr>\n",
       "\t<tr><td>Tom Abernethy      </td><td>1977</td><td>1981</td><td>F  </td><td>6-7 </td><td>220</td><td>May 6, 1954      </td><td>Indiana University                   </td></tr>\n",
       "\t<tr><td>Forest Able        </td><td>1957</td><td>1957</td><td>G  </td><td>6-3 </td><td>180</td><td>July 27, 1932    </td><td>Western Kentucky University          </td></tr>\n",
       "\t<tr><td>John Abramovic     </td><td>1947</td><td>1948</td><td>F  </td><td>6-3 </td><td>195</td><td>February 9, 1919 </td><td>Salem International University       </td></tr>\n",
       "\t<tr><td>Alex Abrines       </td><td>2017</td><td>2018</td><td>G-F</td><td>6-6 </td><td>190</td><td>August 1, 1993   </td><td>NA                                   </td></tr>\n",
       "</tbody>\n",
       "</table>\n"
      ],
      "text/latex": [
       "A tibble: 10 × 8\n",
       "\\begin{tabular}{llllllll}\n",
       " name & year\\_start & year\\_end & position & height & weight & birth\\_date & college\\\\\n",
       " <chr> & <dbl> & <dbl> & <chr> & <chr> & <dbl> & <chr> & <chr>\\\\\n",
       "\\hline\n",
       "\t Alaa Abdelnaby      & 1991 & 1995 & F-C & 6-10 & 240 & June 24, 1968     & Duke University                      \\\\\n",
       "\t Zaid Abdul-Aziz     & 1969 & 1978 & C-F & 6-9  & 235 & April 7, 1946     & Iowa State University                \\\\\n",
       "\t Kareem Abdul-Jabbar & 1970 & 1989 & C   & 7-2  & 225 & April 16, 1947    & University of California, Los Angeles\\\\\n",
       "\t Mahmoud Abdul-Rauf  & 1991 & 2001 & G   & 6-1  & 162 & March 9, 1969     & Louisiana State University           \\\\\n",
       "\t Tariq Abdul-Wahad   & 1998 & 2003 & F   & 6-6  & 223 & November 3, 1974  & San Jose State University            \\\\\n",
       "\t Shareef Abdur-Rahim & 1997 & 2008 & F   & 6-9  & 225 & December 11, 1976 & University of California             \\\\\n",
       "\t Tom Abernethy       & 1977 & 1981 & F   & 6-7  & 220 & May 6, 1954       & Indiana University                   \\\\\n",
       "\t Forest Able         & 1957 & 1957 & G   & 6-3  & 180 & July 27, 1932     & Western Kentucky University          \\\\\n",
       "\t John Abramovic      & 1947 & 1948 & F   & 6-3  & 195 & February 9, 1919  & Salem International University       \\\\\n",
       "\t Alex Abrines        & 2017 & 2018 & G-F & 6-6  & 190 & August 1, 1993    & NA                                   \\\\\n",
       "\\end{tabular}\n"
      ],
      "text/markdown": [
       "\n",
       "A tibble: 10 × 8\n",
       "\n",
       "| name &lt;chr&gt; | year_start &lt;dbl&gt; | year_end &lt;dbl&gt; | position &lt;chr&gt; | height &lt;chr&gt; | weight &lt;dbl&gt; | birth_date &lt;chr&gt; | college &lt;chr&gt; |\n",
       "|---|---|---|---|---|---|---|---|\n",
       "| Alaa Abdelnaby      | 1991 | 1995 | F-C | 6-10 | 240 | June 24, 1968     | Duke University                       |\n",
       "| Zaid Abdul-Aziz     | 1969 | 1978 | C-F | 6-9  | 235 | April 7, 1946     | Iowa State University                 |\n",
       "| Kareem Abdul-Jabbar | 1970 | 1989 | C   | 7-2  | 225 | April 16, 1947    | University of California, Los Angeles |\n",
       "| Mahmoud Abdul-Rauf  | 1991 | 2001 | G   | 6-1  | 162 | March 9, 1969     | Louisiana State University            |\n",
       "| Tariq Abdul-Wahad   | 1998 | 2003 | F   | 6-6  | 223 | November 3, 1974  | San Jose State University             |\n",
       "| Shareef Abdur-Rahim | 1997 | 2008 | F   | 6-9  | 225 | December 11, 1976 | University of California              |\n",
       "| Tom Abernethy       | 1977 | 1981 | F   | 6-7  | 220 | May 6, 1954       | Indiana University                    |\n",
       "| Forest Able         | 1957 | 1957 | G   | 6-3  | 180 | July 27, 1932     | Western Kentucky University           |\n",
       "| John Abramovic      | 1947 | 1948 | F   | 6-3  | 195 | February 9, 1919  | Salem International University        |\n",
       "| Alex Abrines        | 2017 | 2018 | G-F | 6-6  | 190 | August 1, 1993    | NA                                    |\n",
       "\n"
      ],
      "text/plain": [
       "   name                year_start year_end position height weight\n",
       "1  Alaa Abdelnaby      1991       1995     F-C      6-10   240   \n",
       "2  Zaid Abdul-Aziz     1969       1978     C-F      6-9    235   \n",
       "3  Kareem Abdul-Jabbar 1970       1989     C        7-2    225   \n",
       "4  Mahmoud Abdul-Rauf  1991       2001     G        6-1    162   \n",
       "5  Tariq Abdul-Wahad   1998       2003     F        6-6    223   \n",
       "6  Shareef Abdur-Rahim 1997       2008     F        6-9    225   \n",
       "7  Tom Abernethy       1977       1981     F        6-7    220   \n",
       "8  Forest Able         1957       1957     G        6-3    180   \n",
       "9  John Abramovic      1947       1948     F        6-3    195   \n",
       "10 Alex Abrines        2017       2018     G-F      6-6    190   \n",
       "   birth_date        college                              \n",
       "1  June 24, 1968     Duke University                      \n",
       "2  April 7, 1946     Iowa State University                \n",
       "3  April 16, 1947    University of California, Los Angeles\n",
       "4  March 9, 1969     Louisiana State University           \n",
       "5  November 3, 1974  San Jose State University            \n",
       "6  December 11, 1976 University of California             \n",
       "7  May 6, 1954       Indiana University                   \n",
       "8  July 27, 1932     Western Kentucky University          \n",
       "9  February 9, 1919  Salem International University       \n",
       "10 August 1, 1993    NA                                   "
      ]
     },
     "metadata": {},
     "output_type": "display_data"
    }
   ],
   "source": [
    "head(player_data2,10)"
   ]
  },
  {
   "cell_type": "code",
   "execution_count": 116,
   "metadata": {},
   "outputs": [],
   "source": [
    "url <- 'https://tinyurl.com/hwhb769'\n",
    "datos <- read.table(url, header=T)"
   ]
  },
  {
   "cell_type": "code",
   "execution_count": 117,
   "metadata": {},
   "outputs": [
    {
     "data": {
      "text/html": [
       "<table>\n",
       "<caption>A data.frame: 6 × 11</caption>\n",
       "<thead>\n",
       "\t<tr><th></th><th scope=col>precio</th><th scope=col>mt2</th><th scope=col>ubicacion</th><th scope=col>estrato</th><th scope=col>alcobas</th><th scope=col>banos</th><th scope=col>balcon</th><th scope=col>parqueadero</th><th scope=col>administracion</th><th scope=col>avaluo</th><th scope=col>terminado</th></tr>\n",
       "\t<tr><th></th><th scope=col>&lt;dbl&gt;</th><th scope=col>&lt;dbl&gt;</th><th scope=col>&lt;fct&gt;</th><th scope=col>&lt;int&gt;</th><th scope=col>&lt;int&gt;</th><th scope=col>&lt;int&gt;</th><th scope=col>&lt;fct&gt;</th><th scope=col>&lt;fct&gt;</th><th scope=col>&lt;dbl&gt;</th><th scope=col>&lt;dbl&gt;</th><th scope=col>&lt;fct&gt;</th></tr>\n",
       "</thead>\n",
       "<tbody>\n",
       "\t<tr><th scope=row>1</th><td> 79</td><td>43.16</td><td>norte</td><td>3</td><td>3</td><td>1</td><td>si</td><td>si</td><td>0.050</td><td>14.92300</td><td>no</td></tr>\n",
       "\t<tr><th scope=row>2</th><td> 93</td><td>56.92</td><td>norte</td><td>2</td><td>2</td><td>1</td><td>si</td><td>si</td><td>0.069</td><td>27.00000</td><td>si</td></tr>\n",
       "\t<tr><th scope=row>3</th><td>100</td><td>66.40</td><td>norte</td><td>3</td><td>2</td><td>2</td><td>no</td><td>no</td><td>0.000</td><td>15.73843</td><td>no</td></tr>\n",
       "\t<tr><th scope=row>4</th><td>123</td><td>61.85</td><td>norte</td><td>2</td><td>3</td><td>2</td><td>si</td><td>si</td><td>0.130</td><td>27.00000</td><td>no</td></tr>\n",
       "\t<tr><th scope=row>5</th><td>135</td><td>89.80</td><td>norte</td><td>4</td><td>3</td><td>2</td><td>si</td><td>no</td><td>0.000</td><td>39.56700</td><td>si</td></tr>\n",
       "\t<tr><th scope=row>6</th><td>140</td><td>71.00</td><td>norte</td><td>3</td><td>3</td><td>2</td><td>no</td><td>si</td><td>0.120</td><td>31.14551</td><td>si</td></tr>\n",
       "</tbody>\n",
       "</table>\n"
      ],
      "text/latex": [
       "A data.frame: 6 × 11\n",
       "\\begin{tabular}{r|lllllllllll}\n",
       "  & precio & mt2 & ubicacion & estrato & alcobas & banos & balcon & parqueadero & administracion & avaluo & terminado\\\\\n",
       "  & <dbl> & <dbl> & <fct> & <int> & <int> & <int> & <fct> & <fct> & <dbl> & <dbl> & <fct>\\\\\n",
       "\\hline\n",
       "\t1 &  79 & 43.16 & norte & 3 & 3 & 1 & si & si & 0.050 & 14.92300 & no\\\\\n",
       "\t2 &  93 & 56.92 & norte & 2 & 2 & 1 & si & si & 0.069 & 27.00000 & si\\\\\n",
       "\t3 & 100 & 66.40 & norte & 3 & 2 & 2 & no & no & 0.000 & 15.73843 & no\\\\\n",
       "\t4 & 123 & 61.85 & norte & 2 & 3 & 2 & si & si & 0.130 & 27.00000 & no\\\\\n",
       "\t5 & 135 & 89.80 & norte & 4 & 3 & 2 & si & no & 0.000 & 39.56700 & si\\\\\n",
       "\t6 & 140 & 71.00 & norte & 3 & 3 & 2 & no & si & 0.120 & 31.14551 & si\\\\\n",
       "\\end{tabular}\n"
      ],
      "text/markdown": [
       "\n",
       "A data.frame: 6 × 11\n",
       "\n",
       "| <!--/--> | precio &lt;dbl&gt; | mt2 &lt;dbl&gt; | ubicacion &lt;fct&gt; | estrato &lt;int&gt; | alcobas &lt;int&gt; | banos &lt;int&gt; | balcon &lt;fct&gt; | parqueadero &lt;fct&gt; | administracion &lt;dbl&gt; | avaluo &lt;dbl&gt; | terminado &lt;fct&gt; |\n",
       "|---|---|---|---|---|---|---|---|---|---|---|---|\n",
       "| 1 |  79 | 43.16 | norte | 3 | 3 | 1 | si | si | 0.050 | 14.92300 | no |\n",
       "| 2 |  93 | 56.92 | norte | 2 | 2 | 1 | si | si | 0.069 | 27.00000 | si |\n",
       "| 3 | 100 | 66.40 | norte | 3 | 2 | 2 | no | no | 0.000 | 15.73843 | no |\n",
       "| 4 | 123 | 61.85 | norte | 2 | 3 | 2 | si | si | 0.130 | 27.00000 | no |\n",
       "| 5 | 135 | 89.80 | norte | 4 | 3 | 2 | si | no | 0.000 | 39.56700 | si |\n",
       "| 6 | 140 | 71.00 | norte | 3 | 3 | 2 | no | si | 0.120 | 31.14551 | si |\n",
       "\n"
      ],
      "text/plain": [
       "  precio mt2   ubicacion estrato alcobas banos balcon parqueadero\n",
       "1  79    43.16 norte     3       3       1     si     si         \n",
       "2  93    56.92 norte     2       2       1     si     si         \n",
       "3 100    66.40 norte     3       2       2     no     no         \n",
       "4 123    61.85 norte     2       3       2     si     si         \n",
       "5 135    89.80 norte     4       3       2     si     no         \n",
       "6 140    71.00 norte     3       3       2     no     si         \n",
       "  administracion avaluo   terminado\n",
       "1 0.050          14.92300 no       \n",
       "2 0.069          27.00000 si       \n",
       "3 0.000          15.73843 no       \n",
       "4 0.130          27.00000 no       \n",
       "5 0.000          39.56700 si       \n",
       "6 0.120          31.14551 si       "
      ]
     },
     "metadata": {},
     "output_type": "display_data"
    }
   ],
   "source": [
    "head(datos)"
   ]
  },
  {
   "cell_type": "markdown",
   "metadata": {},
   "source": [
    "\n",
    "\n",
    "<img src=\"https://media.biobiochile.cl/wp-content/uploads/2017/11/grafico-sebastian-piera-victimizacion-730x350.jpg\" alt=\"\" align=\"middle\"/>\n",
    "\n",
    "\n",
    "\n",
    "![covid](covid.jpg)\n",
    "\n"
   ]
  },
  {
   "cell_type": "code",
   "execution_count": 119,
   "metadata": {},
   "outputs": [
    {
     "data": {
      "image/png": "[encoded data removed]",
      "text/plain": [
       "Plot with title “(a)”"
      ]
     },
     "metadata": {
      "image/png": {
       "height": 420,
       "width": 420
      },
      "text/plain": {
       "height": 420,
       "width": 420
      }
     },
     "output_type": "display_data"
    }
   ],
   "source": [
    "boxplot(precio ~ balcon, data=datos,\n",
    "        col=c('lightblue', 'pink'),\n",
    "        xlab='¿Tiene balcón?', main='(a)',\n",
    "        ylab='Precio (millones $)')"
   ]
  },
  {
   "cell_type": "code",
   "execution_count": 54,
   "metadata": {},
   "outputs": [
    {
     "data": {
      "image/png": "[encoded data removed]",
      "text/plain": [
       "Plot with title “(b)”"
      ]
     },
     "metadata": {
      "image/png": {
       "height": 420,
       "width": 420
      },
      "text/plain": {
       "height": 420,
       "width": 420
      }
     },
     "output_type": "display_data"
    }
   ],
   "source": [
    "boxplot(precio ~ ubicacion * parqueadero,\n",
    "        data=datos, drop=TRUE, col=c('lightblue', 'pink'),\n",
    "        subset=ubicacion %in% c('laureles', 'aburra sur'),\n",
    "        xlab='Ubicación y parqueadero',\n",
    "        ylab='Precio (millones $)', main='(b)')"
   ]
  },
  {
   "cell_type": "markdown",
   "metadata": {},
   "source": [
    "Ahora veamos como podemos construir una base de datos. Para esto tomemos el ejemplo de tiempos de llegada en una maratón."
   ]
  },
  {
   "cell_type": "code",
   "execution_count": 120,
   "metadata": {},
   "outputs": [
    {
     "data": {
      "text/html": [
       "<style>\n",
       ".list-inline {list-style: none; margin:0; padding: 0}\n",
       ".list-inline>li {display: inline-block}\n",
       ".list-inline>li:not(:last-child)::after {content: \"\\00b7\"; padding: 0 .5ex}\n",
       "</style>\n",
       "<ol class=list-inline><li>10253</li><li>10302</li><li>10307</li><li>10309</li><li>10349</li><li>10353</li></ol>\n"
      ],
      "text/latex": [
       "\\begin{enumerate*}\n",
       "\\item 10253\n",
       "\\item 10302\n",
       "\\item 10307\n",
       "\\item 10309\n",
       "\\item 10349\n",
       "\\item 10353\n",
       "\\end{enumerate*}\n"
      ],
      "text/markdown": [
       "1. 10253\n",
       "2. 10302\n",
       "3. 10307\n",
       "4. 10309\n",
       "5. 10349\n",
       "6. 10353\n",
       "\n",
       "\n"
      ],
      "text/plain": [
       "[1] 10253 10302 10307 10309 10349 10353"
      ]
     },
     "metadata": {},
     "output_type": "display_data"
    },
    {
     "data": {
      "text/html": [
       "<style>\n",
       ".list-inline {list-style: none; margin:0; padding: 0}\n",
       ".list-inline>li {display: inline-block}\n",
       ".list-inline>li:not(:last-child)::after {content: \"\\00b7\"; padding: 0 .5ex}\n",
       "</style>\n",
       "<ol class=list-inline><li>10253</li><li>10302</li><li>10307</li><li>10309</li><li>10349</li><li>10353</li><li>10409</li><li>10442</li><li>10447</li><li>10452</li><li>10504</li><li>10517</li><li>10530</li><li>10540</li><li>10549</li><li>10549</li><li>10606</li><li>10612</li><li>10646</li><li>10648</li><li>10655</li><li>10707</li><li>10726</li><li>10731</li><li>10737</li><li>10743</li><li>10808</li><li>10833</li><li>10843</li><li>10920</li><li>10938</li><li>10949</li><li>10954</li><li>10956</li><li>10958</li><li>11004</li><li>11009</li><li>11024</li><li>11037</li><li>11045</li><li>11046</li><li>11049</li><li>11104</li><li>11127</li><li>11205</li><li>11207</li><li>11215</li><li>11226</li><li>11233</li><li>11239</li><li>11307</li><li>11330</li><li>11342</li><li>11351</li><li>11405</li><li>11413</li><li>11438</li><li>11453</li><li>11500</li><li>11501</li><li>11502</li><li>11503</li><li>11527</li><li>11544</li><li>11549</li><li>11559</li><li>11612</li><li>11617</li><li>11635</li><li>11655</li><li>11731</li><li>11735</li><li>11746</li><li>11800</li><li>11814</li><li>11828</li><li>11832</li><li>11841</li><li>11909</li><li>11926</li><li>11937</li><li>11940</li><li>11947</li><li>11952</li><li>12005</li><li>12044</li><li>12113</li><li>12209</li><li>12230</li><li>12258</li><li>12309</li><li>12327</li><li>12341</li><li>12413</li><li>12433</li><li>12440</li><li>12447</li><li>12530</li><li>12600</li><li>12617</li><li>12640</li><li>12700</li><li>12706</li><li>12727</li><li>12840</li><li>12851</li><li>12851</li><li>12937</li><li>13019</li><li>13040</li><li>13110</li><li>13114</li><li>13122</li><li>13155</li><li>13205</li><li>13210</li><li>13220</li><li>13228</li><li>13307</li><li>13316</li><li>13335</li><li>13420</li><li>13425</li><li>13435</li><li>13435</li><li>13448</li><li>13456</li><li>13536</li><li>13608</li><li>13612</li><li>13620</li><li>13646</li><li>13705</li><li>13730</li><li>13730</li><li>13730</li><li>13747</li><li>13810</li><li>13850</li><li>13854</li><li>13901</li><li>13905</li><li>13907</li><li>13912</li><li>13920</li><li>14000</li><li>14010</li><li>14025</li><li>14152</li><li>14208</li><li>14230</li><li>14344</li><li>14400</li><li>14455</li><li>14509</li><li>14552</li><li>14652</li><li>15009</li><li>15026</li><li>15242</li><li>15406</li><li>15409</li><li>15528</li><li>15549</li><li>15644</li><li>15758</li><li>15837</li><li>15916</li><li>15926</li><li>15948</li><li>20055</li><li>20416</li><li>20520</li><li>20600</li><li>20732</li><li>20748</li><li>20916</li><li>21149</li><li>21714</li><li>23256</li></ol>\n"
      ],
      "text/latex": [
       "\\begin{enumerate*}\n",
       "\\item 10253\n",
       "\\item 10302\n",
       "\\item 10307\n",
       "\\item 10309\n",
       "\\item 10349\n",
       "\\item 10353\n",
       "\\item 10409\n",
       "\\item 10442\n",
       "\\item 10447\n",
       "\\item 10452\n",
       "\\item 10504\n",
       "\\item 10517\n",
       "\\item 10530\n",
       "\\item 10540\n",
       "\\item 10549\n",
       "\\item 10549\n",
       "\\item 10606\n",
       "\\item 10612\n",
       "\\item 10646\n",
       "\\item 10648\n",
       "\\item 10655\n",
       "\\item 10707\n",
       "\\item 10726\n",
       "\\item 10731\n",
       "\\item 10737\n",
       "\\item 10743\n",
       "\\item 10808\n",
       "\\item 10833\n",
       "\\item 10843\n",
       "\\item 10920\n",
       "\\item 10938\n",
       "\\item 10949\n",
       "\\item 10954\n",
       "\\item 10956\n",
       "\\item 10958\n",
       "\\item 11004\n",
       "\\item 11009\n",
       "\\item 11024\n",
       "\\item 11037\n",
       "\\item 11045\n",
       "\\item 11046\n",
       "\\item 11049\n",
       "\\item 11104\n",
       "\\item 11127\n",
       "\\item 11205\n",
       "\\item 11207\n",
       "\\item 11215\n",
       "\\item 11226\n",
       "\\item 11233\n",
       "\\item 11239\n",
       "\\item 11307\n",
       "\\item 11330\n",
       "\\item 11342\n",
       "\\item 11351\n",
       "\\item 11405\n",
       "\\item 11413\n",
       "\\item 11438\n",
       "\\item 11453\n",
       "\\item 11500\n",
       "\\item 11501\n",
       "\\item 11502\n",
       "\\item 11503\n",
       "\\item 11527\n",
       "\\item 11544\n",
       "\\item 11549\n",
       "\\item 11559\n",
       "\\item 11612\n",
       "\\item 11617\n",
       "\\item 11635\n",
       "\\item 11655\n",
       "\\item 11731\n",
       "\\item 11735\n",
       "\\item 11746\n",
       "\\item 11800\n",
       "\\item 11814\n",
       "\\item 11828\n",
       "\\item 11832\n",
       "\\item 11841\n",
       "\\item 11909\n",
       "\\item 11926\n",
       "\\item 11937\n",
       "\\item 11940\n",
       "\\item 11947\n",
       "\\item 11952\n",
       "\\item 12005\n",
       "\\item 12044\n",
       "\\item 12113\n",
       "\\item 12209\n",
       "\\item 12230\n",
       "\\item 12258\n",
       "\\item 12309\n",
       "\\item 12327\n",
       "\\item 12341\n",
       "\\item 12413\n",
       "\\item 12433\n",
       "\\item 12440\n",
       "\\item 12447\n",
       "\\item 12530\n",
       "\\item 12600\n",
       "\\item 12617\n",
       "\\item 12640\n",
       "\\item 12700\n",
       "\\item 12706\n",
       "\\item 12727\n",
       "\\item 12840\n",
       "\\item 12851\n",
       "\\item 12851\n",
       "\\item 12937\n",
       "\\item 13019\n",
       "\\item 13040\n",
       "\\item 13110\n",
       "\\item 13114\n",
       "\\item 13122\n",
       "\\item 13155\n",
       "\\item 13205\n",
       "\\item 13210\n",
       "\\item 13220\n",
       "\\item 13228\n",
       "\\item 13307\n",
       "\\item 13316\n",
       "\\item 13335\n",
       "\\item 13420\n",
       "\\item 13425\n",
       "\\item 13435\n",
       "\\item 13435\n",
       "\\item 13448\n",
       "\\item 13456\n",
       "\\item 13536\n",
       "\\item 13608\n",
       "\\item 13612\n",
       "\\item 13620\n",
       "\\item 13646\n",
       "\\item 13705\n",
       "\\item 13730\n",
       "\\item 13730\n",
       "\\item 13730\n",
       "\\item 13747\n",
       "\\item 13810\n",
       "\\item 13850\n",
       "\\item 13854\n",
       "\\item 13901\n",
       "\\item 13905\n",
       "\\item 13907\n",
       "\\item 13912\n",
       "\\item 13920\n",
       "\\item 14000\n",
       "\\item 14010\n",
       "\\item 14025\n",
       "\\item 14152\n",
       "\\item 14208\n",
       "\\item 14230\n",
       "\\item 14344\n",
       "\\item 14400\n",
       "\\item 14455\n",
       "\\item 14509\n",
       "\\item 14552\n",
       "\\item 14652\n",
       "\\item 15009\n",
       "\\item 15026\n",
       "\\item 15242\n",
       "\\item 15406\n",
       "\\item 15409\n",
       "\\item 15528\n",
       "\\item 15549\n",
       "\\item 15644\n",
       "\\item 15758\n",
       "\\item 15837\n",
       "\\item 15916\n",
       "\\item 15926\n",
       "\\item 15948\n",
       "\\item 20055\n",
       "\\item 20416\n",
       "\\item 20520\n",
       "\\item 20600\n",
       "\\item 20732\n",
       "\\item 20748\n",
       "\\item 20916\n",
       "\\item 21149\n",
       "\\item 21714\n",
       "\\item 23256\n",
       "\\end{enumerate*}\n"
      ],
      "text/markdown": [
       "1. 10253\n",
       "2. 10302\n",
       "3. 10307\n",
       "4. 10309\n",
       "5. 10349\n",
       "6. 10353\n",
       "7. 10409\n",
       "8. 10442\n",
       "9. 10447\n",
       "10. 10452\n",
       "11. 10504\n",
       "12. 10517\n",
       "13. 10530\n",
       "14. 10540\n",
       "15. 10549\n",
       "16. 10549\n",
       "17. 10606\n",
       "18. 10612\n",
       "19. 10646\n",
       "20. 10648\n",
       "21. 10655\n",
       "22. 10707\n",
       "23. 10726\n",
       "24. 10731\n",
       "25. 10737\n",
       "26. 10743\n",
       "27. 10808\n",
       "28. 10833\n",
       "29. 10843\n",
       "30. 10920\n",
       "31. 10938\n",
       "32. 10949\n",
       "33. 10954\n",
       "34. 10956\n",
       "35. 10958\n",
       "36. 11004\n",
       "37. 11009\n",
       "38. 11024\n",
       "39. 11037\n",
       "40. 11045\n",
       "41. 11046\n",
       "42. 11049\n",
       "43. 11104\n",
       "44. 11127\n",
       "45. 11205\n",
       "46. 11207\n",
       "47. 11215\n",
       "48. 11226\n",
       "49. 11233\n",
       "50. 11239\n",
       "51. 11307\n",
       "52. 11330\n",
       "53. 11342\n",
       "54. 11351\n",
       "55. 11405\n",
       "56. 11413\n",
       "57. 11438\n",
       "58. 11453\n",
       "59. 11500\n",
       "60. 11501\n",
       "61. 11502\n",
       "62. 11503\n",
       "63. 11527\n",
       "64. 11544\n",
       "65. 11549\n",
       "66. 11559\n",
       "67. 11612\n",
       "68. 11617\n",
       "69. 11635\n",
       "70. 11655\n",
       "71. 11731\n",
       "72. 11735\n",
       "73. 11746\n",
       "74. 11800\n",
       "75. 11814\n",
       "76. 11828\n",
       "77. 11832\n",
       "78. 11841\n",
       "79. 11909\n",
       "80. 11926\n",
       "81. 11937\n",
       "82. 11940\n",
       "83. 11947\n",
       "84. 11952\n",
       "85. 12005\n",
       "86. 12044\n",
       "87. 12113\n",
       "88. 12209\n",
       "89. 12230\n",
       "90. 12258\n",
       "91. 12309\n",
       "92. 12327\n",
       "93. 12341\n",
       "94. 12413\n",
       "95. 12433\n",
       "96. 12440\n",
       "97. 12447\n",
       "98. 12530\n",
       "99. 12600\n",
       "100. 12617\n",
       "101. 12640\n",
       "102. 12700\n",
       "103. 12706\n",
       "104. 12727\n",
       "105. 12840\n",
       "106. 12851\n",
       "107. 12851\n",
       "108. 12937\n",
       "109. 13019\n",
       "110. 13040\n",
       "111. 13110\n",
       "112. 13114\n",
       "113. 13122\n",
       "114. 13155\n",
       "115. 13205\n",
       "116. 13210\n",
       "117. 13220\n",
       "118. 13228\n",
       "119. 13307\n",
       "120. 13316\n",
       "121. 13335\n",
       "122. 13420\n",
       "123. 13425\n",
       "124. 13435\n",
       "125. 13435\n",
       "126. 13448\n",
       "127. 13456\n",
       "128. 13536\n",
       "129. 13608\n",
       "130. 13612\n",
       "131. 13620\n",
       "132. 13646\n",
       "133. 13705\n",
       "134. 13730\n",
       "135. 13730\n",
       "136. 13730\n",
       "137. 13747\n",
       "138. 13810\n",
       "139. 13850\n",
       "140. 13854\n",
       "141. 13901\n",
       "142. 13905\n",
       "143. 13907\n",
       "144. 13912\n",
       "145. 13920\n",
       "146. 14000\n",
       "147. 14010\n",
       "148. 14025\n",
       "149. 14152\n",
       "150. 14208\n",
       "151. 14230\n",
       "152. 14344\n",
       "153. 14400\n",
       "154. 14455\n",
       "155. 14509\n",
       "156. 14552\n",
       "157. 14652\n",
       "158. 15009\n",
       "159. 15026\n",
       "160. 15242\n",
       "161. 15406\n",
       "162. 15409\n",
       "163. 15528\n",
       "164. 15549\n",
       "165. 15644\n",
       "166. 15758\n",
       "167. 15837\n",
       "168. 15916\n",
       "169. 15926\n",
       "170. 15948\n",
       "171. 20055\n",
       "172. 20416\n",
       "173. 20520\n",
       "174. 20600\n",
       "175. 20732\n",
       "176. 20748\n",
       "177. 20916\n",
       "178. 21149\n",
       "179. 21714\n",
       "180. 23256\n",
       "\n",
       "\n"
      ],
      "text/plain": [
       "  [1] 10253 10302 10307 10309 10349 10353 10409 10442 10447 10452 10504 10517\n",
       " [13] 10530 10540 10549 10549 10606 10612 10646 10648 10655 10707 10726 10731\n",
       " [25] 10737 10743 10808 10833 10843 10920 10938 10949 10954 10956 10958 11004\n",
       " [37] 11009 11024 11037 11045 11046 11049 11104 11127 11205 11207 11215 11226\n",
       " [49] 11233 11239 11307 11330 11342 11351 11405 11413 11438 11453 11500 11501\n",
       " [61] 11502 11503 11527 11544 11549 11559 11612 11617 11635 11655 11731 11735\n",
       " [73] 11746 11800 11814 11828 11832 11841 11909 11926 11937 11940 11947 11952\n",
       " [85] 12005 12044 12113 12209 12230 12258 12309 12327 12341 12413 12433 12440\n",
       " [97] 12447 12530 12600 12617 12640 12700 12706 12727 12840 12851 12851 12937\n",
       "[109] 13019 13040 13110 13114 13122 13155 13205 13210 13220 13228 13307 13316\n",
       "[121] 13335 13420 13425 13435 13435 13448 13456 13536 13608 13612 13620 13646\n",
       "[133] 13705 13730 13730 13730 13747 13810 13850 13854 13901 13905 13907 13912\n",
       "[145] 13920 14000 14010 14025 14152 14208 14230 14344 14400 14455 14509 14552\n",
       "[157] 14652 15009 15026 15242 15406 15409 15528 15549 15644 15758 15837 15916\n",
       "[169] 15926 15948 20055 20416 20520 20600 20732 20748 20916 21149 21714 23256"
      ]
     },
     "metadata": {},
     "output_type": "display_data"
    }
   ],
   "source": [
    "maraton <- c(\n",
    "10253, 10302, 10307, 10309, 10349, 10353, 10409, 10442, 10447, \n",
    "10452, 10504, 10517, 10530, 10540, 10549, 10549, 10606, 10612, \n",
    "10646, 10648, 10655, 10707, 10726, 10731, 10737, 10743, 10808, \n",
    "10833, 10843, 10920, 10938, 10949, 10954, 10956, 10958, 11004, \n",
    "11009, 11024, 11037, 11045, 11046, 11049, 11104, 11127, 11205, \n",
    "11207, 11215, 11226, 11233, 11239, 11307, 11330, 11342, 11351, \n",
    "11405, 11413, 11438, 11453, 11500, 11501, 11502, 11503, 11527, \n",
    "11544, 11549, 11559, 11612, 11617, 11635, 11655, 11731, 11735,\n",
    "11746, 11800, 11814, 11828, 11832, 11841, 11909, 11926, 11937, \n",
    "11940, 11947, 11952, 12005, 12044, 12113, 12209, 12230, 12258, \n",
    "12309, 12327, 12341, 12413, 12433, 12440, 12447, 12530, 12600, \n",
    "12617, 12640, 12700, 12706, 12727, 12840, 12851, 12851, 12937,\n",
    "13019, 13040, 13110, 13114, 13122, 13155, 13205, 13210, 13220, \n",
    "13228, 13307, 13316, 13335, 13420, 13425, 13435, 13435, 13448, \n",
    "13456, 13536, 13608, 13612, 13620, 13646, 13705, 13730, 13730, \n",
    "13730, 13747, 13810, 13850, 13854, 13901, 13905, 13907, 13912,\n",
    "13920, 14000, 14010, 14025, 14152, 14208, 14230, 14344, 14400, \n",
    "14455, 14509, 14552, 14652, 15009, 15026, 15242, 15406, 15409, \n",
    "15528, 15549, 15644, 15758, 15837, 15916, 15926, 15948, 20055, \n",
    "20416, 20520, 20600, 20732, 20748, 20916, 21149, 21714, 23256)\n",
    "head(maraton)\n",
    "maraton"
   ]
  },
  {
   "cell_type": "code",
   "execution_count": 121,
   "metadata": {},
   "outputs": [],
   "source": [
    "horas <- maraton %/% 10000\n",
    "min <- (maraton - horas * 10000) %/% 100\n",
    "seg <- maraton - horas * 10000 - min * 100\n",
    "Tiempos <- horas + min / 60 + seg / 3600"
   ]
  },
  {
   "cell_type": "code",
   "execution_count": 124,
   "metadata": {},
   "outputs": [
    {
     "data": {
      "text/html": [
       "<style>\n",
       ".list-inline {list-style: none; margin:0; padding: 0}\n",
       ".list-inline>li {display: inline-block}\n",
       ".list-inline>li:not(:last-child)::after {content: \"\\00b7\"; padding: 0 .5ex}\n",
       "</style>\n",
       "<ol class=list-inline><li>1.04805555555556</li><li>1.05055555555556</li><li>1.05194444444444</li><li>1.0525</li><li>1.06361111111111</li><li>1.06472222222222</li></ol>\n"
      ],
      "text/latex": [
       "\\begin{enumerate*}\n",
       "\\item 1.04805555555556\n",
       "\\item 1.05055555555556\n",
       "\\item 1.05194444444444\n",
       "\\item 1.0525\n",
       "\\item 1.06361111111111\n",
       "\\item 1.06472222222222\n",
       "\\end{enumerate*}\n"
      ],
      "text/markdown": [
       "1. 1.04805555555556\n",
       "2. 1.05055555555556\n",
       "3. 1.05194444444444\n",
       "4. 1.0525\n",
       "5. 1.06361111111111\n",
       "6. 1.06472222222222\n",
       "\n",
       "\n"
      ],
      "text/plain": [
       "[1] 1.048056 1.050556 1.051944 1.052500 1.063611 1.064722"
      ]
     },
     "metadata": {},
     "output_type": "display_data"
    }
   ],
   "source": [
    "head(Tiempos)"
   ]
  },
  {
   "cell_type": "code",
   "execution_count": 129,
   "metadata": {},
   "outputs": [],
   "source": [
    "datattime=data.frame('tiempo'=Tiempos)"
   ]
  },
  {
   "cell_type": "code",
   "execution_count": 130,
   "metadata": {},
   "outputs": [
    {
     "data": {
      "text/html": [
       "<table>\n",
       "<caption>A data.frame: 6 × 1</caption>\n",
       "<thead>\n",
       "\t<tr><th></th><th scope=col>tiempo</th></tr>\n",
       "\t<tr><th></th><th scope=col>&lt;dbl&gt;</th></tr>\n",
       "</thead>\n",
       "<tbody>\n",
       "\t<tr><th scope=row>1</th><td>1.048056</td></tr>\n",
       "\t<tr><th scope=row>2</th><td>1.050556</td></tr>\n",
       "\t<tr><th scope=row>3</th><td>1.051944</td></tr>\n",
       "\t<tr><th scope=row>4</th><td>1.052500</td></tr>\n",
       "\t<tr><th scope=row>5</th><td>1.063611</td></tr>\n",
       "\t<tr><th scope=row>6</th><td>1.064722</td></tr>\n",
       "</tbody>\n",
       "</table>\n"
      ],
      "text/latex": [
       "A data.frame: 6 × 1\n",
       "\\begin{tabular}{r|l}\n",
       "  & tiempo\\\\\n",
       "  & <dbl>\\\\\n",
       "\\hline\n",
       "\t1 & 1.048056\\\\\n",
       "\t2 & 1.050556\\\\\n",
       "\t3 & 1.051944\\\\\n",
       "\t4 & 1.052500\\\\\n",
       "\t5 & 1.063611\\\\\n",
       "\t6 & 1.064722\\\\\n",
       "\\end{tabular}\n"
      ],
      "text/markdown": [
       "\n",
       "A data.frame: 6 × 1\n",
       "\n",
       "| <!--/--> | tiempo &lt;dbl&gt; |\n",
       "|---|---|\n",
       "| 1 | 1.048056 |\n",
       "| 2 | 1.050556 |\n",
       "| 3 | 1.051944 |\n",
       "| 4 | 1.052500 |\n",
       "| 5 | 1.063611 |\n",
       "| 6 | 1.064722 |\n",
       "\n"
      ],
      "text/plain": [
       "  tiempo  \n",
       "1 1.048056\n",
       "2 1.050556\n",
       "3 1.051944\n",
       "4 1.052500\n",
       "5 1.063611\n",
       "6 1.064722"
      ]
     },
     "metadata": {},
     "output_type": "display_data"
    }
   ],
   "source": [
    "head(datattime)"
   ]
  },
  {
   "cell_type": "code",
   "execution_count": 60,
   "metadata": {},
   "outputs": [
    {
     "data": {
      "text/html": [
       "<style>\n",
       ".list-inline {list-style: none; margin:0; padding: 0}\n",
       ".list-inline>li {display: inline-block}\n",
       ".list-inline>li:not(:last-child)::after {content: \"\\00b7\"; padding: 0 .5ex}\n",
       "</style>\n",
       "<ol class=list-inline><li>180</li><li>1</li></ol>\n"
      ],
      "text/latex": [
       "\\begin{enumerate*}\n",
       "\\item 180\n",
       "\\item 1\n",
       "\\end{enumerate*}\n"
      ],
      "text/markdown": [
       "1. 180\n",
       "2. 1\n",
       "\n",
       "\n"
      ],
      "text/plain": [
       "[1] 180   1"
      ]
     },
     "metadata": {},
     "output_type": "display_data"
    }
   ],
   "source": [
    "dim(datattime)"
   ]
  },
  {
   "cell_type": "code",
   "execution_count": 132,
   "metadata": {},
   "outputs": [
    {
     "data": {
      "text/html": [
       "<style>\n",
       ".list-inline {list-style: none; margin:0; padding: 0}\n",
       ".list-inline>li {display: inline-block}\n",
       ".list-inline>li:not(:last-child)::after {content: \"\\00b7\"; padding: 0 .5ex}\n",
       "</style>\n",
       "<ol class=list-inline><li>1</li><li>2</li><li>3</li><li>4</li><li>5</li><li>6</li><li>7</li><li>8</li><li>9</li><li>10</li><li>11</li><li>12</li><li>13</li><li>14</li><li>15</li><li>16</li><li>17</li><li>18</li><li>19</li><li>20</li><li>21</li><li>22</li><li>23</li><li>24</li><li>25</li><li>26</li><li>27</li><li>28</li><li>29</li><li>30</li><li>31</li><li>32</li><li>33</li><li>34</li><li>35</li><li>36</li><li>37</li><li>38</li><li>39</li><li>40</li><li>41</li><li>42</li><li>43</li><li>44</li><li>45</li><li>46</li><li>47</li><li>48</li><li>49</li><li>50</li><li>51</li><li>52</li><li>53</li><li>54</li><li>55</li><li>56</li><li>57</li><li>58</li><li>59</li><li>60</li><li>61</li><li>62</li><li>63</li><li>64</li><li>65</li><li>66</li><li>67</li><li>68</li><li>69</li><li>70</li><li>71</li><li>72</li><li>73</li><li>74</li><li>75</li><li>76</li><li>77</li><li>78</li><li>79</li><li>80</li><li>81</li><li>82</li><li>83</li><li>84</li><li>85</li><li>86</li><li>87</li><li>88</li><li>89</li><li>90</li><li>91</li><li>92</li><li>93</li><li>94</li><li>95</li><li>96</li><li>97</li><li>98</li><li>99</li><li>100</li><li>101</li><li>102</li><li>103</li><li>104</li><li>105</li><li>106</li><li>107</li><li>108</li><li>109</li><li>110</li><li>111</li><li>112</li><li>113</li><li>114</li><li>115</li><li>116</li><li>117</li><li>118</li><li>119</li><li>120</li><li>121</li><li>122</li><li>123</li><li>124</li><li>125</li><li>126</li><li>127</li><li>128</li><li>129</li><li>130</li><li>131</li><li>132</li><li>133</li><li>134</li><li>135</li><li>136</li><li>137</li><li>138</li><li>139</li><li>140</li><li>141</li><li>142</li><li>143</li><li>144</li><li>145</li><li>146</li><li>147</li><li>148</li><li>149</li><li>150</li><li>151</li><li>152</li><li>153</li><li>154</li><li>155</li><li>156</li><li>157</li><li>158</li><li>159</li><li>160</li><li>161</li><li>162</li><li>163</li><li>164</li><li>165</li><li>166</li><li>167</li><li>168</li><li>169</li><li>170</li><li>171</li><li>172</li><li>173</li><li>174</li><li>175</li><li>176</li><li>177</li><li>178</li><li>179</li><li>180</li></ol>\n"
      ],
      "text/latex": [
       "\\begin{enumerate*}\n",
       "\\item 1\n",
       "\\item 2\n",
       "\\item 3\n",
       "\\item 4\n",
       "\\item 5\n",
       "\\item 6\n",
       "\\item 7\n",
       "\\item 8\n",
       "\\item 9\n",
       "\\item 10\n",
       "\\item 11\n",
       "\\item 12\n",
       "\\item 13\n",
       "\\item 14\n",
       "\\item 15\n",
       "\\item 16\n",
       "\\item 17\n",
       "\\item 18\n",
       "\\item 19\n",
       "\\item 20\n",
       "\\item 21\n",
       "\\item 22\n",
       "\\item 23\n",
       "\\item 24\n",
       "\\item 25\n",
       "\\item 26\n",
       "\\item 27\n",
       "\\item 28\n",
       "\\item 29\n",
       "\\item 30\n",
       "\\item 31\n",
       "\\item 32\n",
       "\\item 33\n",
       "\\item 34\n",
       "\\item 35\n",
       "\\item 36\n",
       "\\item 37\n",
       "\\item 38\n",
       "\\item 39\n",
       "\\item 40\n",
       "\\item 41\n",
       "\\item 42\n",
       "\\item 43\n",
       "\\item 44\n",
       "\\item 45\n",
       "\\item 46\n",
       "\\item 47\n",
       "\\item 48\n",
       "\\item 49\n",
       "\\item 50\n",
       "\\item 51\n",
       "\\item 52\n",
       "\\item 53\n",
       "\\item 54\n",
       "\\item 55\n",
       "\\item 56\n",
       "\\item 57\n",
       "\\item 58\n",
       "\\item 59\n",
       "\\item 60\n",
       "\\item 61\n",
       "\\item 62\n",
       "\\item 63\n",
       "\\item 64\n",
       "\\item 65\n",
       "\\item 66\n",
       "\\item 67\n",
       "\\item 68\n",
       "\\item 69\n",
       "\\item 70\n",
       "\\item 71\n",
       "\\item 72\n",
       "\\item 73\n",
       "\\item 74\n",
       "\\item 75\n",
       "\\item 76\n",
       "\\item 77\n",
       "\\item 78\n",
       "\\item 79\n",
       "\\item 80\n",
       "\\item 81\n",
       "\\item 82\n",
       "\\item 83\n",
       "\\item 84\n",
       "\\item 85\n",
       "\\item 86\n",
       "\\item 87\n",
       "\\item 88\n",
       "\\item 89\n",
       "\\item 90\n",
       "\\item 91\n",
       "\\item 92\n",
       "\\item 93\n",
       "\\item 94\n",
       "\\item 95\n",
       "\\item 96\n",
       "\\item 97\n",
       "\\item 98\n",
       "\\item 99\n",
       "\\item 100\n",
       "\\item 101\n",
       "\\item 102\n",
       "\\item 103\n",
       "\\item 104\n",
       "\\item 105\n",
       "\\item 106\n",
       "\\item 107\n",
       "\\item 108\n",
       "\\item 109\n",
       "\\item 110\n",
       "\\item 111\n",
       "\\item 112\n",
       "\\item 113\n",
       "\\item 114\n",
       "\\item 115\n",
       "\\item 116\n",
       "\\item 117\n",
       "\\item 118\n",
       "\\item 119\n",
       "\\item 120\n",
       "\\item 121\n",
       "\\item 122\n",
       "\\item 123\n",
       "\\item 124\n",
       "\\item 125\n",
       "\\item 126\n",
       "\\item 127\n",
       "\\item 128\n",
       "\\item 129\n",
       "\\item 130\n",
       "\\item 131\n",
       "\\item 132\n",
       "\\item 133\n",
       "\\item 134\n",
       "\\item 135\n",
       "\\item 136\n",
       "\\item 137\n",
       "\\item 138\n",
       "\\item 139\n",
       "\\item 140\n",
       "\\item 141\n",
       "\\item 142\n",
       "\\item 143\n",
       "\\item 144\n",
       "\\item 145\n",
       "\\item 146\n",
       "\\item 147\n",
       "\\item 148\n",
       "\\item 149\n",
       "\\item 150\n",
       "\\item 151\n",
       "\\item 152\n",
       "\\item 153\n",
       "\\item 154\n",
       "\\item 155\n",
       "\\item 156\n",
       "\\item 157\n",
       "\\item 158\n",
       "\\item 159\n",
       "\\item 160\n",
       "\\item 161\n",
       "\\item 162\n",
       "\\item 163\n",
       "\\item 164\n",
       "\\item 165\n",
       "\\item 166\n",
       "\\item 167\n",
       "\\item 168\n",
       "\\item 169\n",
       "\\item 170\n",
       "\\item 171\n",
       "\\item 172\n",
       "\\item 173\n",
       "\\item 174\n",
       "\\item 175\n",
       "\\item 176\n",
       "\\item 177\n",
       "\\item 178\n",
       "\\item 179\n",
       "\\item 180\n",
       "\\end{enumerate*}\n"
      ],
      "text/markdown": [
       "1. 1\n",
       "2. 2\n",
       "3. 3\n",
       "4. 4\n",
       "5. 5\n",
       "6. 6\n",
       "7. 7\n",
       "8. 8\n",
       "9. 9\n",
       "10. 10\n",
       "11. 11\n",
       "12. 12\n",
       "13. 13\n",
       "14. 14\n",
       "15. 15\n",
       "16. 16\n",
       "17. 17\n",
       "18. 18\n",
       "19. 19\n",
       "20. 20\n",
       "21. 21\n",
       "22. 22\n",
       "23. 23\n",
       "24. 24\n",
       "25. 25\n",
       "26. 26\n",
       "27. 27\n",
       "28. 28\n",
       "29. 29\n",
       "30. 30\n",
       "31. 31\n",
       "32. 32\n",
       "33. 33\n",
       "34. 34\n",
       "35. 35\n",
       "36. 36\n",
       "37. 37\n",
       "38. 38\n",
       "39. 39\n",
       "40. 40\n",
       "41. 41\n",
       "42. 42\n",
       "43. 43\n",
       "44. 44\n",
       "45. 45\n",
       "46. 46\n",
       "47. 47\n",
       "48. 48\n",
       "49. 49\n",
       "50. 50\n",
       "51. 51\n",
       "52. 52\n",
       "53. 53\n",
       "54. 54\n",
       "55. 55\n",
       "56. 56\n",
       "57. 57\n",
       "58. 58\n",
       "59. 59\n",
       "60. 60\n",
       "61. 61\n",
       "62. 62\n",
       "63. 63\n",
       "64. 64\n",
       "65. 65\n",
       "66. 66\n",
       "67. 67\n",
       "68. 68\n",
       "69. 69\n",
       "70. 70\n",
       "71. 71\n",
       "72. 72\n",
       "73. 73\n",
       "74. 74\n",
       "75. 75\n",
       "76. 76\n",
       "77. 77\n",
       "78. 78\n",
       "79. 79\n",
       "80. 80\n",
       "81. 81\n",
       "82. 82\n",
       "83. 83\n",
       "84. 84\n",
       "85. 85\n",
       "86. 86\n",
       "87. 87\n",
       "88. 88\n",
       "89. 89\n",
       "90. 90\n",
       "91. 91\n",
       "92. 92\n",
       "93. 93\n",
       "94. 94\n",
       "95. 95\n",
       "96. 96\n",
       "97. 97\n",
       "98. 98\n",
       "99. 99\n",
       "100. 100\n",
       "101. 101\n",
       "102. 102\n",
       "103. 103\n",
       "104. 104\n",
       "105. 105\n",
       "106. 106\n",
       "107. 107\n",
       "108. 108\n",
       "109. 109\n",
       "110. 110\n",
       "111. 111\n",
       "112. 112\n",
       "113. 113\n",
       "114. 114\n",
       "115. 115\n",
       "116. 116\n",
       "117. 117\n",
       "118. 118\n",
       "119. 119\n",
       "120. 120\n",
       "121. 121\n",
       "122. 122\n",
       "123. 123\n",
       "124. 124\n",
       "125. 125\n",
       "126. 126\n",
       "127. 127\n",
       "128. 128\n",
       "129. 129\n",
       "130. 130\n",
       "131. 131\n",
       "132. 132\n",
       "133. 133\n",
       "134. 134\n",
       "135. 135\n",
       "136. 136\n",
       "137. 137\n",
       "138. 138\n",
       "139. 139\n",
       "140. 140\n",
       "141. 141\n",
       "142. 142\n",
       "143. 143\n",
       "144. 144\n",
       "145. 145\n",
       "146. 146\n",
       "147. 147\n",
       "148. 148\n",
       "149. 149\n",
       "150. 150\n",
       "151. 151\n",
       "152. 152\n",
       "153. 153\n",
       "154. 154\n",
       "155. 155\n",
       "156. 156\n",
       "157. 157\n",
       "158. 158\n",
       "159. 159\n",
       "160. 160\n",
       "161. 161\n",
       "162. 162\n",
       "163. 163\n",
       "164. 164\n",
       "165. 165\n",
       "166. 166\n",
       "167. 167\n",
       "168. 168\n",
       "169. 169\n",
       "170. 170\n",
       "171. 171\n",
       "172. 172\n",
       "173. 173\n",
       "174. 174\n",
       "175. 175\n",
       "176. 176\n",
       "177. 177\n",
       "178. 178\n",
       "179. 179\n",
       "180. 180\n",
       "\n",
       "\n"
      ],
      "text/plain": [
       "  [1]   1   2   3   4   5   6   7   8   9  10  11  12  13  14  15  16  17  18\n",
       " [19]  19  20  21  22  23  24  25  26  27  28  29  30  31  32  33  34  35  36\n",
       " [37]  37  38  39  40  41  42  43  44  45  46  47  48  49  50  51  52  53  54\n",
       " [55]  55  56  57  58  59  60  61  62  63  64  65  66  67  68  69  70  71  72\n",
       " [73]  73  74  75  76  77  78  79  80  81  82  83  84  85  86  87  88  89  90\n",
       " [91]  91  92  93  94  95  96  97  98  99 100 101 102 103 104 105 106 107 108\n",
       "[109] 109 110 111 112 113 114 115 116 117 118 119 120 121 122 123 124 125 126\n",
       "[127] 127 128 129 130 131 132 133 134 135 136 137 138 139 140 141 142 143 144\n",
       "[145] 145 146 147 148 149 150 151 152 153 154 155 156 157 158 159 160 161 162\n",
       "[163] 163 164 165 166 167 168 169 170 171 172 173 174 175 176 177 178 179 180"
      ]
     },
     "metadata": {},
     "output_type": "display_data"
    }
   ],
   "source": [
    "numeros=c(1:180)\n",
    "numeros"
   ]
  },
  {
   "cell_type": "code",
   "execution_count": 137,
   "metadata": {},
   "outputs": [
    {
     "data": {
      "image/png": "[encoded data removed]",
      "text/plain": [
       "Plot with title “Primer histograma”"
      ]
     },
     "metadata": {
      "image/png": {
       "height": 420,
       "width": 420
      },
      "text/plain": {
       "height": 420,
       "width": 420
      }
     },
     "output_type": "display_data"
    }
   ],
   "source": [
    "hist(x=Tiempos, breaks=2, main=\"Primer histograma\", xlab=\"Tiempo (horas)\", ##x=variables de interes, breaks=#intervalos, main=Titulo, xlab=Nombre del eje x \n",
    "     ylab=\"Frecuencias\", las=1) #ylab=Nombre del eje y,  las="
   ]
  },
  {
   "cell_type": "code",
   "execution_count": 139,
   "metadata": {},
   "outputs": [
    {
     "data": {
      "image/png": "[encoded data removed]",
      "text/plain": [
       "Plot with title “”"
      ]
     },
     "metadata": {
      "image/png": {
       "height": 420,
       "width": 420
      },
      "text/plain": {
       "height": 420,
       "width": 420
      }
     },
     "output_type": "display_data"
    }
   ],
   "source": [
    "hist(x=Tiempos, breaks=4, main=\"\", xlab=\"Tiempo (horas)\",\n",
    " ylab=\"Frecuencias\", las=1)"
   ]
  },
  {
   "cell_type": "markdown",
   "metadata": {},
   "source": [
    "## Ejercicio 1"
   ]
  },
  {
   "cell_type": "code",
   "execution_count": 65,
   "metadata": {},
   "outputs": [
    {
     "data": {
      "text/html": [
       "<style>\n",
       ".list-inline {list-style: none; margin:0; padding: 0}\n",
       ".list-inline>li {display: inline-block}\n",
       ".list-inline>li:not(:last-child)::after {content: \"\\00b7\"; padding: 0 .5ex}\n",
       "</style>\n",
       "<ol class=list-inline><li>0.75</li><li>0.75</li><li>0.75</li><li>0.75</li><li>0.75</li><li>0.75</li><li>0.75</li><li>0.75</li><li>0.75</li><li>0.75</li><li>0.75</li><li>0.75</li><li>0.75</li><li>0.75</li><li>0.75</li><li>0.75</li><li>2.25</li><li>2.25</li><li>2.25</li><li>2.25</li><li>2.25</li><li>2.25</li><li>2.25</li><li>2.25</li><li>2.25</li><li>2.25</li><li>2.25</li><li>3.75</li><li>3.75</li><li>3.75</li><li>3.75</li><li>3.75</li><li>3.75</li><li>3.75</li><li>3.75</li><li>3.75</li><li>5.25</li><li>5.25</li><li>5.25</li><li>5.25</li><li>5.25</li><li>5.25</li><li>6.75</li><li>6.75</li><li>6.75</li><li>6.75</li><li>8.25</li><li>8.25</li><li>8.25</li><li>9.75</li></ol>\n"
      ],
      "text/latex": [
       "\\begin{enumerate*}\n",
       "\\item 0.75\n",
       "\\item 0.75\n",
       "\\item 0.75\n",
       "\\item 0.75\n",
       "\\item 0.75\n",
       "\\item 0.75\n",
       "\\item 0.75\n",
       "\\item 0.75\n",
       "\\item 0.75\n",
       "\\item 0.75\n",
       "\\item 0.75\n",
       "\\item 0.75\n",
       "\\item 0.75\n",
       "\\item 0.75\n",
       "\\item 0.75\n",
       "\\item 0.75\n",
       "\\item 2.25\n",
       "\\item 2.25\n",
       "\\item 2.25\n",
       "\\item 2.25\n",
       "\\item 2.25\n",
       "\\item 2.25\n",
       "\\item 2.25\n",
       "\\item 2.25\n",
       "\\item 2.25\n",
       "\\item 2.25\n",
       "\\item 2.25\n",
       "\\item 3.75\n",
       "\\item 3.75\n",
       "\\item 3.75\n",
       "\\item 3.75\n",
       "\\item 3.75\n",
       "\\item 3.75\n",
       "\\item 3.75\n",
       "\\item 3.75\n",
       "\\item 3.75\n",
       "\\item 5.25\n",
       "\\item 5.25\n",
       "\\item 5.25\n",
       "\\item 5.25\n",
       "\\item 5.25\n",
       "\\item 5.25\n",
       "\\item 6.75\n",
       "\\item 6.75\n",
       "\\item 6.75\n",
       "\\item 6.75\n",
       "\\item 8.25\n",
       "\\item 8.25\n",
       "\\item 8.25\n",
       "\\item 9.75\n",
       "\\end{enumerate*}\n"
      ],
      "text/markdown": [
       "1. 0.75\n",
       "2. 0.75\n",
       "3. 0.75\n",
       "4. 0.75\n",
       "5. 0.75\n",
       "6. 0.75\n",
       "7. 0.75\n",
       "8. 0.75\n",
       "9. 0.75\n",
       "10. 0.75\n",
       "11. 0.75\n",
       "12. 0.75\n",
       "13. 0.75\n",
       "14. 0.75\n",
       "15. 0.75\n",
       "16. 0.75\n",
       "17. 2.25\n",
       "18. 2.25\n",
       "19. 2.25\n",
       "20. 2.25\n",
       "21. 2.25\n",
       "22. 2.25\n",
       "23. 2.25\n",
       "24. 2.25\n",
       "25. 2.25\n",
       "26. 2.25\n",
       "27. 2.25\n",
       "28. 3.75\n",
       "29. 3.75\n",
       "30. 3.75\n",
       "31. 3.75\n",
       "32. 3.75\n",
       "33. 3.75\n",
       "34. 3.75\n",
       "35. 3.75\n",
       "36. 3.75\n",
       "37. 5.25\n",
       "38. 5.25\n",
       "39. 5.25\n",
       "40. 5.25\n",
       "41. 5.25\n",
       "42. 5.25\n",
       "43. 6.75\n",
       "44. 6.75\n",
       "45. 6.75\n",
       "46. 6.75\n",
       "47. 8.25\n",
       "48. 8.25\n",
       "49. 8.25\n",
       "50. 9.75\n",
       "\n",
       "\n"
      ],
      "text/plain": [
       " [1] 0.75 0.75 0.75 0.75 0.75 0.75 0.75 0.75 0.75 0.75 0.75 0.75 0.75 0.75 0.75\n",
       "[16] 0.75 2.25 2.25 2.25 2.25 2.25 2.25 2.25 2.25 2.25 2.25 2.25 3.75 3.75 3.75\n",
       "[31] 3.75 3.75 3.75 3.75 3.75 3.75 5.25 5.25 5.25 5.25 5.25 5.25 6.75 6.75 6.75\n",
       "[46] 6.75 8.25 8.25 8.25 9.75"
      ]
     },
     "metadata": {},
     "output_type": "display_data"
    }
   ],
   "source": [
    "ejercicio1<-c(rep(0.75, 16),rep(2.25,11),rep(3.75,9),rep(5.25,6),rep(6.75,4),rep(8.25,3),9.75)\n",
    "ejercicio1"
   ]
  },
  {
   "cell_type": "code",
   "execution_count": 66,
   "metadata": {},
   "outputs": [],
   "source": [
    "library(moments)"
   ]
  },
  {
   "cell_type": "code",
   "execution_count": 67,
   "metadata": {},
   "outputs": [
    {
     "data": {
      "text/html": [
       "0.790509968187315"
      ],
      "text/latex": [
       "0.790509968187315"
      ],
      "text/markdown": [
       "0.790509968187315"
      ],
      "text/plain": [
       "[1] 0.79051"
      ]
     },
     "metadata": {},
     "output_type": "display_data"
    }
   ],
   "source": [
    "skewness(ejercicio1)"
   ]
  },
  {
   "cell_type": "code",
   "execution_count": 68,
   "metadata": {},
   "outputs": [
    {
     "data": {
      "text/html": [
       "2.68450458665248"
      ],
      "text/latex": [
       "2.68450458665248"
      ],
      "text/markdown": [
       "2.68450458665248"
      ],
      "text/plain": [
       "[1] 2.684505"
      ]
     },
     "metadata": {},
     "output_type": "display_data"
    }
   ],
   "source": [
    "kurtosis(ejercicio1)"
   ]
  },
  {
   "cell_type": "code",
   "execution_count": 69,
   "metadata": {},
   "outputs": [
    {
     "data": {
      "text/html": [
       "3.27"
      ],
      "text/latex": [
       "3.27"
      ],
      "text/markdown": [
       "3.27"
      ],
      "text/plain": [
       "[1] 3.27"
      ]
     },
     "metadata": {},
     "output_type": "display_data"
    }
   ],
   "source": [
    "mean(ejercicio1)"
   ]
  },
  {
   "cell_type": "code",
   "execution_count": 70,
   "metadata": {},
   "outputs": [
    {
     "data": {
      "text/html": [
       "2.4886681955928"
      ],
      "text/latex": [
       "2.4886681955928"
      ],
      "text/markdown": [
       "2.4886681955928"
      ],
      "text/plain": [
       "[1] 2.488668"
      ]
     },
     "metadata": {},
     "output_type": "display_data"
    }
   ],
   "source": [
    "sd(ejercicio1)"
   ]
  },
  {
   "cell_type": "markdown",
   "metadata": {},
   "source": [
    "A continuación encontrarán las distintas paletas de colores de una librería que suelo usar, cuando debo graficar muchas cosas juntas y "
   ]
  },
  {
   "cell_type": "code",
   "execution_count": 3,
   "metadata": {},
   "outputs": [],
   "source": [
    "library(RColorBrewer) #Libreria de colores"
   ]
  },
  {
   "cell_type": "code",
   "execution_count": 4,
   "metadata": {},
   "outputs": [
    {
     "data": {
      "image/png": "[encoded data removed]",
      "text/plain": [
       "plot without title"
      ]
     },
     "metadata": {
      "image/png": {
       "height": 420,
       "width": 420
      },
      "text/plain": {
       "height": 420,
       "width": 420
      }
     },
     "output_type": "display_data"
    }
   ],
   "source": [
    "display.brewer.all(colorblindFriendly = T) #nombre de paletas de colores"
   ]
  },
  {
   "cell_type": "code",
   "execution_count": null,
   "metadata": {},
   "outputs": [],
   "source": []
  }
 ],
 "metadata": {
  "kernelspec": {
   "display_name": "R",
   "language": "R",
   "name": "ir"
  },
  "language_info": {
   "codemirror_mode": "r",
   "file_extension": ".r",
   "mimetype": "text/x-r-source",
   "name": "R",
   "pygments_lexer": "r",
   "version": "3.5.2"
  }
 },
 "nbformat": 4,
 "nbformat_minor": 4
}
