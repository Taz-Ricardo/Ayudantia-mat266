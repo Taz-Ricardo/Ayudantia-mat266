{
 "cells": [
  {
   "cell_type": "markdown",
   "metadata": {},
   "source": [
    "## Primero ingresemos los datos."
   ]
  },
  {
   "cell_type": "code",
   "execution_count": 3,
   "metadata": {},
   "outputs": [],
   "source": [
    "X1=matrix(c(1,2,3,4,5,6),6) #Datos X, regresoras, predictoras\n",
    "Y=matrix(c(5,7,7,10,16,20),6) #Datos Y datos a predecir\n",
    "X11=X1**2 #Data de la variable X²"
   ]
  },
  {
   "cell_type": "markdown",
   "metadata": {},
   "source": [
    "# Modelo 1\n",
    "### Creamos la regresión sin intercepto del modelo 1."
   ]
  },
  {
   "cell_type": "code",
   "execution_count": 16,
   "metadata": {},
   "outputs": [],
   "source": [
    "regresion1=lm(Y ~0+X1)"
   ]
  },
  {
   "cell_type": "markdown",
   "metadata": {},
   "source": [
    "### Ahora queremos obtener los test de hipotesis de la regresión anterior"
   ]
  },
  {
   "cell_type": "code",
   "execution_count": 17,
   "metadata": {},
   "outputs": [
    {
     "data": {
      "text/plain": [
       "\n",
       "Call:\n",
       "lm(formula = Y ~ 0 + X1)\n",
       "\n",
       "Residuals:\n",
       "      1       2       3       4       5       6 \n",
       " 1.9231  0.8462 -2.2308 -2.3077  0.6154  1.5385 \n",
       "\n",
       "Coefficients:\n",
       "   Estimate Std. Error t value Pr(>|t|)    \n",
       "X1   3.0769     0.1959   15.71  1.9e-05 ***\n",
       "---\n",
       "Signif. codes:  0 ‘***’ 0.001 ‘**’ 0.01 ‘*’ 0.05 ‘.’ 0.1 ‘ ’ 1\n",
       "\n",
       "Residual standard error: 1.869 on 5 degrees of freedom\n",
       "Multiple R-squared:  0.9801,\tAdjusted R-squared:  0.9762 \n",
       "F-statistic: 246.7 on 1 and 5 DF,  p-value: 1.902e-05\n"
      ]
     },
     "metadata": {},
     "output_type": "display_data"
    }
   ],
   "source": [
    "summary(regresion1)"
   ]
  },
  {
   "cell_type": "code",
   "execution_count": 18,
   "metadata": {},
   "outputs": [
    {
     "data": {
      "text/html": [
       "<strong>X1:</strong> 3.07692307692308"
      ],
      "text/latex": [
       "\\textbf{X1:} 3.07692307692308"
      ],
      "text/markdown": [
       "**X1:** 3.07692307692308"
      ],
      "text/plain": [
       "      X1 \n",
       "3.076923 "
      ]
     },
     "metadata": {},
     "output_type": "display_data"
    }
   ],
   "source": [
    "regresion1$coefficients"
   ]
  },
  {
   "cell_type": "markdown",
   "metadata": {},
   "source": [
    "Ahora observemos que el t value cumple con ser el estimado dividido en el error, el Pr(>|t|) es la probabilidad fuera de la distribución, se puede interpretar como \"la probabilidad de no rechazar $H_0$ \" note el uso de comillas, es \"equivalente\" al p-value del estadistico F descrito más abajo.\n",
    "\n",
    "Hipotesis para el test F.\n",
    "\n",
    "$H_0: \\beta_1=0 \\quad \\text{vs} \\quad H_1: \\beta_1\\neq 0$\n",
    "\n",
    "Hipotesis para el test t.\n",
    "\n",
    "$H_0: \\beta_1=0 \\quad \\text{vs} \\quad H_1: \\beta_1\\neq 0$\n",
    "\n",
    "Dado lo anterior es claro que el modelo 1 no es un mal modelo y debemos contrastar información con el modelo 2 para ver cual es preferido."
   ]
  },
  {
   "cell_type": "markdown",
   "metadata": {},
   "source": [
    "# Modelo 2\n",
    "## Creamos la regresión sin intercepto del modelo 2"
   ]
  },
  {
   "cell_type": "code",
   "execution_count": 19,
   "metadata": {},
   "outputs": [],
   "source": [
    "regresion2=lm(Y ~0+X1+X11)"
   ]
  },
  {
   "cell_type": "markdown",
   "metadata": {},
   "source": [
    "### Ahora queremos obtener los test de hipotesis de la regresión anterior"
   ]
  },
  {
   "cell_type": "code",
   "execution_count": 20,
   "metadata": {},
   "outputs": [
    {
     "data": {
      "text/plain": [
       "\n",
       "Call:\n",
       "lm(formula = Y ~ 0 + X1 + X11)\n",
       "\n",
       "Residuals:\n",
       "      1       2       3       4       5       6 \n",
       " 2.4554  1.6339 -1.4643 -1.8393  0.5089  0.5804 \n",
       "\n",
       "Coefficients:\n",
       "    Estimate Std. Error t value Pr(>|t|)  \n",
       "X1    2.4062     0.8198   2.935   0.0426 *\n",
       "X11   0.1384     0.1640   0.844   0.4461  \n",
       "---\n",
       "Signif. codes:  0 ‘***’ 0.001 ‘**’ 0.01 ‘*’ 0.05 ‘.’ 0.1 ‘ ’ 1\n",
       "\n",
       "Residual standard error: 1.925 on 4 degrees of freedom\n",
       "Multiple R-squared:  0.9831,\tAdjusted R-squared:  0.9747 \n",
       "F-statistic: 116.6 on 2 and 4 DF,  p-value: 0.0002843\n"
      ]
     },
     "metadata": {},
     "output_type": "display_data"
    }
   ],
   "source": [
    "summary(regresion2)"
   ]
  },
  {
   "cell_type": "markdown",
   "metadata": {},
   "source": [
    "Hipotesis para el test F.\n",
    "\n",
    "$H_0: \\beta_i=0 \\quad \\text{vs} \\quad H_1: \\beta_i\\neq 0 \\quad \\forall i \\in \\{1,2\\}$\n",
    "\n",
    "Hipotesis para el test t de X1\n",
    "\n",
    "$H_0: \\beta_1=0 \\quad \\text{vs} \\quad H_1: \\beta_1\\neq 0$\n",
    "\n",
    "Hipotesis para el test t de X11\n",
    "\n",
    "$H_0: \\beta_2=0 \\quad \\text{vs} \\quad H_1: \\beta_2\\neq 0$\n",
    "\n",
    "Con lo anterior es claro que el modelo 2 se puede rechazar para una significancia del 1% y con una significancia del 1%, 5% y 10% rechazamos $H_0$ para la variable X11, con lo que podemos concluir que el modelo 1 es el preferido al modelo 2."
   ]
  },
  {
   "cell_type": "markdown",
   "metadata": {},
   "source": [
    "# Modelo 3\n",
    "## Creamos el modelo con intercepto, modelo 3 propuesto."
   ]
  },
  {
   "cell_type": "code",
   "execution_count": 21,
   "metadata": {},
   "outputs": [],
   "source": [
    "regresion3=lm(Y ~X1)"
   ]
  },
  {
   "cell_type": "code",
   "execution_count": 22,
   "metadata": {},
   "outputs": [
    {
     "data": {
      "text/plain": [
       "\n",
       "Call:\n",
       "lm(formula = Y ~ X1)\n",
       "\n",
       "Residuals:\n",
       "      1       2       3       4       5       6 \n",
       " 1.6667  0.6667 -2.3333 -2.3333  0.6667  1.6667 \n",
       "\n",
       "Coefficients:\n",
       "            Estimate Std. Error t value Pr(>|t|)   \n",
       "(Intercept)   0.3333     1.9379   0.172  0.87179   \n",
       "X1            3.0000     0.4976   6.029  0.00382 **\n",
       "---\n",
       "Signif. codes:  0 ‘***’ 0.001 ‘**’ 0.01 ‘*’ 0.05 ‘.’ 0.1 ‘ ’ 1\n",
       "\n",
       "Residual standard error: 2.082 on 4 degrees of freedom\n",
       "Multiple R-squared:  0.9009,\tAdjusted R-squared:  0.8761 \n",
       "F-statistic: 36.35 on 1 and 4 DF,  p-value: 0.003815\n"
      ]
     },
     "metadata": {},
     "output_type": "display_data"
    }
   ],
   "source": [
    "summary(regresion3)"
   ]
  },
  {
   "cell_type": "markdown",
   "metadata": {},
   "source": [
    "Esto confirma el hecho d"
   ]
  }
 ],
 "metadata": {
  "kernelspec": {
   "display_name": "R",
   "language": "R",
   "name": "ir"
  },
  "language_info": {
   "codemirror_mode": "r",
   "file_extension": ".r",
   "mimetype": "text/x-r-source",
   "name": "R",
   "pygments_lexer": "r",
   "version": "3.5.2"
  }
 },
 "nbformat": 4,
 "nbformat_minor": 4
}
