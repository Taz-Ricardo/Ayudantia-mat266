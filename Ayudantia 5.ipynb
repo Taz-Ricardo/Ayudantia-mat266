{
 "cells": [
  {
   "cell_type": "markdown",
   "metadata": {},
   "source": [
    "# Ejercicio 1"
   ]
  },
  {
   "cell_type": "markdown",
   "metadata": {},
   "source": [
    "Obtener la descomposición de Cholesky de la siguiente matriz.\n",
    "\n",
    "$A=\\begin{pmatrix}\n",
    "4 & 2 & 2 & 4 \\\\\n",
    "2 & 5 & 7 & 0\\\\\n",
    "2 & 7 & 19 & 11 \\\\\n",
    "4 & 0 & 11 & 25\n",
    "\\end{pmatrix}$"
   ]
  },
  {
   "cell_type": "code",
   "execution_count": 3,
   "metadata": {},
   "outputs": [
    {
     "data": {
      "text/html": [
       "<table>\n",
       "<caption>A matrix: 4 × 4 of type dbl</caption>\n",
       "<tbody>\n",
       "\t<tr><td>4</td><td>2</td><td> 2</td><td> 4</td></tr>\n",
       "\t<tr><td>2</td><td>5</td><td> 7</td><td> 0</td></tr>\n",
       "\t<tr><td>2</td><td>7</td><td>19</td><td>11</td></tr>\n",
       "\t<tr><td>4</td><td>0</td><td>11</td><td>25</td></tr>\n",
       "</tbody>\n",
       "</table>\n"
      ],
      "text/latex": [
       "A matrix: 4 × 4 of type dbl\n",
       "\\begin{tabular}{llll}\n",
       "\t 4 & 2 &  2 &  4\\\\\n",
       "\t 2 & 5 &  7 &  0\\\\\n",
       "\t 2 & 7 & 19 & 11\\\\\n",
       "\t 4 & 0 & 11 & 25\\\\\n",
       "\\end{tabular}\n"
      ],
      "text/markdown": [
       "\n",
       "A matrix: 4 × 4 of type dbl\n",
       "\n",
       "| 4 | 2 |  2 |  4 |\n",
       "| 2 | 5 |  7 |  0 |\n",
       "| 2 | 7 | 19 | 11 |\n",
       "| 4 | 0 | 11 | 25 |\n",
       "\n"
      ],
      "text/plain": [
       "     [,1] [,2] [,3] [,4]\n",
       "[1,] 4    2     2    4  \n",
       "[2,] 2    5     7    0  \n",
       "[3,] 2    7    19   11  \n",
       "[4,] 4    0    11   25  "
      ]
     },
     "metadata": {},
     "output_type": "display_data"
    },
    {
     "data": {
      "text/html": [
       "<table>\n",
       "<caption>A matrix: 4 × 4 of type dbl</caption>\n",
       "<tbody>\n",
       "\t<tr><td>4</td><td>2</td><td> 2</td><td> 4</td></tr>\n",
       "\t<tr><td>2</td><td>5</td><td> 7</td><td> 0</td></tr>\n",
       "\t<tr><td>2</td><td>7</td><td>19</td><td>11</td></tr>\n",
       "\t<tr><td>4</td><td>0</td><td>11</td><td>25</td></tr>\n",
       "</tbody>\n",
       "</table>\n"
      ],
      "text/latex": [
       "A matrix: 4 × 4 of type dbl\n",
       "\\begin{tabular}{llll}\n",
       "\t 4 & 2 &  2 &  4\\\\\n",
       "\t 2 & 5 &  7 &  0\\\\\n",
       "\t 2 & 7 & 19 & 11\\\\\n",
       "\t 4 & 0 & 11 & 25\\\\\n",
       "\\end{tabular}\n"
      ],
      "text/markdown": [
       "\n",
       "A matrix: 4 × 4 of type dbl\n",
       "\n",
       "| 4 | 2 |  2 |  4 |\n",
       "| 2 | 5 |  7 |  0 |\n",
       "| 2 | 7 | 19 | 11 |\n",
       "| 4 | 0 | 11 | 25 |\n",
       "\n"
      ],
      "text/plain": [
       "     [,1] [,2] [,3] [,4]\n",
       "[1,] 4    2     2    4  \n",
       "[2,] 2    5     7    0  \n",
       "[3,] 2    7    19   11  \n",
       "[4,] 4    0    11   25  "
      ]
     },
     "metadata": {},
     "output_type": "display_data"
    }
   ],
   "source": [
    "#Definamos la matriz\n",
    "A1=cbind(c(4,2,2,4),c(2,5,7,0),c(2,7,19,11),c(4,0,11,25)) #Metodo con el comando indexar donde cada vector entra como una columna a una matriz\n",
    "A2=matrix(c(4,2,2,4,2,5,7,0,2,7,19,11,4,0,11,25),4,4)  #Metodo con el comando matrix donde entregamos los datos y las dimensiones de la matriz\n",
    "A1\n",
    "A2"
   ]
  },
  {
   "cell_type": "code",
   "execution_count": 5,
   "metadata": {},
   "outputs": [
    {
     "data": {
      "text/html": [
       "<table>\n",
       "<caption>A matrix: 4 × 4 of type dbl</caption>\n",
       "<tbody>\n",
       "\t<tr><td>2</td><td>1</td><td>1</td><td> 2</td></tr>\n",
       "\t<tr><td>0</td><td>2</td><td>3</td><td>-1</td></tr>\n",
       "\t<tr><td>0</td><td>0</td><td>3</td><td> 4</td></tr>\n",
       "\t<tr><td>0</td><td>0</td><td>0</td><td> 2</td></tr>\n",
       "</tbody>\n",
       "</table>\n"
      ],
      "text/latex": [
       "A matrix: 4 × 4 of type dbl\n",
       "\\begin{tabular}{llll}\n",
       "\t 2 & 1 & 1 &  2\\\\\n",
       "\t 0 & 2 & 3 & -1\\\\\n",
       "\t 0 & 0 & 3 &  4\\\\\n",
       "\t 0 & 0 & 0 &  2\\\\\n",
       "\\end{tabular}\n"
      ],
      "text/markdown": [
       "\n",
       "A matrix: 4 × 4 of type dbl\n",
       "\n",
       "| 2 | 1 | 1 |  2 |\n",
       "| 0 | 2 | 3 | -1 |\n",
       "| 0 | 0 | 3 |  4 |\n",
       "| 0 | 0 | 0 |  2 |\n",
       "\n"
      ],
      "text/plain": [
       "     [,1] [,2] [,3] [,4]\n",
       "[1,] 2    1    1     2  \n",
       "[2,] 0    2    3    -1  \n",
       "[3,] 0    0    3     4  \n",
       "[4,] 0    0    0     2  "
      ]
     },
     "metadata": {},
     "output_type": "display_data"
    },
    {
     "data": {
      "text/html": [
       "<table>\n",
       "<caption>A matrix: 4 × 4 of type dbl</caption>\n",
       "<tbody>\n",
       "\t<tr><td>4</td><td>2</td><td> 2</td><td> 4</td></tr>\n",
       "\t<tr><td>2</td><td>5</td><td> 7</td><td> 0</td></tr>\n",
       "\t<tr><td>2</td><td>7</td><td>19</td><td>11</td></tr>\n",
       "\t<tr><td>4</td><td>0</td><td>11</td><td>25</td></tr>\n",
       "</tbody>\n",
       "</table>\n"
      ],
      "text/latex": [
       "A matrix: 4 × 4 of type dbl\n",
       "\\begin{tabular}{llll}\n",
       "\t 4 & 2 &  2 &  4\\\\\n",
       "\t 2 & 5 &  7 &  0\\\\\n",
       "\t 2 & 7 & 19 & 11\\\\\n",
       "\t 4 & 0 & 11 & 25\\\\\n",
       "\\end{tabular}\n"
      ],
      "text/markdown": [
       "\n",
       "A matrix: 4 × 4 of type dbl\n",
       "\n",
       "| 4 | 2 |  2 |  4 |\n",
       "| 2 | 5 |  7 |  0 |\n",
       "| 2 | 7 | 19 | 11 |\n",
       "| 4 | 0 | 11 | 25 |\n",
       "\n"
      ],
      "text/plain": [
       "     [,1] [,2] [,3] [,4]\n",
       "[1,] 4    2     2    4  \n",
       "[2,] 2    5     7    0  \n",
       "[3,] 2    7    19   11  \n",
       "[4,] 4    0    11   25  "
      ]
     },
     "metadata": {},
     "output_type": "display_data"
    }
   ],
   "source": [
    "g=chol(A1)\n",
    "g\n",
    "t(g)%*%g"
   ]
  },
  {
   "cell_type": "markdown",
   "metadata": {},
   "source": [
    "Resuelva el sistema $Ax=b$, para\n",
    "\n",
    "$A=\\begin{pmatrix}\n",
    "4 & 2 & 2 & 4 \\\\\n",
    "2 & 5 & 7 & 0\\\\\n",
    "2 & 7 & 19 & 11 \\\\\n",
    "4 & 0 & 11 & 25\n",
    "\\end{pmatrix}$     ,$\\quad$ $b=\\begin{pmatrix}\n",
    "-1 \\\\\n",
    "1 \\\\\n",
    "\\frac{5}{2}\\\\\n",
    "\\frac{1}{2}\n",
    "\\end{pmatrix}$\n",
    "\n",
    "![Cholesky](Cholesky.png)\n"
   ]
  },
  {
   "cell_type": "code",
   "execution_count": 10,
   "metadata": {},
   "outputs": [
    {
     "data": {
      "text/html": [
       "<style>\n",
       ".list-inline {list-style: none; margin:0; padding: 0}\n",
       ".list-inline>li {display: inline-block}\n",
       ".list-inline>li:not(:last-child)::after {content: \"\\00b7\"; padding: 0 .5ex}\n",
       "</style>\n",
       "<ol class=list-inline><li>-1</li><li>1</li><li>2.5</li><li>0.5</li></ol>\n"
      ],
      "text/latex": [
       "\\begin{enumerate*}\n",
       "\\item -1\n",
       "\\item 1\n",
       "\\item 2.5\n",
       "\\item 0.5\n",
       "\\end{enumerate*}\n"
      ],
      "text/markdown": [
       "1. -1\n",
       "2. 1\n",
       "3. 2.5\n",
       "4. 0.5\n",
       "\n",
       "\n"
      ],
      "text/plain": [
       "[1] -1.0  1.0  2.5  0.5"
      ]
     },
     "metadata": {},
     "output_type": "display_data"
    }
   ],
   "source": [
    "#Creamos las matrices.\n",
    "A2=matrix(c(4,2,2,4,2,5,7,0,2,7,19,11,4,0,11,25),4,4)  #matrix(vector,filas,columnas)\n",
    "b1 = matrix(c(-1,1,5/2,1/2),4,1)\n",
    "b2=c(-1,1,5/2,1/2)\n",
    "#b1\n",
    "#b2"
   ]
  },
  {
   "cell_type": "code",
   "execution_count": 12,
   "metadata": {},
   "outputs": [
    {
     "data": {
      "text/html": [
       "<table>\n",
       "<caption>A matrix: 4 × 1 of type dbl</caption>\n",
       "<tbody>\n",
       "\t<tr><td>-0.500</td></tr>\n",
       "\t<tr><td> 0.750</td></tr>\n",
       "\t<tr><td> 0.250</td></tr>\n",
       "\t<tr><td> 0.625</td></tr>\n",
       "</tbody>\n",
       "</table>\n"
      ],
      "text/latex": [
       "A matrix: 4 × 1 of type dbl\n",
       "\\begin{tabular}{l}\n",
       "\t -0.500\\\\\n",
       "\t  0.750\\\\\n",
       "\t  0.250\\\\\n",
       "\t  0.625\\\\\n",
       "\\end{tabular}\n"
      ],
      "text/markdown": [
       "\n",
       "A matrix: 4 × 1 of type dbl\n",
       "\n",
       "| -0.500 |\n",
       "|  0.750 |\n",
       "|  0.250 |\n",
       "|  0.625 |\n",
       "\n"
      ],
      "text/plain": [
       "     [,1]  \n",
       "[1,] -0.500\n",
       "[2,]  0.750\n",
       "[3,]  0.250\n",
       "[4,]  0.625"
      ]
     },
     "metadata": {},
     "output_type": "display_data"
    }
   ],
   "source": [
    "g=chol(A2)\n",
    "gt=t(g)\n",
    "z=solve(gt)%*%b1 #solve(matriz) entrega la inversa de una matriz, con lo cual acá estamos resolviendo el sistemga G'z=b de la forma z=b*G'^{-1}\n",
    "z"
   ]
  },
  {
   "cell_type": "code",
   "execution_count": 13,
   "metadata": {},
   "outputs": [
    {
     "data": {
      "text/html": [
       "<table>\n",
       "<caption>A matrix: 4 × 1 of type dbl</caption>\n",
       "<tbody>\n",
       "\t<tr><td>-1.0</td></tr>\n",
       "\t<tr><td> 1.0</td></tr>\n",
       "\t<tr><td> 2.5</td></tr>\n",
       "\t<tr><td> 0.5</td></tr>\n",
       "</tbody>\n",
       "</table>\n"
      ],
      "text/latex": [
       "A matrix: 4 × 1 of type dbl\n",
       "\\begin{tabular}{l}\n",
       "\t -1.0\\\\\n",
       "\t  1.0\\\\\n",
       "\t  2.5\\\\\n",
       "\t  0.5\\\\\n",
       "\\end{tabular}\n"
      ],
      "text/markdown": [
       "\n",
       "A matrix: 4 × 1 of type dbl\n",
       "\n",
       "| -1.0 |\n",
       "|  1.0 |\n",
       "|  2.5 |\n",
       "|  0.5 |\n",
       "\n"
      ],
      "text/plain": [
       "     [,1]\n",
       "[1,] -1.0\n",
       "[2,]  1.0\n",
       "[3,]  2.5\n",
       "[4,]  0.5"
      ]
     },
     "metadata": {},
     "output_type": "display_data"
    }
   ],
   "source": [
    "x=solve(g)%*%z\n",
    "A1%*%x"
   ]
  },
  {
   "cell_type": "markdown",
   "metadata": {},
   "source": [
    "# Ejercicio 2"
   ]
  },
  {
   "cell_type": "markdown",
   "metadata": {},
   "source": [
    "Hagamos regresión con Choelesky para la siguiente muestra.\n",
    "\n"
   ]
  },
  {
   "cell_type": "code",
   "execution_count": 18,
   "metadata": {},
   "outputs": [],
   "source": [
    "tabla=read.table('Ejercicio_2_tabla',T) #read.table('nombre_del_archivo',Tiene header?)"
   ]
  },
  {
   "cell_type": "code",
   "execution_count": 19,
   "metadata": {},
   "outputs": [
    {
     "data": {
      "text/html": [
       "<table>\n",
       "<caption>A data.frame: 8 × 4</caption>\n",
       "<thead>\n",
       "\t<tr><th scope=col>Y</th><th scope=col>x1</th><th scope=col>x2</th><th scope=col>x3</th></tr>\n",
       "\t<tr><th scope=col>&lt;int&gt;</th><th scope=col>&lt;int&gt;</th><th scope=col>&lt;int&gt;</th><th scope=col>&lt;int&gt;</th></tr>\n",
       "</thead>\n",
       "<tbody>\n",
       "\t<tr><td>12</td><td> 4</td><td> 5</td><td> 6</td></tr>\n",
       "\t<tr><td>23</td><td> 8</td><td> 9</td><td>12</td></tr>\n",
       "\t<tr><td>41</td><td>12</td><td> 3</td><td>23</td></tr>\n",
       "\t<tr><td>89</td><td>11</td><td>17</td><td>21</td></tr>\n",
       "\t<tr><td>18</td><td> 8</td><td>19</td><td>39</td></tr>\n",
       "\t<tr><td>39</td><td>19</td><td>21</td><td>45</td></tr>\n",
       "\t<tr><td>56</td><td> 9</td><td>22</td><td>42</td></tr>\n",
       "\t<tr><td> 9</td><td>13</td><td> 9</td><td>18</td></tr>\n",
       "</tbody>\n",
       "</table>\n"
      ],
      "text/latex": [
       "A data.frame: 8 × 4\n",
       "\\begin{tabular}{llll}\n",
       " Y & x1 & x2 & x3\\\\\n",
       " <int> & <int> & <int> & <int>\\\\\n",
       "\\hline\n",
       "\t 12 &  4 &  5 &  6\\\\\n",
       "\t 23 &  8 &  9 & 12\\\\\n",
       "\t 41 & 12 &  3 & 23\\\\\n",
       "\t 89 & 11 & 17 & 21\\\\\n",
       "\t 18 &  8 & 19 & 39\\\\\n",
       "\t 39 & 19 & 21 & 45\\\\\n",
       "\t 56 &  9 & 22 & 42\\\\\n",
       "\t  9 & 13 &  9 & 18\\\\\n",
       "\\end{tabular}\n"
      ],
      "text/markdown": [
       "\n",
       "A data.frame: 8 × 4\n",
       "\n",
       "| Y &lt;int&gt; | x1 &lt;int&gt; | x2 &lt;int&gt; | x3 &lt;int&gt; |\n",
       "|---|---|---|---|\n",
       "| 12 |  4 |  5 |  6 |\n",
       "| 23 |  8 |  9 | 12 |\n",
       "| 41 | 12 |  3 | 23 |\n",
       "| 89 | 11 | 17 | 21 |\n",
       "| 18 |  8 | 19 | 39 |\n",
       "| 39 | 19 | 21 | 45 |\n",
       "| 56 |  9 | 22 | 42 |\n",
       "|  9 | 13 |  9 | 18 |\n",
       "\n"
      ],
      "text/plain": [
       "  Y  x1 x2 x3\n",
       "1 12  4  5  6\n",
       "2 23  8  9 12\n",
       "3 41 12  3 23\n",
       "4 89 11 17 21\n",
       "5 18  8 19 39\n",
       "6 39 19 21 45\n",
       "7 56  9 22 42\n",
       "8  9 13  9 18"
      ]
     },
     "metadata": {},
     "output_type": "display_data"
    }
   ],
   "source": [
    "tabla"
   ]
  },
  {
   "cell_type": "code",
   "execution_count": 22,
   "metadata": {},
   "outputs": [
    {
     "data": {
      "text/html": [
       "<table>\n",
       "<caption>A data.frame: 8 × 4</caption>\n",
       "<thead>\n",
       "\t<tr><th scope=col>unos</th><th scope=col>x1</th><th scope=col>x2</th><th scope=col>x3</th></tr>\n",
       "\t<tr><th scope=col>&lt;dbl&gt;</th><th scope=col>&lt;int&gt;</th><th scope=col>&lt;int&gt;</th><th scope=col>&lt;int&gt;</th></tr>\n",
       "</thead>\n",
       "<tbody>\n",
       "\t<tr><td>1</td><td> 4</td><td> 5</td><td> 6</td></tr>\n",
       "\t<tr><td>1</td><td> 8</td><td> 9</td><td>12</td></tr>\n",
       "\t<tr><td>1</td><td>12</td><td> 3</td><td>23</td></tr>\n",
       "\t<tr><td>1</td><td>11</td><td>17</td><td>21</td></tr>\n",
       "\t<tr><td>1</td><td> 8</td><td>19</td><td>39</td></tr>\n",
       "\t<tr><td>1</td><td>19</td><td>21</td><td>45</td></tr>\n",
       "\t<tr><td>1</td><td> 9</td><td>22</td><td>42</td></tr>\n",
       "\t<tr><td>1</td><td>13</td><td> 9</td><td>18</td></tr>\n",
       "</tbody>\n",
       "</table>\n"
      ],
      "text/latex": [
       "A data.frame: 8 × 4\n",
       "\\begin{tabular}{llll}\n",
       " unos & x1 & x2 & x3\\\\\n",
       " <dbl> & <int> & <int> & <int>\\\\\n",
       "\\hline\n",
       "\t 1 &  4 &  5 &  6\\\\\n",
       "\t 1 &  8 &  9 & 12\\\\\n",
       "\t 1 & 12 &  3 & 23\\\\\n",
       "\t 1 & 11 & 17 & 21\\\\\n",
       "\t 1 &  8 & 19 & 39\\\\\n",
       "\t 1 & 19 & 21 & 45\\\\\n",
       "\t 1 &  9 & 22 & 42\\\\\n",
       "\t 1 & 13 &  9 & 18\\\\\n",
       "\\end{tabular}\n"
      ],
      "text/markdown": [
       "\n",
       "A data.frame: 8 × 4\n",
       "\n",
       "| unos &lt;dbl&gt; | x1 &lt;int&gt; | x2 &lt;int&gt; | x3 &lt;int&gt; |\n",
       "|---|---|---|---|\n",
       "| 1 |  4 |  5 |  6 |\n",
       "| 1 |  8 |  9 | 12 |\n",
       "| 1 | 12 |  3 | 23 |\n",
       "| 1 | 11 | 17 | 21 |\n",
       "| 1 |  8 | 19 | 39 |\n",
       "| 1 | 19 | 21 | 45 |\n",
       "| 1 |  9 | 22 | 42 |\n",
       "| 1 | 13 |  9 | 18 |\n",
       "\n"
      ],
      "text/plain": [
       "  unos x1 x2 x3\n",
       "1 1     4  5  6\n",
       "2 1     8  9 12\n",
       "3 1    12  3 23\n",
       "4 1    11 17 21\n",
       "5 1     8 19 39\n",
       "6 1    19 21 45\n",
       "7 1     9 22 42\n",
       "8 1    13  9 18"
      ]
     },
     "metadata": {},
     "output_type": "display_data"
    }
   ],
   "source": [
    "X1=cbind('unos'=rep(1,8),tabla[,2:4])  #Creando matriz de diseño\n",
    "X1"
   ]
  },
  {
   "cell_type": "code",
   "execution_count": 23,
   "metadata": {},
   "outputs": [
    {
     "data": {
      "text/html": [
       "<table>\n",
       "<caption>A data.frame: 8 × 1</caption>\n",
       "<thead>\n",
       "\t<tr><th scope=col>Y</th></tr>\n",
       "\t<tr><th scope=col>&lt;int&gt;</th></tr>\n",
       "</thead>\n",
       "<tbody>\n",
       "\t<tr><td>12</td></tr>\n",
       "\t<tr><td>23</td></tr>\n",
       "\t<tr><td>41</td></tr>\n",
       "\t<tr><td>89</td></tr>\n",
       "\t<tr><td>18</td></tr>\n",
       "\t<tr><td>39</td></tr>\n",
       "\t<tr><td>56</td></tr>\n",
       "\t<tr><td> 9</td></tr>\n",
       "</tbody>\n",
       "</table>\n"
      ],
      "text/latex": [
       "A data.frame: 8 × 1\n",
       "\\begin{tabular}{l}\n",
       " Y\\\\\n",
       " <int>\\\\\n",
       "\\hline\n",
       "\t 12\\\\\n",
       "\t 23\\\\\n",
       "\t 41\\\\\n",
       "\t 89\\\\\n",
       "\t 18\\\\\n",
       "\t 39\\\\\n",
       "\t 56\\\\\n",
       "\t  9\\\\\n",
       "\\end{tabular}\n"
      ],
      "text/markdown": [
       "\n",
       "A data.frame: 8 × 1\n",
       "\n",
       "| Y &lt;int&gt; |\n",
       "|---|\n",
       "| 12 |\n",
       "| 23 |\n",
       "| 41 |\n",
       "| 89 |\n",
       "| 18 |\n",
       "| 39 |\n",
       "| 56 |\n",
       "|  9 |\n",
       "\n"
      ],
      "text/plain": [
       "  Y \n",
       "1 12\n",
       "2 23\n",
       "3 41\n",
       "4 89\n",
       "5 18\n",
       "6 39\n",
       "7 56\n",
       "8  9"
      ]
     },
     "metadata": {},
     "output_type": "display_data"
    }
   ],
   "source": [
    "y1=tabla['Y'] #data frame\n",
    "y1"
   ]
  },
  {
   "cell_type": "code",
   "execution_count": 24,
   "metadata": {},
   "outputs": [
    {
     "ename": "ERROR",
     "evalue": "Error in t(X1) %*% y1: requires numeric/complex matrix/vector arguments\n",
     "output_type": "error",
     "traceback": [
      "Error in t(X1) %*% y1: requires numeric/complex matrix/vector arguments\nTraceback:\n"
     ]
    }
   ],
   "source": [
    "w1=t(X1)%*%y1\n",
    "w1"
   ]
  },
  {
   "cell_type": "markdown",
   "metadata": {},
   "source": [
    "### El problema anterior se debe a que la multiplicación pide que sean matrices las que se multipliquen y no reconoce a y1 como una matriz"
   ]
  },
  {
   "cell_type": "code",
   "execution_count": 30,
   "metadata": {},
   "outputs": [
    {
     "data": {
      "text/html": [
       "<table>\n",
       "<caption>A matrix: 8 × 4 of type dbl</caption>\n",
       "<tbody>\n",
       "\t<tr><td>1</td><td> 4</td><td> 5</td><td> 6</td></tr>\n",
       "\t<tr><td>1</td><td> 8</td><td> 9</td><td>12</td></tr>\n",
       "\t<tr><td>1</td><td>12</td><td> 3</td><td>23</td></tr>\n",
       "\t<tr><td>1</td><td>11</td><td>17</td><td>21</td></tr>\n",
       "\t<tr><td>1</td><td> 8</td><td>19</td><td>39</td></tr>\n",
       "\t<tr><td>1</td><td>19</td><td>21</td><td>45</td></tr>\n",
       "\t<tr><td>1</td><td> 9</td><td>22</td><td>42</td></tr>\n",
       "\t<tr><td>1</td><td>13</td><td> 9</td><td>18</td></tr>\n",
       "</tbody>\n",
       "</table>\n"
      ],
      "text/latex": [
       "A matrix: 8 × 4 of type dbl\n",
       "\\begin{tabular}{llll}\n",
       "\t 1 &  4 &  5 &  6\\\\\n",
       "\t 1 &  8 &  9 & 12\\\\\n",
       "\t 1 & 12 &  3 & 23\\\\\n",
       "\t 1 & 11 & 17 & 21\\\\\n",
       "\t 1 &  8 & 19 & 39\\\\\n",
       "\t 1 & 19 & 21 & 45\\\\\n",
       "\t 1 &  9 & 22 & 42\\\\\n",
       "\t 1 & 13 &  9 & 18\\\\\n",
       "\\end{tabular}\n"
      ],
      "text/markdown": [
       "\n",
       "A matrix: 8 × 4 of type dbl\n",
       "\n",
       "| 1 |  4 |  5 |  6 |\n",
       "| 1 |  8 |  9 | 12 |\n",
       "| 1 | 12 |  3 | 23 |\n",
       "| 1 | 11 | 17 | 21 |\n",
       "| 1 |  8 | 19 | 39 |\n",
       "| 1 | 19 | 21 | 45 |\n",
       "| 1 |  9 | 22 | 42 |\n",
       "| 1 | 13 |  9 | 18 |\n",
       "\n"
      ],
      "text/plain": [
       "     [,1] [,2] [,3] [,4]\n",
       "[1,] 1     4    5    6  \n",
       "[2,] 1     8    9   12  \n",
       "[3,] 1    12    3   23  \n",
       "[4,] 1    11   17   21  \n",
       "[5,] 1     8   19   39  \n",
       "[6,] 1    19   21   45  \n",
       "[7,] 1     9   22   42  \n",
       "[8,] 1    13    9   18  "
      ]
     },
     "metadata": {},
     "output_type": "display_data"
    }
   ],
   "source": [
    "X2=as.matrix(X1) #Trabajar todo como matriz as.nombre_objeto(Objeto_original)\n",
    "colnames(X2)=NULL #Acá meramente estetico\n",
    "X2"
   ]
  },
  {
   "cell_type": "code",
   "execution_count": 31,
   "metadata": {},
   "outputs": [
    {
     "data": {
      "text/html": [
       "<style>\n",
       ".list-inline {list-style: none; margin:0; padding: 0}\n",
       ".list-inline>li {display: inline-block}\n",
       ".list-inline>li:not(:last-child)::after {content: \"\\00b7\"; padding: 0 .5ex}\n",
       "</style>\n",
       "<ol class=list-inline><li>12</li><li>23</li><li>41</li><li>89</li><li>18</li><li>39</li><li>56</li><li>9</li></ol>\n"
      ],
      "text/latex": [
       "\\begin{enumerate*}\n",
       "\\item 12\n",
       "\\item 23\n",
       "\\item 41\n",
       "\\item 89\n",
       "\\item 18\n",
       "\\item 39\n",
       "\\item 56\n",
       "\\item 9\n",
       "\\end{enumerate*}\n"
      ],
      "text/markdown": [
       "1. 12\n",
       "2. 23\n",
       "3. 41\n",
       "4. 89\n",
       "5. 18\n",
       "6. 39\n",
       "7. 56\n",
       "8. 9\n",
       "\n",
       "\n"
      ],
      "text/plain": [
       "[1] 12 23 41 89 18 39 56  9"
      ]
     },
     "metadata": {},
     "output_type": "display_data"
    }
   ],
   "source": [
    "y2=tabla[,1] #Trabajar todo como matriz\n",
    "y2"
   ]
  },
  {
   "cell_type": "code",
   "execution_count": 32,
   "metadata": {},
   "outputs": [
    {
     "data": {
      "text/html": [
       "<table>\n",
       "<caption>A matrix: 4 × 4 of type dbl</caption>\n",
       "<tbody>\n",
       "\t<tr><td>  8</td><td>  84</td><td> 105</td><td> 206</td></tr>\n",
       "\t<tr><td> 84</td><td>1020</td><td>1181</td><td>2406</td></tr>\n",
       "\t<tr><td>105</td><td>1181</td><td>1771</td><td>3336</td></tr>\n",
       "\t<tr><td>206</td><td>2406</td><td>3336</td><td>6784</td></tr>\n",
       "</tbody>\n",
       "</table>\n"
      ],
      "text/latex": [
       "A matrix: 4 × 4 of type dbl\n",
       "\\begin{tabular}{llll}\n",
       "\t   8 &   84 &  105 &  206\\\\\n",
       "\t  84 & 1020 & 1181 & 2406\\\\\n",
       "\t 105 & 1181 & 1771 & 3336\\\\\n",
       "\t 206 & 2406 & 3336 & 6784\\\\\n",
       "\\end{tabular}\n"
      ],
      "text/markdown": [
       "\n",
       "A matrix: 4 × 4 of type dbl\n",
       "\n",
       "|   8 |   84 |  105 |  206 |\n",
       "|  84 | 1020 | 1181 | 2406 |\n",
       "| 105 | 1181 | 1771 | 3336 |\n",
       "| 206 | 2406 | 3336 | 6784 |\n",
       "\n"
      ],
      "text/plain": [
       "     [,1] [,2] [,3] [,4]\n",
       "[1,]   8    84  105  206\n",
       "[2,]  84  1020 1181 2406\n",
       "[3,] 105  1181 1771 3336\n",
       "[4,] 206  2406 3336 6784"
      ]
     },
     "metadata": {},
     "output_type": "display_data"
    }
   ],
   "source": [
    "t(X2)%*%X2 #Matriz claramente simetrica y definida positiva"
   ]
  },
  {
   "cell_type": "markdown",
   "metadata": {},
   "source": [
    "![Estimacion](estimacion_beta.png)\n"
   ]
  },
  {
   "cell_type": "code",
   "execution_count": 33,
   "metadata": {},
   "outputs": [
    {
     "data": {
      "text/html": [
       "<table>\n",
       "<caption>A matrix: 4 × 4 of type dbl</caption>\n",
       "<tbody>\n",
       "\t<tr><td>2.828427</td><td>29.69848</td><td>37.123106</td><td>72.83200</td></tr>\n",
       "\t<tr><td>0.000000</td><td>11.74734</td><td> 6.682364</td><td>20.68553</td></tr>\n",
       "\t<tr><td>0.000000</td><td> 0.00000</td><td>18.660681</td><td>26.47394</td></tr>\n",
       "\t<tr><td>0.000000</td><td> 0.00000</td><td> 0.000000</td><td>18.72803</td></tr>\n",
       "</tbody>\n",
       "</table>\n"
      ],
      "text/latex": [
       "A matrix: 4 × 4 of type dbl\n",
       "\\begin{tabular}{llll}\n",
       "\t 2.828427 & 29.69848 & 37.123106 & 72.83200\\\\\n",
       "\t 0.000000 & 11.74734 &  6.682364 & 20.68553\\\\\n",
       "\t 0.000000 &  0.00000 & 18.660681 & 26.47394\\\\\n",
       "\t 0.000000 &  0.00000 &  0.000000 & 18.72803\\\\\n",
       "\\end{tabular}\n"
      ],
      "text/markdown": [
       "\n",
       "A matrix: 4 × 4 of type dbl\n",
       "\n",
       "| 2.828427 | 29.69848 | 37.123106 | 72.83200 |\n",
       "| 0.000000 | 11.74734 |  6.682364 | 20.68553 |\n",
       "| 0.000000 |  0.00000 | 18.660681 | 26.47394 |\n",
       "| 0.000000 |  0.00000 |  0.000000 | 18.72803 |\n",
       "\n"
      ],
      "text/plain": [
       "     [,1]     [,2]     [,3]      [,4]    \n",
       "[1,] 2.828427 29.69848 37.123106 72.83200\n",
       "[2,] 0.000000 11.74734  6.682364 20.68553\n",
       "[3,] 0.000000  0.00000 18.660681 26.47394\n",
       "[4,] 0.000000  0.00000  0.000000 18.72803"
      ]
     },
     "metadata": {},
     "output_type": "display_data"
    }
   ],
   "source": [
    "w=t(X2)%*%y2 \n",
    "G=chol(t(X2)%*%X2) #Matriz triangular superior\n",
    "G"
   ]
  },
  {
   "cell_type": "code",
   "execution_count": 37,
   "metadata": {},
   "outputs": [
    {
     "data": {
      "text/html": [
       "<table>\n",
       "<caption>A matrix: 4 × 1 of type dbl</caption>\n",
       "<tbody>\n",
       "\t<tr><td>101.46982</td></tr>\n",
       "\t<tr><td> 16.64207</td></tr>\n",
       "\t<tr><td> 26.73625</td></tr>\n",
       "\t<tr><td>-16.62288</td></tr>\n",
       "</tbody>\n",
       "</table>\n"
      ],
      "text/latex": [
       "A matrix: 4 × 1 of type dbl\n",
       "\\begin{tabular}{l}\n",
       "\t 101.46982\\\\\n",
       "\t  16.64207\\\\\n",
       "\t  26.73625\\\\\n",
       "\t -16.62288\\\\\n",
       "\\end{tabular}\n"
      ],
      "text/markdown": [
       "\n",
       "A matrix: 4 × 1 of type dbl\n",
       "\n",
       "| 101.46982 |\n",
       "|  16.64207 |\n",
       "|  26.73625 |\n",
       "| -16.62288 |\n",
       "\n"
      ],
      "text/plain": [
       "     [,1]     \n",
       "[1,] 101.46982\n",
       "[2,]  16.64207\n",
       "[3,]  26.73625\n",
       "[4,] -16.62288"
      ]
     },
     "metadata": {},
     "output_type": "display_data"
    }
   ],
   "source": [
    "z=forwardsolve(t(G),w) #La función forwardsolve aprovecha el hecho de que una matriz es triangular\n",
    "z"
   ]
  },
  {
   "cell_type": "code",
   "execution_count": 38,
   "metadata": {},
   "outputs": [
    {
     "data": {
      "text/html": [
       "<table>\n",
       "<caption>A matrix: 4 × 1 of type dbl</caption>\n",
       "<tbody>\n",
       "\t<tr><td> 8.1911264</td></tr>\n",
       "\t<tr><td> 1.4482906</td></tr>\n",
       "\t<tr><td> 2.6919893</td></tr>\n",
       "\t<tr><td>-0.8875937</td></tr>\n",
       "</tbody>\n",
       "</table>\n"
      ],
      "text/latex": [
       "A matrix: 4 × 1 of type dbl\n",
       "\\begin{tabular}{l}\n",
       "\t  8.1911264\\\\\n",
       "\t  1.4482906\\\\\n",
       "\t  2.6919893\\\\\n",
       "\t -0.8875937\\\\\n",
       "\\end{tabular}\n"
      ],
      "text/markdown": [
       "\n",
       "A matrix: 4 × 1 of type dbl\n",
       "\n",
       "|  8.1911264 |\n",
       "|  1.4482906 |\n",
       "|  2.6919893 |\n",
       "| -0.8875937 |\n",
       "\n"
      ],
      "text/plain": [
       "     [,1]      \n",
       "[1,]  8.1911264\n",
       "[2,]  1.4482906\n",
       "[3,]  2.6919893\n",
       "[4,] -0.8875937"
      ]
     },
     "metadata": {},
     "output_type": "display_data"
    }
   ],
   "source": [
    "b=backsolve(G,z) #calculo del vector de coeficientes de regresion (beta gorro)\n",
    "b"
   ]
  },
  {
   "cell_type": "markdown",
   "metadata": {},
   "source": [
    "![RSS](RSS.png)"
   ]
  },
  {
   "cell_type": "code",
   "execution_count": 39,
   "metadata": {},
   "outputs": [
    {
     "data": {
      "text/html": [
       "<table>\n",
       "<caption>A matrix: 1 × 1 of type dbl</caption>\n",
       "<tbody>\n",
       "\t<tr><td>3772.769</td></tr>\n",
       "</tbody>\n",
       "</table>\n"
      ],
      "text/latex": [
       "A matrix: 1 × 1 of type dbl\n",
       "\\begin{tabular}{l}\n",
       "\t 3772.769\\\\\n",
       "\\end{tabular}\n"
      ],
      "text/markdown": [
       "\n",
       "A matrix: 1 × 1 of type dbl\n",
       "\n",
       "| 3772.769 |\n",
       "\n"
      ],
      "text/plain": [
       "     [,1]    \n",
       "[1,] 3772.769"
      ]
     },
     "metadata": {},
     "output_type": "display_data"
    }
   ],
   "source": [
    "#calculo de la suma de cuadrados del error (RSS)\n",
    "sse=t(y2)%*%y2-t(z)%*%z\n",
    "sse "
   ]
  },
  {
   "cell_type": "code",
   "execution_count": 40,
   "metadata": {},
   "outputs": [
    {
     "data": {
      "text/html": [
       "<table>\n",
       "<caption>A matrix: 8 × 1 of type dbl</caption>\n",
       "<tbody>\n",
       "\t<tr><td>22.11867</td></tr>\n",
       "\t<tr><td>33.35423</td></tr>\n",
       "\t<tr><td>13.23193</td></tr>\n",
       "\t<tr><td>51.24667</td></tr>\n",
       "\t<tr><td>36.30909</td></tr>\n",
       "\t<tr><td>52.29871</td></tr>\n",
       "\t<tr><td>43.17057</td></tr>\n",
       "\t<tr><td>35.27012</td></tr>\n",
       "</tbody>\n",
       "</table>\n"
      ],
      "text/latex": [
       "A matrix: 8 × 1 of type dbl\n",
       "\\begin{tabular}{l}\n",
       "\t 22.11867\\\\\n",
       "\t 33.35423\\\\\n",
       "\t 13.23193\\\\\n",
       "\t 51.24667\\\\\n",
       "\t 36.30909\\\\\n",
       "\t 52.29871\\\\\n",
       "\t 43.17057\\\\\n",
       "\t 35.27012\\\\\n",
       "\\end{tabular}\n"
      ],
      "text/markdown": [
       "\n",
       "A matrix: 8 × 1 of type dbl\n",
       "\n",
       "| 22.11867 |\n",
       "| 33.35423 |\n",
       "| 13.23193 |\n",
       "| 51.24667 |\n",
       "| 36.30909 |\n",
       "| 52.29871 |\n",
       "| 43.17057 |\n",
       "| 35.27012 |\n",
       "\n"
      ],
      "text/plain": [
       "     [,1]    \n",
       "[1,] 22.11867\n",
       "[2,] 33.35423\n",
       "[3,] 13.23193\n",
       "[4,] 51.24667\n",
       "[5,] 36.30909\n",
       "[6,] 52.29871\n",
       "[7,] 43.17057\n",
       "[8,] 35.27012"
      ]
     },
     "metadata": {},
     "output_type": "display_data"
    }
   ],
   "source": [
    "#calculo del vector de predicciones a partir de la muestra\n",
    "yhat=X2%*%b\n",
    "yhat"
   ]
  },
  {
   "cell_type": "code",
   "execution_count": 41,
   "metadata": {},
   "outputs": [
    {
     "data": {
      "text/html": [
       "<table>\n",
       "<caption>A matrix: 4 × 4 of type dbl</caption>\n",
       "<tbody>\n",
       "\t<tr><td> 0.12500000</td><td>-0.3160129</td><td>-0.13550820</td><td> 0.05448148</td></tr>\n",
       "\t<tr><td>-0.31601286</td><td> 0.8061594</td><td> 0.33998376</td><td>-0.14207039</td></tr>\n",
       "\t<tr><td>-0.13550820</td><td> 0.3399838</td><td> 0.15070076</td><td>-0.06156841</td></tr>\n",
       "\t<tr><td> 0.05448148</td><td>-0.1420704</td><td>-0.06156841</td><td> 0.03492952</td></tr>\n",
       "</tbody>\n",
       "</table>\n"
      ],
      "text/latex": [
       "A matrix: 4 × 4 of type dbl\n",
       "\\begin{tabular}{llll}\n",
       "\t  0.12500000 & -0.3160129 & -0.13550820 &  0.05448148\\\\\n",
       "\t -0.31601286 &  0.8061594 &  0.33998376 & -0.14207039\\\\\n",
       "\t -0.13550820 &  0.3399838 &  0.15070076 & -0.06156841\\\\\n",
       "\t  0.05448148 & -0.1420704 & -0.06156841 &  0.03492952\\\\\n",
       "\\end{tabular}\n"
      ],
      "text/markdown": [
       "\n",
       "A matrix: 4 × 4 of type dbl\n",
       "\n",
       "|  0.12500000 | -0.3160129 | -0.13550820 |  0.05448148 |\n",
       "| -0.31601286 |  0.8061594 |  0.33998376 | -0.14207039 |\n",
       "| -0.13550820 |  0.3399838 |  0.15070076 | -0.06156841 |\n",
       "|  0.05448148 | -0.1420704 | -0.06156841 |  0.03492952 |\n",
       "\n"
      ],
      "text/plain": [
       "     [,1]        [,2]       [,3]        [,4]       \n",
       "[1,]  0.12500000 -0.3160129 -0.13550820  0.05448148\n",
       "[2,] -0.31601286  0.8061594  0.33998376 -0.14207039\n",
       "[3,] -0.13550820  0.3399838  0.15070076 -0.06156841\n",
       "[4,]  0.05448148 -0.1420704 -0.06156841  0.03492952"
      ]
     },
     "metadata": {},
     "output_type": "display_data"
    }
   ],
   "source": [
    "#Podemos calcular la matriz de covarianza\n",
    "cov=t(solve(G))%*%solve(G)\n",
    "cov"
   ]
  },
  {
   "cell_type": "markdown",
   "metadata": {},
   "source": [
    "# Ejercicio 3"
   ]
  },
  {
   "cell_type": "markdown",
   "metadata": {},
   "source": [
    "### Programe una versión de función sweep "
   ]
  },
  {
   "cell_type": "code",
   "execution_count": 42,
   "metadata": {},
   "outputs": [],
   "source": [
    "# Función sweep\n",
    "sweep = function(A, k) {\n",
    "    B = matrix(0,dim(A)[1],dim(A)[1])\n",
    "    n=dim(A)[1]\n",
    "    B[k,k] = 1/A[k,k]\n",
    "    for (i in 1:n){\n",
    "        if (i != k){\n",
    "            B[i,k]=-A[i,k]/A[k,k]\n",
    "        }\n",
    "    }\n",
    "    for (j in 1:n){\n",
    "        if (j != k){\n",
    "            B[k,j]=A[k,j]/A[k,k]\n",
    "        }\n",
    "    }\n",
    "    for (i in 1:n){\n",
    "        for (j in 1:n){\n",
    "            if (i != k & j != k){\n",
    "                B[i,j]= A[i,j]-(A[i,k]*A[k,j])/A[k,k]\n",
    "            }\n",
    "        }\n",
    "    }\n",
    "    return(B)\n",
    "}\n"
   ]
  },
  {
   "cell_type": "markdown",
   "metadata": {},
   "source": [
    "# Ejercicio 4"
   ]
  },
  {
   "cell_type": "markdown",
   "metadata": {},
   "source": [
    "Pruebe que la función anterior funciona bien con la siguiente matriz y revise las propiedades vistas en clases.\n",
    "\n",
    "![Sweep](propiedades_operador_sweep.png)\n",
    "\n",
    "\n",
    "$M=\\begin{pmatrix}\n",
    "30 & 16 & 46 \\\\\n",
    "16 & 10 & 26 \\\\\n",
    "46 & 26 & 72\n",
    "\\end{pmatrix}$  "
   ]
  },
  {
   "cell_type": "code",
   "execution_count": 43,
   "metadata": {},
   "outputs": [
    {
     "data": {
      "text/html": [
       "<table>\n",
       "<caption>A matrix: 3 × 3 of type dbl</caption>\n",
       "<tbody>\n",
       "\t<tr><td>30</td><td>16</td><td>46</td></tr>\n",
       "\t<tr><td>16</td><td>10</td><td>26</td></tr>\n",
       "\t<tr><td>46</td><td>26</td><td>72</td></tr>\n",
       "</tbody>\n",
       "</table>\n"
      ],
      "text/latex": [
       "A matrix: 3 × 3 of type dbl\n",
       "\\begin{tabular}{lll}\n",
       "\t 30 & 16 & 46\\\\\n",
       "\t 16 & 10 & 26\\\\\n",
       "\t 46 & 26 & 72\\\\\n",
       "\\end{tabular}\n"
      ],
      "text/markdown": [
       "\n",
       "A matrix: 3 × 3 of type dbl\n",
       "\n",
       "| 30 | 16 | 46 |\n",
       "| 16 | 10 | 26 |\n",
       "| 46 | 26 | 72 |\n",
       "\n"
      ],
      "text/plain": [
       "     [,1] [,2] [,3]\n",
       "[1,] 30   16   46  \n",
       "[2,] 16   10   26  \n",
       "[3,] 46   26   72  "
      ]
     },
     "metadata": {},
     "output_type": "display_data"
    }
   ],
   "source": [
    "M=matrix(c(30,16,46,16,10,26,46,26,72),3)\n",
    "M"
   ]
  },
  {
   "cell_type": "code",
   "execution_count": 44,
   "metadata": {},
   "outputs": [],
   "source": [
    "library('fastmatrix')"
   ]
  },
  {
   "cell_type": "code",
   "execution_count": 45,
   "metadata": {},
   "outputs": [
    {
     "data": {
      "text/html": [
       "<table>\n",
       "<caption>A matrix: 3 × 3 of type dbl</caption>\n",
       "<tbody>\n",
       "\t<tr><td> 0.03333333</td><td>0.5333333</td><td>1.533333</td></tr>\n",
       "\t<tr><td>-0.53333333</td><td>1.4666667</td><td>1.466667</td></tr>\n",
       "\t<tr><td>-1.53333333</td><td>1.4666667</td><td>1.466667</td></tr>\n",
       "</tbody>\n",
       "</table>\n"
      ],
      "text/latex": [
       "A matrix: 3 × 3 of type dbl\n",
       "\\begin{tabular}{lll}\n",
       "\t  0.03333333 & 0.5333333 & 1.533333\\\\\n",
       "\t -0.53333333 & 1.4666667 & 1.466667\\\\\n",
       "\t -1.53333333 & 1.4666667 & 1.466667\\\\\n",
       "\\end{tabular}\n"
      ],
      "text/markdown": [
       "\n",
       "A matrix: 3 × 3 of type dbl\n",
       "\n",
       "|  0.03333333 | 0.5333333 | 1.533333 |\n",
       "| -0.53333333 | 1.4666667 | 1.466667 |\n",
       "| -1.53333333 | 1.4666667 | 1.466667 |\n",
       "\n"
      ],
      "text/plain": [
       "     [,1]        [,2]      [,3]    \n",
       "[1,]  0.03333333 0.5333333 1.533333\n",
       "[2,] -0.53333333 1.4666667 1.466667\n",
       "[3,] -1.53333333 1.4666667 1.466667"
      ]
     },
     "metadata": {},
     "output_type": "display_data"
    }
   ],
   "source": [
    "sweep(M,1)"
   ]
  },
  {
   "cell_type": "code",
   "execution_count": 46,
   "metadata": {},
   "outputs": [
    {
     "data": {
      "text/html": [
       "<table>\n",
       "<caption>A matrix: 3 × 3 of type dbl</caption>\n",
       "<tbody>\n",
       "\t<tr><td> 0.03333333</td><td>0.5333333</td><td>1.533333</td></tr>\n",
       "\t<tr><td>-0.53333333</td><td>1.4666667</td><td>1.466667</td></tr>\n",
       "\t<tr><td>-1.53333333</td><td>1.4666667</td><td>1.466667</td></tr>\n",
       "</tbody>\n",
       "</table>\n"
      ],
      "text/latex": [
       "A matrix: 3 × 3 of type dbl\n",
       "\\begin{tabular}{lll}\n",
       "\t  0.03333333 & 0.5333333 & 1.533333\\\\\n",
       "\t -0.53333333 & 1.4666667 & 1.466667\\\\\n",
       "\t -1.53333333 & 1.4666667 & 1.466667\\\\\n",
       "\\end{tabular}\n"
      ],
      "text/markdown": [
       "\n",
       "A matrix: 3 × 3 of type dbl\n",
       "\n",
       "|  0.03333333 | 0.5333333 | 1.533333 |\n",
       "| -0.53333333 | 1.4666667 | 1.466667 |\n",
       "| -1.53333333 | 1.4666667 | 1.466667 |\n",
       "\n"
      ],
      "text/plain": [
       "     [,1]        [,2]      [,3]    \n",
       "[1,]  0.03333333 0.5333333 1.533333\n",
       "[2,] -0.53333333 1.4666667 1.466667\n",
       "[3,] -1.53333333 1.4666667 1.466667"
      ]
     },
     "metadata": {},
     "output_type": "display_data"
    }
   ],
   "source": [
    "sweep.operator(M,1)"
   ]
  },
  {
   "cell_type": "code",
   "execution_count": 47,
   "metadata": {},
   "outputs": [
    {
     "data": {
      "text/html": [
       "<table>\n",
       "<caption>A matrix: 3 × 3 of type dbl</caption>\n",
       "<tbody>\n",
       "\t<tr><td>4.4</td><td>-1.6</td><td>4.4</td></tr>\n",
       "\t<tr><td>1.6</td><td> 0.1</td><td>2.6</td></tr>\n",
       "\t<tr><td>4.4</td><td>-2.6</td><td>4.4</td></tr>\n",
       "</tbody>\n",
       "</table>\n"
      ],
      "text/latex": [
       "A matrix: 3 × 3 of type dbl\n",
       "\\begin{tabular}{lll}\n",
       "\t 4.4 & -1.6 & 4.4\\\\\n",
       "\t 1.6 &  0.1 & 2.6\\\\\n",
       "\t 4.4 & -2.6 & 4.4\\\\\n",
       "\\end{tabular}\n"
      ],
      "text/markdown": [
       "\n",
       "A matrix: 3 × 3 of type dbl\n",
       "\n",
       "| 4.4 | -1.6 | 4.4 |\n",
       "| 1.6 |  0.1 | 2.6 |\n",
       "| 4.4 | -2.6 | 4.4 |\n",
       "\n"
      ],
      "text/plain": [
       "     [,1] [,2] [,3]\n",
       "[1,] 4.4  -1.6 4.4 \n",
       "[2,] 1.6   0.1 2.6 \n",
       "[3,] 4.4  -2.6 4.4 "
      ]
     },
     "metadata": {},
     "output_type": "display_data"
    }
   ],
   "source": [
    "sweep(M,2)"
   ]
  },
  {
   "cell_type": "code",
   "execution_count": 48,
   "metadata": {},
   "outputs": [
    {
     "data": {
      "text/html": [
       "<table>\n",
       "<caption>A matrix: 3 × 3 of type dbl</caption>\n",
       "<tbody>\n",
       "\t<tr><td>4.4</td><td>-1.6</td><td>4.4</td></tr>\n",
       "\t<tr><td>1.6</td><td> 0.1</td><td>2.6</td></tr>\n",
       "\t<tr><td>4.4</td><td>-2.6</td><td>4.4</td></tr>\n",
       "</tbody>\n",
       "</table>\n"
      ],
      "text/latex": [
       "A matrix: 3 × 3 of type dbl\n",
       "\\begin{tabular}{lll}\n",
       "\t 4.4 & -1.6 & 4.4\\\\\n",
       "\t 1.6 &  0.1 & 2.6\\\\\n",
       "\t 4.4 & -2.6 & 4.4\\\\\n",
       "\\end{tabular}\n"
      ],
      "text/markdown": [
       "\n",
       "A matrix: 3 × 3 of type dbl\n",
       "\n",
       "| 4.4 | -1.6 | 4.4 |\n",
       "| 1.6 |  0.1 | 2.6 |\n",
       "| 4.4 | -2.6 | 4.4 |\n",
       "\n"
      ],
      "text/plain": [
       "     [,1] [,2] [,3]\n",
       "[1,] 4.4  -1.6 4.4 \n",
       "[2,] 1.6   0.1 2.6 \n",
       "[3,] 4.4  -2.6 4.4 "
      ]
     },
     "metadata": {},
     "output_type": "display_data"
    }
   ],
   "source": [
    "sweep.operator(M,2)"
   ]
  },
  {
   "cell_type": "code",
   "execution_count": 49,
   "metadata": {},
   "outputs": [
    {
     "data": {
      "text/html": [
       "<table>\n",
       "<caption>A matrix: 3 × 3 of type dbl</caption>\n",
       "<tbody>\n",
       "\t<tr><td> 0.6111111</td><td>-0.6111111</td><td>-0.63888889</td></tr>\n",
       "\t<tr><td>-0.6111111</td><td> 0.6111111</td><td>-0.36111111</td></tr>\n",
       "\t<tr><td> 0.6388889</td><td> 0.3611111</td><td> 0.01388889</td></tr>\n",
       "</tbody>\n",
       "</table>\n"
      ],
      "text/latex": [
       "A matrix: 3 × 3 of type dbl\n",
       "\\begin{tabular}{lll}\n",
       "\t  0.6111111 & -0.6111111 & -0.63888889\\\\\n",
       "\t -0.6111111 &  0.6111111 & -0.36111111\\\\\n",
       "\t  0.6388889 &  0.3611111 &  0.01388889\\\\\n",
       "\\end{tabular}\n"
      ],
      "text/markdown": [
       "\n",
       "A matrix: 3 × 3 of type dbl\n",
       "\n",
       "|  0.6111111 | -0.6111111 | -0.63888889 |\n",
       "| -0.6111111 |  0.6111111 | -0.36111111 |\n",
       "|  0.6388889 |  0.3611111 |  0.01388889 |\n",
       "\n"
      ],
      "text/plain": [
       "     [,1]       [,2]       [,3]       \n",
       "[1,]  0.6111111 -0.6111111 -0.63888889\n",
       "[2,] -0.6111111  0.6111111 -0.36111111\n",
       "[3,]  0.6388889  0.3611111  0.01388889"
      ]
     },
     "metadata": {},
     "output_type": "display_data"
    }
   ],
   "source": [
    "sweep(M,3)"
   ]
  },
  {
   "cell_type": "code",
   "execution_count": 54,
   "metadata": {},
   "outputs": [
    {
     "data": {
      "text/html": [
       "<table>\n",
       "<caption>A matrix: 3 × 3 of type dbl</caption>\n",
       "<tbody>\n",
       "\t<tr><td> 0.6111111</td><td>-0.6111111</td><td>-0.63888889</td></tr>\n",
       "\t<tr><td>-0.6111111</td><td> 0.6111111</td><td>-0.36111111</td></tr>\n",
       "\t<tr><td> 0.6388889</td><td> 0.3611111</td><td> 0.01388889</td></tr>\n",
       "</tbody>\n",
       "</table>\n"
      ],
      "text/latex": [
       "A matrix: 3 × 3 of type dbl\n",
       "\\begin{tabular}{lll}\n",
       "\t  0.6111111 & -0.6111111 & -0.63888889\\\\\n",
       "\t -0.6111111 &  0.6111111 & -0.36111111\\\\\n",
       "\t  0.6388889 &  0.3611111 &  0.01388889\\\\\n",
       "\\end{tabular}\n"
      ],
      "text/markdown": [
       "\n",
       "A matrix: 3 × 3 of type dbl\n",
       "\n",
       "|  0.6111111 | -0.6111111 | -0.63888889 |\n",
       "| -0.6111111 |  0.6111111 | -0.36111111 |\n",
       "|  0.6388889 |  0.3611111 |  0.01388889 |\n",
       "\n"
      ],
      "text/plain": [
       "     [,1]       [,2]       [,3]       \n",
       "[1,]  0.6111111 -0.6111111 -0.63888889\n",
       "[2,] -0.6111111  0.6111111 -0.36111111\n",
       "[3,]  0.6388889  0.3611111  0.01388889"
      ]
     },
     "metadata": {},
     "output_type": "display_data"
    }
   ],
   "source": [
    "sweep.operator(M,3)"
   ]
  },
  {
   "cell_type": "code",
   "execution_count": 52,
   "metadata": {},
   "outputs": [
    {
     "data": {
      "text/html": [
       "<table>\n",
       "<caption>A matrix: 3 × 3 of type dbl</caption>\n",
       "<tbody>\n",
       "\t<tr><td> 0.2272727</td><td>-0.3636364</td><td>1.000000e+00</td></tr>\n",
       "\t<tr><td>-0.3636364</td><td> 0.6818182</td><td>1.000000e+00</td></tr>\n",
       "\t<tr><td>-1.0000000</td><td>-1.0000000</td><td>5.329071e-15</td></tr>\n",
       "</tbody>\n",
       "</table>\n"
      ],
      "text/latex": [
       "A matrix: 3 × 3 of type dbl\n",
       "\\begin{tabular}{lll}\n",
       "\t  0.2272727 & -0.3636364 & 1.000000e+00\\\\\n",
       "\t -0.3636364 &  0.6818182 & 1.000000e+00\\\\\n",
       "\t -1.0000000 & -1.0000000 & 5.329071e-15\\\\\n",
       "\\end{tabular}\n"
      ],
      "text/markdown": [
       "\n",
       "A matrix: 3 × 3 of type dbl\n",
       "\n",
       "|  0.2272727 | -0.3636364 | 1.000000e+00 |\n",
       "| -0.3636364 |  0.6818182 | 1.000000e+00 |\n",
       "| -1.0000000 | -1.0000000 | 5.329071e-15 |\n",
       "\n"
      ],
      "text/plain": [
       "     [,1]       [,2]       [,3]        \n",
       "[1,]  0.2272727 -0.3636364 1.000000e+00\n",
       "[2,] -0.3636364  0.6818182 1.000000e+00\n",
       "[3,] -1.0000000 -1.0000000 5.329071e-15"
      ]
     },
     "metadata": {},
     "output_type": "display_data"
    }
   ],
   "source": [
    "sweep(sweep(M,1),2)"
   ]
  },
  {
   "cell_type": "code",
   "execution_count": 55,
   "metadata": {},
   "outputs": [
    {
     "data": {
      "text/html": [
       "<table>\n",
       "<caption>A matrix: 3 × 3 of type dbl</caption>\n",
       "<tbody>\n",
       "\t<tr><td> 0.2272727</td><td>-0.3636364</td><td>1.000000e+00</td></tr>\n",
       "\t<tr><td>-0.3636364</td><td> 0.6818182</td><td>1.000000e+00</td></tr>\n",
       "\t<tr><td>-1.0000000</td><td>-1.0000000</td><td>7.105427e-15</td></tr>\n",
       "</tbody>\n",
       "</table>\n"
      ],
      "text/latex": [
       "A matrix: 3 × 3 of type dbl\n",
       "\\begin{tabular}{lll}\n",
       "\t  0.2272727 & -0.3636364 & 1.000000e+00\\\\\n",
       "\t -0.3636364 &  0.6818182 & 1.000000e+00\\\\\n",
       "\t -1.0000000 & -1.0000000 & 7.105427e-15\\\\\n",
       "\\end{tabular}\n"
      ],
      "text/markdown": [
       "\n",
       "A matrix: 3 × 3 of type dbl\n",
       "\n",
       "|  0.2272727 | -0.3636364 | 1.000000e+00 |\n",
       "| -0.3636364 |  0.6818182 | 1.000000e+00 |\n",
       "| -1.0000000 | -1.0000000 | 7.105427e-15 |\n",
       "\n"
      ],
      "text/plain": [
       "     [,1]       [,2]       [,3]        \n",
       "[1,]  0.2272727 -0.3636364 1.000000e+00\n",
       "[2,] -0.3636364  0.6818182 1.000000e+00\n",
       "[3,] -1.0000000 -1.0000000 7.105427e-15"
      ]
     },
     "metadata": {},
     "output_type": "display_data"
    }
   ],
   "source": [
    "sweep(sweep(M,2),1)"
   ]
  },
  {
   "cell_type": "markdown",
   "metadata": {},
   "source": [
    "Intentemos calcular la inversa de la matriz con sweep"
   ]
  },
  {
   "cell_type": "code",
   "execution_count": 63,
   "metadata": {},
   "outputs": [
    {
     "ename": "ERROR",
     "evalue": "Error in sweep.operator(sweep.operator(M, 3), 2): only implemented for symmetric matrices.\n",
     "output_type": "error",
     "traceback": [
      "Error in sweep.operator(sweep.operator(M, 3), 2): only implemented for symmetric matrices.\nTraceback:\n",
      "1. sweep.operator(sweep.operator(sweep.operator(M, 3), 2), 1)",
      "2. is.data.frame(x)",
      "3. sweep.operator(sweep.operator(M, 3), 2)",
      "4. stop(\"only implemented for symmetric matrices.\")"
     ]
    }
   ],
   "source": [
    "inv_M=sweep.operator(sweep.operator(sweep.operator(M,3),2),1)\n",
    "inv_M"
   ]
  },
  {
   "cell_type": "code",
   "execution_count": 64,
   "metadata": {},
   "outputs": [],
   "source": [
    "inv_sweep = function (A) {\n",
    "n = dim(A)[1]\n",
    "B = A\n",
    "for (i in 1:n){\n",
    "B = sweep(B,i)\n",
    "}\n",
    "return(B)\n",
    "}"
   ]
  },
  {
   "cell_type": "code",
   "execution_count": 67,
   "metadata": {},
   "outputs": [
    {
     "data": {
      "text/html": [
       "<table>\n",
       "<caption>A matrix: 3 × 3 of type dbl</caption>\n",
       "<tbody>\n",
       "\t<tr><td> 1.407375e+14</td><td> 1.407375e+14</td><td>-1.407375e+14</td></tr>\n",
       "\t<tr><td> 1.407375e+14</td><td> 1.407375e+14</td><td>-1.407375e+14</td></tr>\n",
       "\t<tr><td>-1.407375e+14</td><td>-1.407375e+14</td><td> 1.407375e+14</td></tr>\n",
       "</tbody>\n",
       "</table>\n"
      ],
      "text/latex": [
       "A matrix: 3 × 3 of type dbl\n",
       "\\begin{tabular}{lll}\n",
       "\t  1.407375e+14 &  1.407375e+14 & -1.407375e+14\\\\\n",
       "\t  1.407375e+14 &  1.407375e+14 & -1.407375e+14\\\\\n",
       "\t -1.407375e+14 & -1.407375e+14 &  1.407375e+14\\\\\n",
       "\\end{tabular}\n"
      ],
      "text/markdown": [
       "\n",
       "A matrix: 3 × 3 of type dbl\n",
       "\n",
       "|  1.407375e+14 |  1.407375e+14 | -1.407375e+14 |\n",
       "|  1.407375e+14 |  1.407375e+14 | -1.407375e+14 |\n",
       "| -1.407375e+14 | -1.407375e+14 |  1.407375e+14 |\n",
       "\n"
      ],
      "text/plain": [
       "     [,1]          [,2]          [,3]         \n",
       "[1,]  1.407375e+14  1.407375e+14 -1.407375e+14\n",
       "[2,]  1.407375e+14  1.407375e+14 -1.407375e+14\n",
       "[3,] -1.407375e+14 -1.407375e+14  1.407375e+14"
      ]
     },
     "metadata": {},
     "output_type": "display_data"
    }
   ],
   "source": [
    "sweep(sweep(sweep(M,2),1),3)"
   ]
  },
  {
   "cell_type": "code",
   "execution_count": 68,
   "metadata": {},
   "outputs": [
    {
     "data": {
      "text/html": [
       "<table>\n",
       "<caption>A matrix: 3 × 3 of type dbl</caption>\n",
       "<tbody>\n",
       "\t<tr><td> 1.8765e+14</td><td> 1.8765e+14</td><td>-1.8765e+14</td></tr>\n",
       "\t<tr><td> 1.8765e+14</td><td> 1.8765e+14</td><td>-1.8765e+14</td></tr>\n",
       "\t<tr><td>-1.8765e+14</td><td>-1.8765e+14</td><td> 1.8765e+14</td></tr>\n",
       "</tbody>\n",
       "</table>\n"
      ],
      "text/latex": [
       "A matrix: 3 × 3 of type dbl\n",
       "\\begin{tabular}{lll}\n",
       "\t  1.8765e+14 &  1.8765e+14 & -1.8765e+14\\\\\n",
       "\t  1.8765e+14 &  1.8765e+14 & -1.8765e+14\\\\\n",
       "\t -1.8765e+14 & -1.8765e+14 &  1.8765e+14\\\\\n",
       "\\end{tabular}\n"
      ],
      "text/markdown": [
       "\n",
       "A matrix: 3 × 3 of type dbl\n",
       "\n",
       "|  1.8765e+14 |  1.8765e+14 | -1.8765e+14 |\n",
       "|  1.8765e+14 |  1.8765e+14 | -1.8765e+14 |\n",
       "| -1.8765e+14 | -1.8765e+14 |  1.8765e+14 |\n",
       "\n"
      ],
      "text/plain": [
       "     [,1]        [,2]        [,3]       \n",
       "[1,]  1.8765e+14  1.8765e+14 -1.8765e+14\n",
       "[2,]  1.8765e+14  1.8765e+14 -1.8765e+14\n",
       "[3,] -1.8765e+14 -1.8765e+14  1.8765e+14"
      ]
     },
     "metadata": {},
     "output_type": "display_data"
    }
   ],
   "source": [
    "inv_sweep(M)"
   ]
  },
  {
   "cell_type": "code",
   "execution_count": 69,
   "metadata": {},
   "outputs": [
    {
     "ename": "ERROR",
     "evalue": "Error in solve.default(M): sistema es computacionalmente singular: número de condición recíproco = 3.85494e-18\n",
     "output_type": "error",
     "traceback": [
      "Error in solve.default(M): sistema es computacionalmente singular: número de condición recíproco = 3.85494e-18\nTraceback:\n",
      "1. solve(M)",
      "2. solve.default(M)"
     ]
    }
   ],
   "source": [
    "solve(M)"
   ]
  },
  {
   "cell_type": "code",
   "execution_count": 70,
   "metadata": {},
   "outputs": [
    {
     "data": {
      "text/html": [
       "\n",
       "<table width=\"100%\" summary=\"page for solve {base}\"><tr><td>solve {base}</td><td style=\"text-align: right;\">R Documentation</td></tr></table>\n",
       "\n",
       "<h2>Solve a System of Equations</h2>\n",
       "\n",
       "<h3>Description</h3>\n",
       "\n",
       "<p>This generic function solves the equation <code>a %*% x = b</code> for <code>x</code>,\n",
       "where <code>b</code> can be either a vector or a matrix.\n",
       "</p>\n",
       "\n",
       "\n",
       "<h3>Usage</h3>\n",
       "\n",
       "<pre>\n",
       "solve(a, b, ...)\n",
       "\n",
       "## Default S3 method:\n",
       "solve(a, b, tol, LINPACK = FALSE, ...)\n",
       "</pre>\n",
       "\n",
       "\n",
       "<h3>Arguments</h3>\n",
       "\n",
       "<table summary=\"R argblock\">\n",
       "<tr valign=\"top\"><td><code>a</code></td>\n",
       "<td>\n",
       "<p>a square numeric or complex matrix containing the coefficients of\n",
       "the linear system.  Logical matrices are coerced to numeric.</p>\n",
       "</td></tr>\n",
       "<tr valign=\"top\"><td><code>b</code></td>\n",
       "<td>\n",
       "<p>a numeric or complex vector or matrix giving the right-hand\n",
       "side(s) of the linear system.  If missing, <code>b</code> is taken to be\n",
       "an identity matrix and <code>solve</code> will return the inverse of <code>a</code>.</p>\n",
       "</td></tr>\n",
       "<tr valign=\"top\"><td><code>tol</code></td>\n",
       "<td>\n",
       "<p>the tolerance for detecting linear dependencies in the\n",
       "columns of <code>a</code>.  The default is <code>.Machine$double.eps</code>. Not\n",
       "currently used with complex matrices <code>a</code>.</p>\n",
       "</td></tr>\n",
       "<tr valign=\"top\"><td><code>LINPACK</code></td>\n",
       "<td>\n",
       "<p>logical.  Defunct and ignored.</p>\n",
       "</td></tr>\n",
       "<tr valign=\"top\"><td><code>...</code></td>\n",
       "<td>\n",
       "<p>further arguments passed to or from other methods</p>\n",
       "</td></tr>\n",
       "</table>\n",
       "\n",
       "\n",
       "<h3>Details</h3>\n",
       "\n",
       "<p><code>a</code> or <code>b</code> can be complex, but this uses double complex\n",
       "arithmetic which might not be available on all platforms.\n",
       "</p>\n",
       "<p>The row and column names of the result are taken from the column names\n",
       "of <code>a</code> and of <code>b</code> respectively.  If <code>b</code> is missing the\n",
       "column names of the result are the row names of <code>a</code>.  No check is\n",
       "made that the column names of <code>a</code> and the row names of <code>b</code>\n",
       "are equal.\n",
       "</p>\n",
       "<p>For back-compatibility <code>a</code> can be a (real) QR decomposition,\n",
       "although <code>qr.solve</code> should be called in that case.\n",
       "<code>qr.solve</code> can handle non-square systems.\n",
       "</p>\n",
       "<p>Unsuccessful results from the underlying LAPACK code will result in an\n",
       "error giving a positive error code: these can only be interpreted by\n",
       "detailed study of the FORTRAN code.\n",
       "</p>\n",
       "\n",
       "\n",
       "<h3>Source</h3>\n",
       "\n",
       "<p>The default method is an interface to the LAPACK routines <code>DGESV</code>\n",
       "and <code>ZGESV</code>.\n",
       "</p>\n",
       "<p>LAPACK is from <a href=\"http://www.netlib.org/lapack\">http://www.netlib.org/lapack</a>.\n",
       "</p>\n",
       "\n",
       "\n",
       "<h3>References</h3>\n",
       "\n",
       "<p>Anderson. E. and ten others (1999)\n",
       "<em>LAPACK Users' Guide</em>. Third Edition. SIAM.<br />\n",
       "Available on-line at\n",
       "<a href=\"http://www.netlib.org/lapack/lug/lapack_lug.html\">http://www.netlib.org/lapack/lug/lapack_lug.html</a>.\n",
       "</p>\n",
       "<p>Becker, R. A., Chambers, J. M. and Wilks, A. R. (1988)\n",
       "<em>The New S Language</em>.\n",
       "Wadsworth &amp; Brooks/Cole.\n",
       "</p>\n",
       "\n",
       "\n",
       "<h3>See Also</h3>\n",
       "\n",
       "<p><code>solve.qr</code> for the <code>qr</code> method,\n",
       "<code>chol2inv</code> for inverting from the Choleski factor\n",
       "<code>backsolve</code>, <code>qr.solve</code>.\n",
       "</p>\n",
       "\n",
       "\n",
       "<h3>Examples</h3>\n",
       "\n",
       "<pre>\n",
       "hilbert &lt;- function(n) { i &lt;- 1:n; 1 / outer(i - 1, i, \"+\") }\n",
       "h8 &lt;- hilbert(8); h8\n",
       "sh8 &lt;- solve(h8)\n",
       "round(sh8 %*% h8, 3)\n",
       "\n",
       "A &lt;- hilbert(4)\n",
       "A[] &lt;- as.complex(A)\n",
       "## might not be supported on all platforms\n",
       "try(solve(A))\n",
       "</pre>\n",
       "\n",
       "<hr /><div style=\"text-align: center;\">[Package <em>base</em> version 3.5.2 ]</div>"
      ],
      "text/latex": [
       "\\inputencoding{utf8}\n",
       "\\HeaderA{solve}{Solve a System of Equations}{solve}\n",
       "\\methaliasA{solve.default}{solve}{solve.default}\n",
       "\\keyword{algebra}{solve}\n",
       "%\n",
       "\\begin{Description}\\relax\n",
       "This generic function solves the equation \\code{a \\%*\\% x = b} for \\code{x},\n",
       "where \\code{b} can be either a vector or a matrix.\n",
       "\\end{Description}\n",
       "%\n",
       "\\begin{Usage}\n",
       "\\begin{verbatim}\n",
       "solve(a, b, ...)\n",
       "\n",
       "## Default S3 method:\n",
       "solve(a, b, tol, LINPACK = FALSE, ...)\n",
       "\\end{verbatim}\n",
       "\\end{Usage}\n",
       "%\n",
       "\\begin{Arguments}\n",
       "\\begin{ldescription}\n",
       "\\item[\\code{a}] a square numeric or complex matrix containing the coefficients of\n",
       "the linear system.  Logical matrices are coerced to numeric.\n",
       "\\item[\\code{b}] a numeric or complex vector or matrix giving the right-hand\n",
       "side(s) of the linear system.  If missing, \\code{b} is taken to be\n",
       "an identity matrix and \\code{solve} will return the inverse of \\code{a}.\n",
       "\\item[\\code{tol}] the tolerance for detecting linear dependencies in the\n",
       "columns of \\code{a}.  The default is \\code{.Machine\\$double.eps}. Not\n",
       "currently used with complex matrices \\code{a}.\n",
       "\\item[\\code{LINPACK}] logical.  Defunct and ignored.\n",
       "\\item[\\code{...}] further arguments passed to or from other methods\n",
       "\\end{ldescription}\n",
       "\\end{Arguments}\n",
       "%\n",
       "\\begin{Details}\\relax\n",
       "\\code{a} or \\code{b} can be complex, but this uses double complex\n",
       "arithmetic which might not be available on all platforms.\n",
       "\n",
       "The row and column names of the result are taken from the column names\n",
       "of \\code{a} and of \\code{b} respectively.  If \\code{b} is missing the\n",
       "column names of the result are the row names of \\code{a}.  No check is\n",
       "made that the column names of \\code{a} and the row names of \\code{b}\n",
       "are equal.\n",
       "\n",
       "For back-compatibility \\code{a} can be a (real) QR decomposition,\n",
       "although \\code{\\LinkA{qr.solve}{qr.solve}} should be called in that case.\n",
       "\\code{\\LinkA{qr.solve}{qr.solve}} can handle non-square systems.\n",
       "\n",
       "Unsuccessful results from the underlying LAPACK code will result in an\n",
       "error giving a positive error code: these can only be interpreted by\n",
       "detailed study of the FORTRAN code.\n",
       "\\end{Details}\n",
       "%\n",
       "\\begin{Source}\\relax\n",
       "The default method is an interface to the LAPACK routines \\code{DGESV}\n",
       "and \\code{ZGESV}.\n",
       "\n",
       "LAPACK is from \\url{http://www.netlib.org/lapack}.\n",
       "\\end{Source}\n",
       "%\n",
       "\\begin{References}\\relax\n",
       "Anderson. E. and ten others (1999)\n",
       "\\emph{LAPACK Users' Guide}. Third Edition. SIAM.\\\\{}\n",
       "Available on-line at\n",
       "\\url{http://www.netlib.org/lapack/lug/lapack_lug.html}.\n",
       "\n",
       "Becker, R. A., Chambers, J. M. and Wilks, A. R. (1988)\n",
       "\\emph{The New S Language}.\n",
       "Wadsworth \\& Brooks/Cole.\n",
       "\\end{References}\n",
       "%\n",
       "\\begin{SeeAlso}\\relax\n",
       "\\code{\\LinkA{solve.qr}{solve.qr}} for the \\code{qr} method,\n",
       "\\code{\\LinkA{chol2inv}{chol2inv}} for inverting from the Choleski factor\n",
       "\\code{\\LinkA{backsolve}{backsolve}}, \\code{\\LinkA{qr.solve}{qr.solve}}.\n",
       "\\end{SeeAlso}\n",
       "%\n",
       "\\begin{Examples}\n",
       "\\begin{ExampleCode}\n",
       "hilbert <- function(n) { i <- 1:n; 1 / outer(i - 1, i, \"+\") }\n",
       "h8 <- hilbert(8); h8\n",
       "sh8 <- solve(h8)\n",
       "round(sh8 %*% h8, 3)\n",
       "\n",
       "A <- hilbert(4)\n",
       "A[] <- as.complex(A)\n",
       "## might not be supported on all platforms\n",
       "try(solve(A))\n",
       "\\end{ExampleCode}\n",
       "\\end{Examples}"
      ],
      "text/plain": [
       "solve                   package:base                   R Documentation\n",
       "\n",
       "_\bS_\bo_\bl_\bv_\be _\ba _\bS_\by_\bs_\bt_\be_\bm _\bo_\bf _\bE_\bq_\bu_\ba_\bt_\bi_\bo_\bn_\bs\n",
       "\n",
       "_\bD_\be_\bs_\bc_\br_\bi_\bp_\bt_\bi_\bo_\bn:\n",
       "\n",
       "     This generic function solves the equation ‘a %*% x = b’ for ‘x’,\n",
       "     where ‘b’ can be either a vector or a matrix.\n",
       "\n",
       "_\bU_\bs_\ba_\bg_\be:\n",
       "\n",
       "     solve(a, b, ...)\n",
       "     \n",
       "     ## Default S3 method:\n",
       "     solve(a, b, tol, LINPACK = FALSE, ...)\n",
       "     \n",
       "_\bA_\br_\bg_\bu_\bm_\be_\bn_\bt_\bs:\n",
       "\n",
       "       a: a square numeric or complex matrix containing the\n",
       "          coefficients of the linear system.  Logical matrices are\n",
       "          coerced to numeric.\n",
       "\n",
       "       b: a numeric or complex vector or matrix giving the right-hand\n",
       "          side(s) of the linear system.  If missing, ‘b’ is taken to be\n",
       "          an identity matrix and ‘solve’ will return the inverse of\n",
       "          ‘a’.\n",
       "\n",
       "     tol: the tolerance for detecting linear dependencies in the\n",
       "          columns of ‘a’.  The default is ‘.Machine$double.eps’. Not\n",
       "          currently used with complex matrices ‘a’.\n",
       "\n",
       " LINPACK: logical.  Defunct and ignored.\n",
       "\n",
       "     ...: further arguments passed to or from other methods\n",
       "\n",
       "_\bD_\be_\bt_\ba_\bi_\bl_\bs:\n",
       "\n",
       "     ‘a’ or ‘b’ can be complex, but this uses double complex arithmetic\n",
       "     which might not be available on all platforms.\n",
       "\n",
       "     The row and column names of the result are taken from the column\n",
       "     names of ‘a’ and of ‘b’ respectively.  If ‘b’ is missing the\n",
       "     column names of the result are the row names of ‘a’.  No check is\n",
       "     made that the column names of ‘a’ and the row names of ‘b’ are\n",
       "     equal.\n",
       "\n",
       "     For back-compatibility ‘a’ can be a (real) QR decomposition,\n",
       "     although ‘qr.solve’ should be called in that case.  ‘qr.solve’ can\n",
       "     handle non-square systems.\n",
       "\n",
       "     Unsuccessful results from the underlying LAPACK code will result\n",
       "     in an error giving a positive error code: these can only be\n",
       "     interpreted by detailed study of the FORTRAN code.\n",
       "\n",
       "_\bS_\bo_\bu_\br_\bc_\be:\n",
       "\n",
       "     The default method is an interface to the LAPACK routines ‘DGESV’\n",
       "     and ‘ZGESV’.\n",
       "\n",
       "     LAPACK is from <URL: http://www.netlib.org/lapack>.\n",
       "\n",
       "_\bR_\be_\bf_\be_\br_\be_\bn_\bc_\be_\bs:\n",
       "\n",
       "     Anderson. E. and ten others (1999) _LAPACK Users' Guide_. Third\n",
       "     Edition. SIAM.\n",
       "     Available on-line at <URL:\n",
       "     http://www.netlib.org/lapack/lug/lapack_lug.html>.\n",
       "\n",
       "     Becker, R. A., Chambers, J. M. and Wilks, A. R. (1988) _The New S\n",
       "     Language_.  Wadsworth & Brooks/Cole.\n",
       "\n",
       "_\bS_\be_\be _\bA_\bl_\bs_\bo:\n",
       "\n",
       "     ‘solve.qr’ for the ‘qr’ method, ‘chol2inv’ for inverting from the\n",
       "     Choleski factor ‘backsolve’, ‘qr.solve’.\n",
       "\n",
       "_\bE_\bx_\ba_\bm_\bp_\bl_\be_\bs:\n",
       "\n",
       "     hilbert <- function(n) { i <- 1:n; 1 / outer(i - 1, i, \"+\") }\n",
       "     h8 <- hilbert(8); h8\n",
       "     sh8 <- solve(h8)\n",
       "     round(sh8 %*% h8, 3)\n",
       "     \n",
       "     A <- hilbert(4)\n",
       "     A[] <- as.complex(A)\n",
       "     ## might not be supported on all platforms\n",
       "     try(solve(A))\n",
       "     "
      ]
     },
     "metadata": {},
     "output_type": "display_data"
    }
   ],
   "source": [
    "help(solve)"
   ]
  },
  {
   "cell_type": "code",
   "execution_count": null,
   "metadata": {},
   "outputs": [],
   "source": []
  }
 ],
 "metadata": {
  "kernelspec": {
   "display_name": "R",
   "language": "R",
   "name": "ir"
  },
  "language_info": {
   "codemirror_mode": "r",
   "file_extension": ".r",
   "mimetype": "text/x-r-source",
   "name": "R",
   "pygments_lexer": "r",
   "version": "3.5.2"
  }
 },
 "nbformat": 4,
 "nbformat_minor": 4
}
